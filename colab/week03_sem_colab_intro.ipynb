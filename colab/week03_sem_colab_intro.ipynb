{
 "cells": [
  {
   "cell_type": "markdown",
   "id": "0e74ed4f",
   "metadata": {},
   "source": [
    "<a href=\"https://colab.research.google.com/github/vddavydova/public/blob/main/colab/week03_sem_colab_intro.ipynb\" target=\"_parent\"><img src=\"https://colab.research.google.com/assets/colab-badge.svg\" alt=\"Open In Colab\"/></a>"
   ]
  },
  {
   "cell_type": "markdown",
   "id": "f5daa9b9",
   "metadata": {},
   "source": [
    "# <center> for and while\n",
    "\n",
    "![](https://media.giphy.com/media/fm4WhPMzu9hRK/giphy.gif)"
   ]
  },
  {
   "cell_type": "markdown",
   "id": "79a21f17",
   "metadata": {},
   "source": [
    "# Problem #0. Наибольшее из двух\n",
    "\n",
    "Попробуем написать программу, которая получает от пользователя два числа и определяет, какое из них больше. Для ввода данных пользователем используется функция `input()`. Т.к. в рамках этой задачи мы ожидаем от пользователя число, мы сразу преобразуем введенную им строку в тип `int` : `int(input())`. Теперь, если пользователь введет не число, мы получим ошибку.\n",
    "\n",
    "После того, как мы получили от пользователя два числа и записали их в переменные x и y, мы проверяем, какое из чисел больше, и выводим результат сравнения."
   ]
  },
  {
   "cell_type": "code",
   "execution_count": null,
   "id": "f8621a95",
   "metadata": {},
   "outputs": [],
   "source": [
    "# YOUR CODE"
   ]
  },
  {
   "cell_type": "markdown",
   "id": "7e938d87",
   "metadata": {},
   "source": [
    "# Problem #1. Считаем сумму элементов списка \n",
    "\n",
    "Пройтись в цикле по элементам списка и посчитать их сумму.\n",
    "\n",
    "ФОРМАТ ВВОДА \n",
    "\n",
    "Программа получает на вход числа через пробел\n",
    "\n",
    "ФОРМАТ ВЫВОДА \n",
    "\n",
    "Сумма элементов списка"
   ]
  },
  {
   "cell_type": "code",
   "execution_count": null,
   "id": "8167e5d3",
   "metadata": {},
   "outputs": [],
   "source": [
    "# YOUR CODE"
   ]
  },
  {
   "cell_type": "markdown",
   "id": "81ff25a9",
   "metadata": {},
   "source": [
    "# Problem #2. Наименьшее из положительных \n",
    "\n",
    "Выведите значение наименьшего из всех положительных элементов в списке. Известно, что в списке есть хотя бы один положительный элемент, а значения всех элементов списка по модулю не превосходят 1000.\n",
    "\n",
    "ФОРМАТ ВВОДА <br>\n",
    "\n",
    "Вводится список чисел. Все числа списка находятся на одной строке.\n",
    "\n",
    "ФОРМАТ ВЫВОДА <br>\n",
    "\n",
    "Выведите ответ на задачу.\n",
    "<br>\n",
    "<br>\n",
    "\n",
    "Пример 1\n",
    "\n",
    "**Ввод**\n",
    "\n",
    "5 -4 3 -2 1\n",
    "\n",
    "**Вывод**\n",
    "\n",
    "1\n",
    "<br>\n",
    "<br>\n",
    "\n",
    "\n",
    "Пример 2\n",
    "\n",
    "**Ввод**\n",
    "\n",
    "10 5 0 -5 -10\n",
    "\n",
    "**Вывод**\n",
    "\n",
    "5\n",
    "<br>\n",
    "<br>\n",
    "\n",
    "\n",
    "Пример 3\n",
    "\n",
    "**Ввод**\n",
    "\n",
    "-1 -2 -3 -4 100\n",
    "\n",
    "**Вывод**\n",
    "\n",
    "100"
   ]
  },
  {
   "cell_type": "code",
   "execution_count": null,
   "id": "6429c395",
   "metadata": {},
   "outputs": [],
   "source": [
    "# YOUR CODE"
   ]
  },
  {
   "cell_type": "markdown",
   "id": "7f2e3a5b",
   "metadata": {},
   "source": [
    "# Problem #3. Беги, герой!\n",
    "\n",
    "Вася начал бегать и в первый день он пробежал X километров и выдохся. Вася поставил себе цель Y километров и решил узнать, когда он ее достигнет, если каждый день будет бегать дистанцию на 10% больше, чем в предыдущий.\n",
    "<br>\n",
    "<br>\n",
    "\n",
    "ФОРМАТ ВВОДА <br>\n",
    "\n",
    "Программа получает на вход целые числа X, Y\n",
    "\n",
    "ФОРМАТ ВЫВОДА <br>\n",
    "\n",
    "Одно целое число (день, когда Вася пробежит свою цель)\n",
    "\n",
    "\n",
    "<br>\n",
    "Пример\n",
    "\n",
    "**Ввод**\n",
    "\n",
    "10\n",
    "21\n",
    "\n",
    "**Вывод**\n",
    "\n",
    "9"
   ]
  },
  {
   "cell_type": "code",
   "execution_count": null,
   "id": "9287f117",
   "metadata": {},
   "outputs": [],
   "source": [
    "# YOUR CODE"
   ]
  },
  {
   "cell_type": "markdown",
   "id": "27e3ca55",
   "metadata": {},
   "source": [
    "# Problem #4\n",
    "В первый день сессии студент с 1 курса выпил редбулл (250 мл). Однако на следующий день он понял, что такого количества не хватает для освоения микроэкономики и питона, и стал пить ежедневно на 150 мл больше. На какой день студент выпьет больше, чем литр? Сколько миллилитров он выпьет за это время?\n",
    "Подсказка: нужно изначально сделать две переменных-счетчика"
   ]
  },
  {
   "cell_type": "code",
   "execution_count": null,
   "id": "6ea5f77c",
   "metadata": {},
   "outputs": [],
   "source": [
    "# YOUR CODE"
   ]
  },
  {
   "cell_type": "markdown",
   "id": "714eb1ca",
   "metadata": {},
   "source": [
    "# Problem #5\n",
    "Программа по вычислению факториала числа, заданного пользователем"
   ]
  },
  {
   "cell_type": "code",
   "execution_count": null,
   "id": "def82817",
   "metadata": {},
   "outputs": [],
   "source": [
    "# YOUR CODE"
   ]
  }
 ],
 "metadata": {
  "kernelspec": {
   "display_name": "Python 3 (ipykernel)",
   "language": "python",
   "name": "python3"
  },
  "language_info": {
   "codemirror_mode": {
    "name": "ipython",
    "version": 3
   },
   "file_extension": ".py",
   "mimetype": "text/x-python",
   "name": "python",
   "nbconvert_exporter": "python",
   "pygments_lexer": "ipython3",
   "version": "3.9.13"
  }
 },
 "nbformat": 4,
 "nbformat_minor": 5
}
