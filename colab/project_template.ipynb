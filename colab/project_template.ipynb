{
 "cells": [
  {
   "cell_type": "markdown",
   "id": "c60575ed",
   "metadata": {
    "colab_type": "text",
    "id": "view-in-github"
   },
   "source": [
    "<a href=\"https://colab.research.google.com/github/vddavydova/public/blob/main/colab/project_template.ipynb\" target=\"_parent\"><img src=\"https://colab.research.google.com/assets/colab-badge.svg\" alt=\"Open In Colab\"/></a>"
   ]
  },
  {
   "cell_type": "markdown",
   "id": "b3335545",
   "metadata": {
    "id": "b3335545"
   },
   "source": [
    "# dap_spring_2023"
   ]
  },
  {
   "cell_type": "markdown",
   "id": "83f91aea",
   "metadata": {
    "id": "83f91aea"
   },
   "source": [
    "### project topic"
   ]
  },
  {
   "cell_type": "markdown",
   "id": "a4441ef0",
   "metadata": {
    "id": "a4441ef0"
   },
   "source": [
    "____"
   ]
  },
  {
   "cell_type": "markdown",
   "id": "48b23dfe",
   "metadata": {
    "id": "48b23dfe"
   },
   "source": [
    "**Group:**  <br>\n",
    "    \n",
    "**Author(s):** fio and mail <br>\n",
    "    \n",
    "**Description:** ... <br>"
   ]
  },
  {
   "cell_type": "markdown",
   "id": "d8779ce9-cd68-473e-8b34-0a5b43fae89d",
   "metadata": {},
   "source": [
    "Support your computations with figures and comments.\n",
    "\n",
    "If you are using IPython Notebook you may use this file as a starting point of your report."
   ]
  },
  {
   "cell_type": "code",
   "execution_count": null,
   "id": "37047a05",
   "metadata": {
    "id": "37047a05"
   },
   "outputs": [],
   "source": [
    "# code"
   ]
  },
  {
   "cell_type": "code",
   "execution_count": null,
   "id": "e019d120",
   "metadata": {
    "id": "e019d120"
   },
   "outputs": [],
   "source": [
    "# code"
   ]
  },
  {
   "cell_type": "code",
   "execution_count": null,
   "id": "edcbd44a",
   "metadata": {
    "id": "edcbd44a"
   },
   "outputs": [],
   "source": [
    "# code"
   ]
  },
  {
   "cell_type": "markdown",
   "id": "c0254733",
   "metadata": {
    "id": "c0254733"
   },
   "source": [
    "### conclusion"
   ]
  },
  {
   "cell_type": "code",
   "execution_count": null,
   "id": "578ce3a1",
   "metadata": {
    "id": "578ce3a1"
   },
   "outputs": [],
   "source": []
  }
 ],
 "metadata": {
  "colab": {
   "collapsed_sections": [],
   "include_colab_link": true,
   "name": "template.ipynb",
   "provenance": []
  },
  "kernelspec": {
   "display_name": "Python 3 (ipykernel)",
   "language": "python",
   "name": "python3"
  },
  "language_info": {
   "codemirror_mode": {
    "name": "ipython",
    "version": 3
   },
   "file_extension": ".py",
   "mimetype": "text/x-python",
   "name": "python",
   "nbconvert_exporter": "python",
   "pygments_lexer": "ipython3",
   "version": "3.9.13"
  }
 },
 "nbformat": 4,
 "nbformat_minor": 5
}
