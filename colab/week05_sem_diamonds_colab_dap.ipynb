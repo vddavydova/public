{
 "cells": [
  {
   "cell_type": "markdown",
   "metadata": {},
   "source": [
    "<a href=\"https://colab.research.google.com/github/vddavydova/public/blob/main/colab/week05_sem_diamonds_colab_dap.ipynb\" target=\"_parent\"><img src=\"https://colab.research.google.com/assets/colab-badge.svg\" alt=\"Open In Colab\"/></a>"
   ]
  },
  {
   "cell_type": "markdown",
   "metadata": {
    "id": "3Mk-Yh-B60hr",
    "toc": true
   },
   "source": [
    "# <center> Week 05. Seminar. Exploratory data analysis using Python packages: part 1 </center>\n",
    "\n",
    "# <center> diamonds"
   ]
  },
  {
   "cell_type": "markdown",
   "metadata": {
    "id": "RiX4BSlA60hs"
   },
   "source": [
    "# Введение в pandas"
   ]
  },
  {
   "cell_type": "markdown",
   "metadata": {
    "id": "WtUhQqnm60ht"
   },
   "source": [
    "- Pandas — библиотека языка Python для удобных обработки и анализа данных.\n",
    "- Официальная документация [тут](https://pandas.pydata.org/docs/user_guide/index.html#user-guide)\n",
    "---\n",
    "\n",
    "Необязательное ДЗ\n",
    "- проработать [статью](https://habr.com/ru/company/ods/blog/322626/) про то как в pandas можно делать разные штуки"
   ]
  },
  {
   "cell_type": "markdown",
   "metadata": {
    "id": "3ZYX4eDk60hu"
   },
   "source": [
    "## Загружаем и смотрим датасет"
   ]
  },
  {
   "cell_type": "code",
   "execution_count": null,
   "metadata": {
    "id": "Zhy04XbE60hw"
   },
   "outputs": [],
   "source": [
    "# импортируем библиотеку `pandas` \n",
    "    \n",
    "import pandas as pd"
   ]
  },
  {
   "cell_type": "code",
   "execution_count": null,
   "metadata": {
    "id": "xWFrQv-V60h0"
   },
   "outputs": [],
   "source": [
    "# ! pip install pandas # установка модуля, если его нет и выше ошибка\n",
    "# ! pip install --upgrade pandas # обновление модуля"
   ]
  },
  {
   "cell_type": "markdown",
   "metadata": {
    "id": "pIHCC4YN60h3"
   },
   "source": [
    "- Будем анализировать классический датасет о бриллиантах. \n",
    "- Больше информации о нем [тут](https://www.kaggle.com/shivam2503/diamonds).\n",
    "- Скачать можно [тут](https://github.com/vddavydova/public/blob/main/data/diamonds.csv)\n",
    "\n",
    "Описание колонок датасета:\n",
    "- `price` – цена бриллианта (в долларах)\n",
    "\n",
    "- `carat` – масса бриллианта (в каратах)\n",
    "\n",
    "- `cut` – качество огранки бриллианта (Fair, Good, Very Good, Premium, Ideal)\n",
    "\n",
    "- `color` – цвет бриллианта, from J (худший) to D (лучший)\n",
    "\n",
    "- `clarity` – чистота бриллианта (I1 (худший), SI2, SI1, VS2, VS1, VVS2, VVS1, IF (лучший))\n",
    "\n",
    "- `x`, `y`, `z` – длина, ширина, высота (в мм)\n",
    "\n",
    "- `depth` – процент глубины равный 2 * z / (x + y)\n",
    "\n",
    "- `table` – ширина площадки сверху бриллианта"
   ]
  },
  {
   "cell_type": "markdown",
   "metadata": {
    "id": "tpZLcfGE60h4"
   },
   "source": [
    "Загружаем датасет из `csv`-файла в переменную `df` специального типа `pd.DataFrame`. Внимательно указываем путь к файлу.\n",
    "\n",
    "Если не хотите указывать путь к файлу, переместите датасет в ту же папку, где и ноутбук!"
   ]
  },
  {
   "cell_type": "code",
   "execution_count": null,
   "metadata": {
    "id": "pRiY9qir60h8"
   },
   "outputs": [],
   "source": [
    "## если вы потерялись, где вы, проверьте!\n",
    "import os \n",
    "os.getcwd()"
   ]
  },
  {
   "cell_type": "code",
   "execution_count": null,
   "metadata": {
    "id": "xAZWeHWk60h5"
   },
   "outputs": [],
   "source": [
    "df = pd.read_csv('https://raw.githubusercontent.com/vddavydova/public/main/data/diamonds.csv', index_col=0)\n",
    "\n",
    "## если нужно указать путь к файлу\n",
    "#df = pd.read_csv('~/Downloads/diamonds.csv')"
   ]
  },
  {
   "cell_type": "code",
   "execution_count": null,
   "metadata": {
    "id": "hA-ey00260h_",
    "outputId": "b79297bc-648c-42bd-cdb5-75eed16b4274"
   },
   "outputs": [],
   "source": [
    "df"
   ]
  },
  {
   "cell_type": "code",
   "execution_count": null,
   "metadata": {
    "id": "4feYnVGt60iE",
    "outputId": "15e8c555-a1be-4810-d31d-111b89659659"
   },
   "outputs": [],
   "source": [
    "type(df)"
   ]
  },
  {
   "cell_type": "markdown",
   "metadata": {
    "id": "SMM1eCCb60iI"
   },
   "source": [
    "у функции `read_csv`, есть ряд важных параметров, которые иногда могут пригодиться\n",
    "- `sep` — разделитель данных, по умолчанию `','`\n",
    "- `decimal` — разделитель числа на целую и дробную часть, по умолчанию `'.'`\n",
    "- `names` — список с названиями колонок\n",
    "- `skiprows` — если файл содержит системную информацию, можно просто её пропустить\n",
    "- `index_col` - номер колонки с индексом"
   ]
  },
  {
   "cell_type": "markdown",
   "metadata": {
    "id": "Z0YX_gLM60iJ"
   },
   "source": [
    "Посмотрим на первые 10 строк датасета с помощью метода `.head()` и последние 5 строк с помощью метода `.tail()`"
   ]
  },
  {
   "cell_type": "code",
   "execution_count": null,
   "metadata": {
    "id": "XrTqXjQf60iK",
    "outputId": "d1f3b78c-0c61-411f-8319-1786bd3b5368"
   },
   "outputs": [],
   "source": [
    "df.head()"
   ]
  },
  {
   "cell_type": "code",
   "execution_count": null,
   "metadata": {
    "id": "Vw97XnHU60iN",
    "outputId": "59f1f562-7759-48be-e57f-47a30260b1db"
   },
   "outputs": [],
   "source": [
    "df.head(10)"
   ]
  },
  {
   "cell_type": "code",
   "execution_count": null,
   "metadata": {
    "id": "5Wkd8BHJ60iQ",
    "outputId": "554af535-461f-444b-c777-208419da6ba3"
   },
   "outputs": [],
   "source": [
    "df.tail()"
   ]
  },
  {
   "cell_type": "markdown",
   "metadata": {
    "id": "hesPGLf560iT"
   },
   "source": [
    "Посмотрим на размер нашего датасета c помощью атрибута `shape`, который выводит `кортеж` из двух чисел\n",
    "- первое число – количество строк (наблюдений)\n",
    "- второе число – количество столбцов"
   ]
  },
  {
   "cell_type": "code",
   "execution_count": null,
   "metadata": {
    "id": "TO2l073E60iU",
    "outputId": "b4b086a7-4c6b-4f0d-d14d-04cc6d780715"
   },
   "outputs": [],
   "source": [
    "df.shape"
   ]
  },
  {
   "cell_type": "code",
   "execution_count": null,
   "metadata": {
    "id": "6uj06yTe60iX",
    "outputId": "eff8340d-9928-476c-ed53-fe088dac76f4"
   },
   "outputs": [],
   "source": [
    "df.shape[0] # кол-во строк"
   ]
  },
  {
   "cell_type": "code",
   "execution_count": null,
   "metadata": {
    "id": "CWssMCSm60ia",
    "outputId": "bbcc4721-eaea-4f35-e426-da3dbe7e517e"
   },
   "outputs": [],
   "source": [
    "df.shape[1] # кол-во колонок"
   ]
  },
  {
   "cell_type": "markdown",
   "metadata": {
    "id": "0OUf5cy860ie"
   },
   "source": [
    "Давайте посмотрим на информацию о датасете. \n",
    "\n",
    "У метода `.info()` можно передать дополнительные параметры, среди которых:\n",
    "\n",
    "- `verbose`: печатать ли информацию о `DataFrame` полностью (если таблица очень большая, то некоторая информация может потеряться)\n",
    "- `memory_usage`: печатать ли потребление памяти (по умолчанию используется `True`, но можно поставить либо `False`, что уберёт потребление памяти, либо `'deep'` , что подсчитает потребление памяти более точно)\n",
    "- `null_counts`: подсчитывать ли количество пустых элементов (по умолчанию `True`)"
   ]
  },
  {
   "cell_type": "code",
   "execution_count": null,
   "metadata": {
    "id": "LiktcjXH60if",
    "outputId": "71e3e7a6-3daf-4939-af17-aa9b27b42e50"
   },
   "outputs": [],
   "source": [
    "df.info()"
   ]
  },
  {
   "cell_type": "markdown",
   "metadata": {
    "id": "A4OChr8X60ij"
   },
   "source": [
    "Можно вывести только тип данных в каждой колонке"
   ]
  },
  {
   "cell_type": "code",
   "execution_count": null,
   "metadata": {
    "id": "oFDhtHZS60ik",
    "outputId": "153570e8-c31b-4870-fcc4-260dec6d8a5d"
   },
   "outputs": [],
   "source": [
    "df.dtypes"
   ]
  },
  {
   "cell_type": "markdown",
   "metadata": {
    "id": "lc5KwCvd60im"
   },
   "source": [
    "## Считаем различные характеристики"
   ]
  },
  {
   "cell_type": "markdown",
   "metadata": {
    "id": "yfBPzFQc60in"
   },
   "source": [
    "### Агрегирующие функции"
   ]
  },
  {
   "cell_type": "markdown",
   "metadata": {
    "id": "aQ2aCc_360in"
   },
   "source": [
    "Метод `.describe()` показывает основные статистические характеристики данных по каждому числовому признаку (типы `int64` и `float64`):  \n",
    "- `count` – число непропущенных значений\n",
    "- `mean`, `std` – среднее, стандартное отклонение\n",
    "- `min`, `max` – минимум, максимум\n",
    "- `25%`, `50%`, `75%` – квартили уровней 0.25, 0.50, 0.75"
   ]
  },
  {
   "cell_type": "code",
   "execution_count": null,
   "metadata": {
    "id": "uFyG5gBA60io",
    "outputId": "72b45755-5e28-43d8-ead7-58d1eaf9e4e7"
   },
   "outputs": [],
   "source": [
    "df.describe()"
   ]
  },
  {
   "cell_type": "markdown",
   "metadata": {
    "id": "LL4yog_x60is"
   },
   "source": [
    "Чтобы посмотреть статистику по нечисловым признакам (например, по строчным (`object`) или булевым (`bool`) данным), нужно явно указать интересующие нас типы в параметре `include` метода `describe`, тогда\n",
    "- `unique` – число уникальных категорий в колонке\n",
    "- `top` – самая часто встречаемая категория\n",
    "- `freq` – количество вхождений самой часто встречаемой категории в датасете"
   ]
  },
  {
   "cell_type": "code",
   "execution_count": null,
   "metadata": {
    "id": "JsXD8wCx60is",
    "outputId": "80f2e072-bb63-4453-9c2c-d25c8c51de7d"
   },
   "outputs": [],
   "source": [
    "df.describe(include = ['object'])"
   ]
  },
  {
   "cell_type": "markdown",
   "metadata": {
    "id": "OgKE77H960iv"
   },
   "source": [
    "Из таблицы мы можем \"достать\" отдельный столбец, который будет уже другого специального типа `pd.Series`\n",
    "\n",
    "Это можно сделать несколькими способами, например:\n",
    "```python\n",
    "df['col']\n",
    "```\n",
    "\n",
    "Если название колонки на латинице без пробелов, можно писать:\n",
    " ```python\n",
    "df.col\n",
    "```"
   ]
  },
  {
   "cell_type": "code",
   "execution_count": null,
   "metadata": {
    "id": "5Gwf-2Nb60iv",
    "outputId": "720f319f-9174-4083-e1a5-5e873d5856d6"
   },
   "outputs": [],
   "source": [
    "df['cut']"
   ]
  },
  {
   "cell_type": "code",
   "execution_count": null,
   "metadata": {
    "id": "7QxWANYa60iy",
    "outputId": "cc56c3f3-a1b7-482c-98e7-33f25aa14711"
   },
   "outputs": [],
   "source": [
    "df.color"
   ]
  },
  {
   "cell_type": "code",
   "execution_count": null,
   "metadata": {
    "id": "SPgqRZS760i1",
    "outputId": "79fab416-c3fd-424b-8cab-d199290de18c"
   },
   "outputs": [],
   "source": [
    "type(df.cut)"
   ]
  },
  {
   "cell_type": "code",
   "execution_count": null,
   "metadata": {
    "id": "lRvHC0ME60i4",
    "outputId": "210e581a-b0f0-4dd2-cf98-4fbfb67b5ea7"
   },
   "outputs": [],
   "source": [
    "df['cut'].describe()"
   ]
  },
  {
   "cell_type": "markdown",
   "metadata": {
    "id": "lm-n1ORk60i7"
   },
   "source": [
    "У отдельного столбца также можно посчитать все характеристики, которые выводятся у метода `describe`"
   ]
  },
  {
   "cell_type": "code",
   "execution_count": null,
   "metadata": {
    "id": "YdS8p3z760i8",
    "outputId": "9175cfdc-710e-45c3-95e8-5e949cebf133"
   },
   "outputs": [],
   "source": [
    "df['carat'].mean()"
   ]
  },
  {
   "cell_type": "code",
   "execution_count": null,
   "metadata": {
    "id": "iWxPNJE560i_",
    "outputId": "134885b4-6055-43a0-df32-a69088be311e"
   },
   "outputs": [],
   "source": [
    "df['carat'].median()"
   ]
  },
  {
   "cell_type": "code",
   "execution_count": null,
   "metadata": {
    "id": "XOShFQ8U60jC",
    "outputId": "518e82a5-8286-48d8-b1f0-c6d6ea8c409d"
   },
   "outputs": [],
   "source": [
    "df['cut'].mode() # наиболее часто встречаемое значение в колонке"
   ]
  },
  {
   "cell_type": "markdown",
   "metadata": {
    "id": "8rGmc4Ib60jG"
   },
   "source": [
    "### Группировки"
   ]
  },
  {
   "cell_type": "markdown",
   "metadata": {
    "id": "raVxwmf760jH"
   },
   "source": [
    "![](https://i.imgur.com/Ij090Kn.jpg)\n",
    "\n",
    "Таблицы можно также группировать для того, чтобы посмотреть разные характеристики датасета.\n",
    "\n",
    "Например, посмотрим на среднюю цену бриллианта в зависимости от цвета.\n",
    "\n",
    "```python\n",
    "df.groupby('col to group')['col of interest'].mean().sort_values()\n",
    "```\n",
    "- `mean` – агрегирующая функция, можно использовать другие\n",
    "- `sort_values` – функция сортировки"
   ]
  },
  {
   "cell_type": "code",
   "execution_count": null,
   "metadata": {
    "id": "4AVAi5we60jH",
    "outputId": "b4bdf734-01ce-47bd-fea8-868f2c393d58"
   },
   "outputs": [],
   "source": [
    "# применяем метод groupby\n",
    "#df.groupby(by='color')\n",
    "\n",
    "# выбираем интересующий столбец\n",
    "#df.groupby(by='color')['price']\n",
    "\n",
    "# выбираем, что хотим посчитать\n",
    "#df.groupby(by='color')['price'].mean()\n",
    "\n",
    "\n",
    "df.groupby(by='color')['price'].mean()\n",
    "# на выходе pd.series"
   ]
  },
  {
   "cell_type": "code",
   "execution_count": null,
   "metadata": {
    "id": "cDM2kFxC60jK",
    "outputId": "254808b1-fca5-4487-cf6c-da2c85662b6f"
   },
   "outputs": [],
   "source": [
    "df.groupby('color')[['price']].mean()\n",
    "\n",
    "# на выходе pd.dataframe – посмотрите на разницу!"
   ]
  },
  {
   "cell_type": "code",
   "execution_count": null,
   "metadata": {
    "id": "bm_UD6bk60jN",
    "outputId": "ebf4983e-75d4-445c-a322-7cf5bfa4b6bc"
   },
   "outputs": [],
   "source": [
    "# ['price','carat'] - список из названий колонок\n",
    "gr = df.groupby('color')[['price','carat']].mean()\n",
    "gr"
   ]
  },
  {
   "cell_type": "code",
   "execution_count": null,
   "metadata": {
    "id": "9oT7J_2w60jQ",
    "outputId": "60b03753-60b0-4977-a89f-48fa3ff61628"
   },
   "outputs": [],
   "source": [
    "# можно список отдельно задать\n",
    "cols_to_use = ['price','carat']\n",
    "gr = df.groupby('color')[cols_to_use].mean()\n",
    "gr"
   ]
  },
  {
   "cell_type": "markdown",
   "metadata": {
    "id": "7LCy0oc360jT"
   },
   "source": [
    "В pandas строено много способов построения простых графиков. Подробнее о них [тут](https://pandas.pydata.org/pandas-docs/stable/reference/api/pandas.DataFrame.plot.html). О более сложных позднее.\n",
    "\n",
    "Воспользуемся методом `.plot()` и построим столбчатую диаграмму (`kind='bar'`) средней цены бриллианта в зависимости от цвета."
   ]
  },
  {
   "cell_type": "code",
   "execution_count": null,
   "metadata": {
    "id": "S51f4b6g60jU",
    "outputId": "2d012efd-a5f4-4f88-b2d7-f5c79fa2ce6b"
   },
   "outputs": [],
   "source": [
    "# самый простой график\n",
    "df.groupby('color')['price'].mean().sort_values().plot()"
   ]
  },
  {
   "cell_type": "code",
   "execution_count": null,
   "metadata": {
    "id": "sMNzhVIq60jW",
    "outputId": "4304a710-dc75-4392-be10-e6df7f66ceab"
   },
   "outputs": [],
   "source": [
    "# столбчатый график\n",
    "df.groupby('color')['price'].mean().sort_values().plot(kind='bar')"
   ]
  },
  {
   "cell_type": "markdown",
   "metadata": {
    "id": "GdjlFjIt60jZ"
   },
   "source": [
    "Можно посмотреть сразу несколько характеристик с помощью метода `.agg(['some_char_1','some_char_2'])`у нескольких колонок"
   ]
  },
  {
   "cell_type": "code",
   "execution_count": null,
   "metadata": {
    "id": "h-AW39sc60ja",
    "outputId": "8289cfce-8450-4a10-ad83-941f461d281c"
   },
   "outputs": [],
   "source": [
    "df.groupby('color')[['price', 'carat']].agg(['mean','median'])"
   ]
  },
  {
   "cell_type": "code",
   "execution_count": null,
   "metadata": {
    "id": "4D-Qt_sG60jf",
    "outputId": "08af7610-76cf-4743-e886-ce76bb45d33b"
   },
   "outputs": [],
   "source": [
    "df.groupby('color')['price'].agg(['mean','median']).plot(kind='bar')"
   ]
  },
  {
   "cell_type": "markdown",
   "metadata": {
    "id": "M6tK5bnU60ji"
   },
   "source": [
    "![title](https://i.imgur.com/6PannTm.jpg)\n",
    "\n",
    "Можно строить сложные сводные таблицы. \n",
    "\n",
    "Например, можно посмотреть на среднюю цену бриллианта в зависимости от цвета (color) и качества огранки (cut)"
   ]
  },
  {
   "cell_type": "code",
   "execution_count": null,
   "metadata": {
    "id": "-i9eJLld60ji",
    "outputId": "a780b825-6a39-41ba-890c-b8ed93b86018"
   },
   "outputs": [],
   "source": [
    "# columns='color' - что будет колонками в сводной таблице\n",
    "# index='cut' - что будет строками в сводной таблице\n",
    "# values='price' - какую колонку будем использовать для подсчета чего-нибудь\n",
    "# aggfunc='mean' - что будем считать\n",
    "\n",
    "df.pivot_table(columns='color', index='cut', values='price', aggfunc='mean')"
   ]
  },
  {
   "cell_type": "code",
   "execution_count": null,
   "metadata": {
    "id": "Y_nS4kgd60jl",
    "outputId": "6785550c-df81-4825-aec4-04fc7d161395"
   },
   "outputs": [],
   "source": [
    "df.pivot_table(columns='color', index='cut', values='price', aggfunc='mean').sort_values(by='J').plot()"
   ]
  },
  {
   "cell_type": "markdown",
   "metadata": {
    "id": "QhRKuyga60jo"
   },
   "source": [
    "### Уникальные значения"
   ]
  },
  {
   "cell_type": "markdown",
   "metadata": {
    "id": "AdbzQWxb60jo"
   },
   "source": [
    "Посмотрим, как часто бриллианты различного качества (колонка cut) встречаются в датасете, с помощью метода `.value_counts()`"
   ]
  },
  {
   "cell_type": "code",
   "execution_count": null,
   "metadata": {
    "id": "q0ENggMg60jp",
    "outputId": "61000bd8-b3bb-48a0-8d47-04a34fc7936e"
   },
   "outputs": [],
   "source": [
    "df['cut']"
   ]
  },
  {
   "cell_type": "code",
   "execution_count": null,
   "metadata": {
    "id": "YmjdOCsx60js",
    "outputId": "390192d5-ba54-415a-cc23-f76ccdf302e5"
   },
   "outputs": [],
   "source": [
    "df['cut'].value_counts()"
   ]
  },
  {
   "cell_type": "code",
   "execution_count": null,
   "metadata": {
    "id": "TLcxQZop60ju"
   },
   "outputs": [],
   "source": [
    "# посмотрим аргументы\n",
    "?pd.value_counts"
   ]
  },
  {
   "cell_type": "code",
   "execution_count": null,
   "metadata": {
    "id": "IW0MskXK60jx",
    "outputId": "a4f499c8-2ff1-41f9-f3fe-4126198366b3"
   },
   "outputs": [],
   "source": [
    "df['cut'].value_counts(normalize=True)"
   ]
  },
  {
   "cell_type": "markdown",
   "metadata": {
    "id": "mZXJodzb60j2"
   },
   "source": [
    "Просто посмотреть уникальные категории в колонке можно с помощью метода `.unique()`"
   ]
  },
  {
   "cell_type": "code",
   "execution_count": null,
   "metadata": {
    "id": "3gQyyTZ-60j2",
    "outputId": "e5df1f1c-777a-4b72-8b5d-6027b78ed3ea"
   },
   "outputs": [],
   "source": [
    "df['cut'].unique()"
   ]
  },
  {
   "cell_type": "markdown",
   "metadata": {
    "id": "DKRPwV6V60j6"
   },
   "source": [
    "А просто количество уникальных категорий (или значений) можно посмотреть с помощью метода `.nunique()`"
   ]
  },
  {
   "cell_type": "code",
   "execution_count": null,
   "metadata": {
    "id": "2Wt5SS5T60j6",
    "outputId": "b04a53c3-2468-4377-9b84-1070a3ca814d"
   },
   "outputs": [],
   "source": [
    "df['cut'].nunique()"
   ]
  },
  {
   "cell_type": "code",
   "execution_count": null,
   "metadata": {
    "id": "N6KD9pBm60j9",
    "outputId": "93f7d61c-cbcb-4df5-92f7-73f19279ad02"
   },
   "outputs": [],
   "source": [
    "df['cut'].value_counts().plot(kind='pie')"
   ]
  },
  {
   "cell_type": "markdown",
   "metadata": {
    "id": "oohk75LX60kD"
   },
   "source": [
    "## Гистограмма распределения"
   ]
  },
  {
   "cell_type": "code",
   "execution_count": null,
   "metadata": {
    "id": "dXljIojR60kE",
    "outputId": "44791a6b-e7b1-40dc-976b-26bbfc0a0912"
   },
   "outputs": [],
   "source": [
    "df['price'].describe()"
   ]
  },
  {
   "cell_type": "code",
   "execution_count": null,
   "metadata": {
    "id": "pgF9Wc7z60kG",
    "outputId": "369579e9-6a9f-4fbd-a0d8-3fdfc8d3eb9b"
   },
   "outputs": [],
   "source": [
    "df['price'].plot(kind='hist', bins=30)"
   ]
  },
  {
   "cell_type": "markdown",
   "metadata": {
    "id": "Fw_rxPVr60kJ"
   },
   "source": [
    "### Среднее, медиана, мода\n",
    "\n",
    "<img src='https://i.pinimg.com/originals/5e/70/90/5e70902088cb6036fa8954327c426aa4.png' width=300>"
   ]
  },
  {
   "cell_type": "markdown",
   "metadata": {
    "id": "WZ5qpXJZ60kJ"
   },
   "source": [
    "## Создаем и удаляем колонки"
   ]
  },
  {
   "cell_type": "code",
   "execution_count": null,
   "metadata": {
    "id": "_hIUbefW60kK",
    "outputId": "35aa4f51-e9a3-4bd2-9c75-018e34b804ba"
   },
   "outputs": [],
   "source": [
    "df.head()"
   ]
  },
  {
   "cell_type": "markdown",
   "metadata": {
    "id": "kPbkHgtp60kM"
   },
   "source": [
    "Добавим в таблицу новую колонку объем бриллианта (volume), используя длину, высоту и глубину брилланта"
   ]
  },
  {
   "cell_type": "code",
   "execution_count": null,
   "metadata": {
    "id": "Njz6ul7060kN",
    "outputId": "d1849f7b-8e39-4800-deff-b8ebc0690b8e"
   },
   "outputs": [],
   "source": [
    "df['x']"
   ]
  },
  {
   "cell_type": "code",
   "execution_count": null,
   "metadata": {
    "id": "_vuvZ9X560kR",
    "outputId": "924e230b-fc29-4233-f947-38ac8593e31d"
   },
   "outputs": [],
   "source": [
    "df['y']"
   ]
  },
  {
   "cell_type": "code",
   "execution_count": null,
   "metadata": {
    "id": "3Bpvnqj460kU",
    "outputId": "d8661332-eb12-40af-938c-d16c129bd455"
   },
   "outputs": [],
   "source": [
    "df['z']"
   ]
  },
  {
   "cell_type": "code",
   "execution_count": null,
   "metadata": {
    "id": "dy4nhAxV60kX",
    "outputId": "4132ccc8-a1e1-4e56-c34b-e60d001f25ba"
   },
   "outputs": [],
   "source": [
    "df['z'] * df['y']"
   ]
  },
  {
   "cell_type": "code",
   "execution_count": null,
   "metadata": {
    "id": "ZRUo6-xd60kb"
   },
   "outputs": [],
   "source": [
    "df['volume'] = df['x'] * df['y'] * df['z']"
   ]
  },
  {
   "cell_type": "code",
   "execution_count": null,
   "metadata": {
    "id": "RzYDezlo60kg",
    "outputId": "56d79219-cff5-47f3-e700-428e95bf035a"
   },
   "outputs": [],
   "source": [
    "df.head()"
   ]
  },
  {
   "cell_type": "markdown",
   "metadata": {
    "id": "WhBKt_lQ60ki"
   },
   "source": [
    "А колонки с длинной, высотой и глубиной удалим с помощью метода `.drop()`\n",
    "\n",
    "- укажем колонки, которые нужно удалить – список `drop_cols`\n",
    "- `axis=0` – означает, что удаляем строки\n",
    "- `axis=1` – означает, что удаляем колонки, а не строки\n",
    "- `inplace=True` – означает, что удаляем колонки в текущем датасете, а не выводим новый"
   ]
  },
  {
   "cell_type": "code",
   "execution_count": null,
   "metadata": {
    "id": "KQK2wgOn60kj",
    "outputId": "ab994d19-e233-4129-8d3d-e39c4ef8c1cb"
   },
   "outputs": [],
   "source": [
    "# без inplace удалим carat\n",
    "df.drop('carat', axis=1).head(2)"
   ]
  },
  {
   "cell_type": "code",
   "execution_count": null,
   "metadata": {
    "id": "W5M0RqTg60ko",
    "outputId": "55706a60-7afa-4522-a032-37f4d8fc731f",
    "scrolled": true
   },
   "outputs": [],
   "source": [
    "# carat остались!\n",
    "df.head(2)"
   ]
  },
  {
   "cell_type": "code",
   "execution_count": null,
   "metadata": {
    "id": "dZCExEN160kr"
   },
   "outputs": [],
   "source": [
    "drop_cols = ['x', 'y', 'z']\n",
    "df.drop(drop_cols, axis=1, inplace=True)\n",
    "\n",
    "# или то же самое без inplace – лучше первый способ\n",
    "### df = df.drop(drop_cols, axis='columns')"
   ]
  },
  {
   "cell_type": "code",
   "execution_count": null,
   "metadata": {
    "id": "ADlkd8ic60kt",
    "outputId": "3516254e-29f2-41fc-cde3-d8d7fe6205ff",
    "scrolled": true
   },
   "outputs": [],
   "source": [
    "df.head(2)"
   ]
  },
  {
   "cell_type": "markdown",
   "metadata": {
    "id": "ce4ghMKV60kx"
   },
   "source": [
    "Переведем также караты в миллиграммы (умножив массу в каратах на 200)"
   ]
  },
  {
   "cell_type": "code",
   "execution_count": null,
   "metadata": {
    "id": "uugSAmTQ60kx",
    "outputId": "29073f88-a3c0-4cdd-efe6-3872e426c223"
   },
   "outputs": [],
   "source": [
    "# просто выводится на экран\n",
    "df['carat']*200"
   ]
  },
  {
   "cell_type": "code",
   "execution_count": null,
   "metadata": {
    "id": "7kVcqP3a60k2",
    "outputId": "adaf9ed1-5aa5-44c3-ec42-8dfe7f2399ad"
   },
   "outputs": [],
   "source": [
    "# записываем в колонку\n",
    "df['carat'] = df['carat']*200\n",
    "df.head()"
   ]
  },
  {
   "cell_type": "markdown",
   "metadata": {
    "id": "Zz1PUKzx60k4"
   },
   "source": [
    "Переименуем колонку"
   ]
  },
  {
   "cell_type": "code",
   "execution_count": null,
   "metadata": {
    "id": "7KH47FjT60k5"
   },
   "outputs": [],
   "source": [
    "# передадим словарь, где укажем что на что менять\n",
    "# {'carat':'weight'} - словарь с одной парой key-value\n",
    "\n",
    "df.rename(columns={'carat':'weight'}, inplace=True)"
   ]
  },
  {
   "cell_type": "markdown",
   "metadata": {
    "id": "C9Ih-fPj60k9"
   },
   "source": [
    "Посмотрим теперь на датасет "
   ]
  },
  {
   "cell_type": "code",
   "execution_count": null,
   "metadata": {
    "id": "MfkTi2xI60k-",
    "outputId": "21d2a246-c31d-41cd-c3a2-ada78140b916"
   },
   "outputs": [],
   "source": [
    "# название поменялось\n",
    "df.head()"
   ]
  },
  {
   "cell_type": "markdown",
   "metadata": {
    "id": "30GmPR4W60lA"
   },
   "source": [
    "Для построения точечного графика зависимости цены от массы используем метод `.plot()`, указываем его тип `kind=` и остальные необходимые аргументы."
   ]
  },
  {
   "cell_type": "code",
   "execution_count": null,
   "metadata": {
    "id": "KhqAjoQS60lB",
    "outputId": "9b17cedc-d0b4-4a94-e174-124d38e3110c"
   },
   "outputs": [],
   "source": [
    "# s – размер точек\n",
    "# x,y – что по каким осям\n",
    "df.plot(kind='scatter', x='weight', y='price', s=0.2)"
   ]
  },
  {
   "cell_type": "code",
   "execution_count": null,
   "metadata": {
    "id": "vUkFvGq-60lD",
    "outputId": "309d88fb-c6d6-45c7-e8d5-f99f209c0567"
   },
   "outputs": [],
   "source": [
    "# логарифмируем x и y\n",
    "df.plot(kind='scatter', x='weight', y='price', s=0.2, loglog=True)"
   ]
  },
  {
   "cell_type": "markdown",
   "metadata": {
    "id": "w4qM8aq360lF"
   },
   "source": [
    "## Индексация и срезы"
   ]
  },
  {
   "cell_type": "markdown",
   "metadata": {
    "id": "VUlyjhzO60lF"
   },
   "source": [
    "### Индексация"
   ]
  },
  {
   "cell_type": "markdown",
   "metadata": {
    "id": "YyvCZdaw60lF"
   },
   "source": [
    "Разберемся с тем, как доставать определенные строки и столбцы из датасета\n",
    "\n",
    "- для индексации по номеру строки и столбца используется атрибут `iloc[:, :]`\n",
    "    - сначала указываются индексы строк, затем – столбцов\n",
    "- для индексации по имени строки и столбца используется атрибут `loc[:, :]`\n",
    "    - сначала указываются имена строк, затем – столбцов"
   ]
  },
  {
   "cell_type": "code",
   "execution_count": null,
   "metadata": {
    "id": "DU6HUt3E60lG",
    "outputId": "11c271aa-3426-43ab-d2f6-b67c41afef6e"
   },
   "outputs": [],
   "source": [
    "# индексы от 1 до 53940\n",
    "df"
   ]
  },
  {
   "cell_type": "code",
   "execution_count": null,
   "metadata": {
    "id": "y05B_qSl60lI",
    "outputId": "d10e4703-df70-4491-a6cc-bbd279af450f"
   },
   "outputs": [],
   "source": [
    "# ровно 45 и 50 индексы\n",
    "df.loc[[45,50]]"
   ]
  },
  {
   "cell_type": "code",
   "execution_count": null,
   "metadata": {
    "id": "VLqr1pq560lJ",
    "outputId": "c30c503f-0d3c-4f2c-cec6-aef82cd66236"
   },
   "outputs": [],
   "source": [
    "# можно взять часть колонок\n",
    "df.loc[[45,50], ['weight','price']]"
   ]
  },
  {
   "cell_type": "code",
   "execution_count": null,
   "metadata": {
    "id": "dNA_BpNP60lL",
    "outputId": "f15a1ea5-7e9e-49ef-eedc-4375935bb7c4"
   },
   "outputs": [],
   "source": [
    "# индексы по счёту 45 и 50 по счёту от 0\n",
    "df.iloc[[45,50]]"
   ]
  },
  {
   "cell_type": "code",
   "execution_count": null,
   "metadata": {
    "id": "qTuzZYdd60lN",
    "outputId": "dea5d041-1b1b-4ede-f6a0-804ac219cebe"
   },
   "outputs": [],
   "source": [
    "# добавим колонки\n",
    "df.iloc[[45,50], [0,4]]"
   ]
  },
  {
   "cell_type": "code",
   "execution_count": null,
   "metadata": {
    "id": "sqhHqkD660lR",
    "outputId": "f0f8cf4d-d084-4114-acab-0060bc6f4099"
   },
   "outputs": [],
   "source": [
    "# можно также использовать срезы\n",
    "df.iloc[[45,50], 0:4]"
   ]
  },
  {
   "cell_type": "markdown",
   "metadata": {
    "id": "3hisuJ2560lT"
   },
   "source": [
    "### Условные срезы"
   ]
  },
  {
   "cell_type": "markdown",
   "metadata": {
    "id": "sY0-jQTG60lT"
   },
   "source": [
    "Вместо срезов (например, 45:50), можно использовать условия.\n",
    "\n",
    "Рассмотрим пример. Если рассмотреть  описательные статистики у колонки volume, то у нее встречаются нулевые значения."
   ]
  },
  {
   "cell_type": "code",
   "execution_count": null,
   "metadata": {
    "id": "VWt_auP760lU",
    "outputId": "16494e74-01db-4cf1-cd60-8ead90b5c631"
   },
   "outputs": [],
   "source": [
    "df[['weight','volume']].describe()"
   ]
  },
  {
   "cell_type": "markdown",
   "metadata": {
    "id": "k30s9GCc60lW"
   },
   "source": [
    "При этом если рассмотреть массу и объем бриллиантов с нулевым значением объема, то масса у таких бриллиантов в большинстве оказывается значительно выше среднего, поэтому вряд ли их настоящий объем равен нулю. "
   ]
  },
  {
   "cell_type": "code",
   "execution_count": null,
   "metadata": {
    "id": "xm2RPR4g60lX",
    "outputId": "98fd6486-54c3-43ed-8a8e-992f7f8545e7"
   },
   "outputs": [],
   "source": [
    "# сравнение каждой строки с нулем\n",
    "df['volume'] == 0"
   ]
  },
  {
   "cell_type": "code",
   "execution_count": null,
   "metadata": {
    "id": "jPQu95Js60lZ",
    "outputId": "2aeed27f-4894-42e4-cd90-8bc136b348de"
   },
   "outputs": [],
   "source": [
    "# оставляем только те строки, где нулевой объем\n",
    "df.loc[df['volume'] == 0]"
   ]
  },
  {
   "cell_type": "code",
   "execution_count": null,
   "metadata": {
    "id": "HGxHEcdI60lb",
    "outputId": "57c4f5f0-fe08-4fb7-fd3e-f188067e5d97"
   },
   "outputs": [],
   "source": [
    "# посмотрим на часть колонок\n",
    "df.loc[df['volume']==0, ['weight', 'volume', 'price']]"
   ]
  },
  {
   "cell_type": "markdown",
   "metadata": {
    "id": "DzVzbdFQ60le"
   },
   "source": [
    "Оставим в датасете только строчки с ненулевым объемом"
   ]
  },
  {
   "cell_type": "code",
   "execution_count": null,
   "metadata": {
    "id": "455i5e1x60le",
    "outputId": "3720aac1-929a-41c1-b1b7-72c200ba849c"
   },
   "outputs": [],
   "source": [
    "# было\n",
    "df.shape"
   ]
  },
  {
   "cell_type": "code",
   "execution_count": null,
   "metadata": {
    "id": "eVLayVAu60lg"
   },
   "outputs": [],
   "source": [
    "df = df[df['volume']>0]"
   ]
  },
  {
   "cell_type": "code",
   "execution_count": null,
   "metadata": {
    "id": "N16Ctj1g60lj",
    "outputId": "7d0d3af8-1da8-4a0b-ccd2-086806b29472"
   },
   "outputs": [],
   "source": [
    "# стало\n",
    "df.shape"
   ]
  },
  {
   "cell_type": "markdown",
   "metadata": {
    "id": "gtlgxYlv60ll"
   },
   "source": [
    "### Условные операторы"
   ]
  },
  {
   "cell_type": "markdown",
   "metadata": {
    "id": "vwfx8Tzs60lm"
   },
   "source": [
    "Также можно делать срезы из таблицы, используя несколько условий с помощью операторов \n",
    "    - `|` (или)\n",
    "    - `&` (и)\n",
    "\n",
    "```python\n",
    "df[(`condition_1`) | (`condition_2`)]\n",
    "```"
   ]
  },
  {
   "cell_type": "code",
   "execution_count": null,
   "metadata": {
    "id": "GZLmTxlD60ln",
    "outputId": "0cd0ba3a-24d7-4ae0-f037-a71fff717ece"
   },
   "outputs": [],
   "source": [
    "df[(df['volume'] >= 100) & (df['volume'] <= 200)]"
   ]
  },
  {
   "cell_type": "code",
   "execution_count": null,
   "metadata": {
    "id": "MxOLtxk660lp",
    "outputId": "896fd4b7-5849-4081-dd7f-f8a02927ff57"
   },
   "outputs": [],
   "source": [
    "# то же самое по шагам и без лишних скобок\n",
    "over100 = df['volume'] >= 100\n",
    "under200 = df['volume'] <= 200\n",
    "df[over100 & under200]"
   ]
  },
  {
   "cell_type": "code",
   "execution_count": null,
   "metadata": {
    "id": "QKdFTV6f60lt",
    "outputId": "2f764081-d807-433e-a27a-da80600c02e5"
   },
   "outputs": [],
   "source": [
    "df[over100 & under200].describe()"
   ]
  },
  {
   "cell_type": "markdown",
   "metadata": {
    "id": "ayWqdsDf60lv"
   },
   "source": [
    "Посмотрим на все идеальные и премиум бриллианты"
   ]
  },
  {
   "cell_type": "code",
   "execution_count": null,
   "metadata": {
    "id": "nDrRG5M260lw",
    "outputId": "519e77a3-5b52-4833-8a30-8e798230f4bd"
   },
   "outputs": [],
   "source": [
    "df['cut'].unique()"
   ]
  },
  {
   "cell_type": "code",
   "execution_count": null,
   "metadata": {
    "id": "CSg71b6860ly",
    "outputId": "f2732a93-7842-4dfd-aaf4-02fa05ac8391"
   },
   "outputs": [],
   "source": [
    "condition_1 = df['cut']=='Ideal'\n",
    "condition_2 = df['cut']=='Premium'\n",
    "df[condition_1 | condition_2]"
   ]
  },
  {
   "cell_type": "markdown",
   "metadata": {
    "id": "Y2XsG4_r60l0"
   },
   "source": [
    "Посмотрим на все идеальные бриллианты массой больше 500 миллиграмм"
   ]
  },
  {
   "cell_type": "code",
   "execution_count": null,
   "metadata": {
    "id": "L1HZ-8xC60l1",
    "outputId": "7940cbe9-cf86-43bd-dfd2-bbeed748f8ff"
   },
   "outputs": [],
   "source": [
    "df[(df['cut']=='Ideal') & (df['weight']>500)]"
   ]
  },
  {
   "cell_type": "markdown",
   "metadata": {
    "id": "pJafFoZB60l7"
   },
   "source": [
    "### Работа со строками"
   ]
  },
  {
   "cell_type": "markdown",
   "metadata": {
    "id": "lP-g5Ktm60l7"
   },
   "source": [
    "Для работы со строкововыми колонками можно также воспользоваться методами \n",
    "\n",
    "- `.isin()` – для того, чтобы оставить лишь те строки, категории которой лежат в некотором списке\n",
    "\n",
    "```python \n",
    "df['col'].isin(['category1', 'category2'])\n",
    "```\n",
    "\n",
    "- `.str` – для того, чтобы использовать методы, которые есть у строк\n",
    "- `.str.contains()` – для того, чтобы оставить строки, содержание которых имеет определенный текст\n",
    "\n",
    "```python \n",
    "df['col'].str.contains(['some_text'])\n",
    "```"
   ]
  },
  {
   "cell_type": "code",
   "execution_count": null,
   "metadata": {
    "id": "jSR4AM4H60l7",
    "outputId": "480335ee-aa61-43d0-d319-3d16164305c9"
   },
   "outputs": [],
   "source": [
    "# снова строки с логическими переменными\n",
    "cut_interested = ['Ideal', 'Premium']\n",
    "df['cut'].isin(cut_interested)"
   ]
  },
  {
   "cell_type": "code",
   "execution_count": null,
   "metadata": {
    "id": "uzwIIOJT60l9",
    "outputId": "2f5a65f2-ec06-4a77-deda-5bec9897b90f"
   },
   "outputs": [],
   "source": [
    "# делаем условный срез\n",
    "df[df['cut'].isin(['Ideal', 'Premium'])]"
   ]
  },
  {
   "cell_type": "code",
   "execution_count": null,
   "metadata": {
    "id": "pJnglmBg60l_",
    "outputId": "de8037ee-b002-4aca-c5ef-8088337f5b8b"
   },
   "outputs": [],
   "source": [
    "df[df['cut'].str.contains('Good')]"
   ]
  },
  {
   "cell_type": "markdown",
   "metadata": {
    "id": "xGV7V1Qv60mT"
   },
   "source": [
    "# Ревью\n",
    "\n",
    "Сегодня мы научились: \n",
    "- загружать таблички \n",
    "    - `df = pd.read_csv('some_data.csv')`\n",
    "- смотреть на них \n",
    "    - `df.head()`,`df.tail()`, \n",
    "    - `df.shape`, `df.info()`, `df.dtypes()`\n",
    "- считать различные характеристики\n",
    "    - `df.describe()` \n",
    "    - `df['col'].mean()`, `df['col'].median()`\n",
    "- делать группировки\n",
    "    - `df.groupby('col1')['col2'].agg(['mean','median'])`\n",
    "    - `df.pivot_table(columns='col1', index='col2', values='col3', aggfunc='mean')`\n",
    "- считать уникальные значения\n",
    "    - `df['col'].value_counts(normalize=True)`, `df['col'].unique()` `df['col'].nunique()`\n",
    "- даже строить немного графики\n",
    "    - `df['col'].value_counts(normalize=True).plot(kind='bar')`\n",
    "- удалять и переименовывать столбцы\n",
    "    - `df.drop(['col1', 'col2'], axis=1, inplace=True)`\n",
    "    - `df.rename(columns={'old_col_name':'new_col_name'}, inplace=True)`\n",
    "- фильтровать таблички, используя сложные условия\n",
    "    - `df.loc[df['col']==some_value, ['col1', 'col2']]`\n",
    "    - `df[(df['col1']==some_value) | (df['col2']!=some_value)]`\n",
    "    - `df[(df['col1']>some_value) & (df['col2']<some_value)]`\n",
    "    - `df['col'].isin(['category1', 'category2'])`\n",
    "    - `df['col'].str.contains(['some_text'])`"
   ]
  },
  {
   "cell_type": "markdown",
   "metadata": {
    "id": "2Yw_-d1f60mB"
   },
   "source": [
    "# Практика"
   ]
  },
  {
   "cell_type": "markdown",
   "metadata": {
    "id": "ZMYvOujC60mB"
   },
   "source": [
    "У бриллиантов какого качества (колонка cut) самая большое значение медианной цены?\n",
    "\n",
    "`Fair`"
   ]
  },
  {
   "cell_type": "code",
   "execution_count": null,
   "metadata": {},
   "outputs": [],
   "source": []
  },
  {
   "cell_type": "markdown",
   "metadata": {
    "id": "8S3uCfRY60mF"
   },
   "source": [
    "Какой самый распространенный цвет брилланта (color)?\n",
    "\n",
    "`G`"
   ]
  },
  {
   "cell_type": "code",
   "execution_count": null,
   "metadata": {},
   "outputs": [],
   "source": []
  },
  {
   "cell_type": "markdown",
   "metadata": {
    "id": "CLOaryj060mI"
   },
   "source": [
    "Какой самый распространенный цвет брилланта (color) среди тех, у которых значение цены (price) выше медианной?\n",
    "\n",
    "`G`"
   ]
  },
  {
   "cell_type": "code",
   "execution_count": null,
   "metadata": {},
   "outputs": [],
   "source": []
  },
  {
   "cell_type": "markdown",
   "metadata": {
    "id": "DfLf1CfN60mJ"
   },
   "source": [
    "Какое самое распространенное качество брилланта (cut) среди тех, у которых значение цены (price) выше медианной, а масса (weight) выше среднего?\n",
    "\n",
    "`Premium`"
   ]
  },
  {
   "cell_type": "code",
   "execution_count": null,
   "metadata": {},
   "outputs": [],
   "source": []
  },
  {
   "cell_type": "markdown",
   "metadata": {
    "id": "Ff7XGraJ60mO"
   },
   "source": [
    "Чему равна средняя цена брилланта (price) среди бриллиантов Premium и Ideal качества (cut)? \n",
    "\n",
    "`3894.8`"
   ]
  },
  {
   "cell_type": "code",
   "execution_count": null,
   "metadata": {},
   "outputs": [],
   "source": []
  }
 ],
 "metadata": {
  "colab": {
   "collapsed_sections": [
    "lc5KwCvd60im",
    "yfBPzFQc60in",
    "8rGmc4Ib60jG",
    "QhRKuyga60jo",
    "Fw_rxPVr60kJ",
    "VUlyjhzO60lF",
    "3hisuJ2560lT",
    "gtlgxYlv60ll",
    "pJafFoZB60l7"
   ],
   "name": "08_py_tools.ipynb",
   "provenance": [],
   "toc_visible": true
  },
  "kernelspec": {
   "display_name": "Python 3 (ipykernel)",
   "language": "python",
   "name": "python3"
  },
  "language_info": {
   "codemirror_mode": {
    "name": "ipython",
    "version": 3
   },
   "file_extension": ".py",
   "mimetype": "text/x-python",
   "name": "python",
   "nbconvert_exporter": "python",
   "pygments_lexer": "ipython3",
   "version": "3.9.13"
  },
  "latex_envs": {
   "LaTeX_envs_menu_present": true,
   "autoclose": true,
   "autocomplete": true,
   "bibliofile": "biblio.bib",
   "cite_by": "apalike",
   "current_citInitial": 1,
   "eqLabelWithNumbers": true,
   "eqNumInitial": 1,
   "hotkeys": {
    "equation": "Ctrl-E",
    "itemize": "Ctrl-I"
   },
   "labels_anchors": false,
   "latex_user_defs": false,
   "report_style_numbering": false,
   "user_envs_cfg": false
  },
  "toc": {
   "base_numbering": 1,
   "nav_menu": {},
   "number_sections": true,
   "sideBar": true,
   "skip_h1_title": false,
   "title_cell": "Table of Contents",
   "title_sidebar": "Contents",
   "toc_cell": true,
   "toc_position": {},
   "toc_section_display": true,
   "toc_window_display": true
  }
 },
 "nbformat": 4,
 "nbformat_minor": 1
}
