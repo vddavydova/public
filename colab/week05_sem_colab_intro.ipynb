{
 "cells": [
  {
   "cell_type": "markdown",
   "id": "f1957e94",
   "metadata": {},
   "source": [
    "<a href=\"https://colab.research.google.com/github/vddavydova/public/blob/main/colab/week05_sem_colab_intro.ipynb\" target=\"_parent\"><img src=\"https://colab.research.google.com/assets/colab-badge.svg\" alt=\"Open In Colab\"/></a>"
   ]
  },
  {
   "cell_type": "markdown",
   "id": "07ff1593",
   "metadata": {
    "id": "07ff1593"
   },
   "source": [
    "# functions\n",
    "\n",
    "![](https://media.giphy.com/media/fm4WhPMzu9hRK/giphy.gif)"
   ]
  },
  {
   "cell_type": "code",
   "execution_count": null,
   "id": "44d3cbf8",
   "metadata": {
    "id": "44d3cbf8"
   },
   "outputs": [],
   "source": [
    "# для проверки правильности работы вашей программы\n",
    "\n",
    "def test_problem(func, test_data):\n",
    "    for inputs, true_answer in test_data:\n",
    "        answer = func(inputs)\n",
    "        assert answer == true_answer, f'Expected {true_answer}, got {answer}. Input: {inputs}'\n",
    "    print(\"OK!\")"
   ]
  },
  {
   "cell_type": "markdown",
   "id": "30a50639",
   "metadata": {
    "id": "30a50639"
   },
   "source": [
    "# Problem 1. Fizz Buzz\n",
    "\n",
    "Напишите программу, которая выводит строковое представление чисел от 1 до n.\n",
    "\n",
    "Но для чисел кратных трем он должен выводить «Fizz» вместо числа, а для кратных пяти - «Buzz». Для чисел, кратных трем и пяти, выведите «FizzBuzz»."
   ]
  },
  {
   "cell_type": "code",
   "execution_count": null,
   "id": "5003a17e",
   "metadata": {
    "id": "5003a17e"
   },
   "outputs": [],
   "source": [
    "def fizz_buzz(n):\n",
    "    \n",
    "# ваш супер код\n",
    "\n",
    "    return answer"
   ]
  },
  {
   "cell_type": "code",
   "execution_count": null,
   "id": "a9db2236",
   "metadata": {
    "id": "a9db2236",
    "outputId": "0a2e44df-7625-4ef4-bc3e-02d6ecdffc75"
   },
   "outputs": [],
   "source": [
    "FIZZ_BUZZ_TESTS_DATA = [\n",
    "    (1, [\"1\"]),\n",
    "    (2, [\"1\", \"2\"]),\n",
    "    (15, [\"1\", \"2\", \"Fizz\", \"4\", \"Buzz\", \"Fizz\", \"7\", \"8\", \"Fizz\", \"Buzz\", \"11\", \"Fizz\", \"13\", \"14\", \"FizzBuzz\"]),\n",
    "]\n",
    "\n",
    "test_problem(fizz_buzz, FIZZ_BUZZ_TESTS_DATA)"
   ]
  },
  {
   "cell_type": "markdown",
   "id": "ca92b031",
   "metadata": {
    "id": "ca92b031"
   },
   "source": [
    "# Problem 2. Fibonacci\n",
    "\n",
    "Напишите программу, которая выводить числа Фибоначчи. (Подсказка: последовательность Фибоначчи - это последовательность чисел, в которой каждое следующее число в последовательности - это сумма двух предыдущих чисел. Последовательность выглядит так: 1, 1, 2, 3, 5, 8, 13, …)"
   ]
  },
  {
   "cell_type": "code",
   "execution_count": null,
   "id": "e52795d5",
   "metadata": {
    "id": "e52795d5"
   },
   "outputs": [],
   "source": [
    "def fibonacci(n):\n",
    "    \n",
    "# ваш код\n",
    "\n",
    "    return answer"
   ]
  },
  {
   "cell_type": "code",
   "execution_count": null,
   "id": "ee1857c6",
   "metadata": {
    "id": "ee1857c6",
    "outputId": "a7b8c390-f9cd-430f-fcd5-990dea095f57",
    "scrolled": true
   },
   "outputs": [],
   "source": [
    "FIBONACCI_TESTS_DATA = [\n",
    "    (1, 1),\n",
    "    (2, 1),\n",
    "    (3, 2),\n",
    "    (4, 3),\n",
    "    (5, 5),\n",
    "    (10, 55),\n",
    "    (40, 102334155),\n",
    "]\n",
    "\n",
    "test_problem(fibonacci, FIBONACCI_TESTS_DATA)"
   ]
  },
  {
   "cell_type": "markdown",
   "id": "4989895b",
   "metadata": {
    "id": "4989895b"
   },
   "source": [
    "# Problem 3. Палиндром\n",
    "\n",
    "Определите, является ли строка палиндромом. Палиндром – это число или текст, одинаково читающееся в обоих направлениях."
   ]
  },
  {
   "cell_type": "code",
   "execution_count": null,
   "id": "2cb61b7d",
   "metadata": {
    "id": "2cb61b7d"
   },
   "outputs": [],
   "source": [
    "def is_palindrome(string):\n",
    "    \n",
    "# ваш код\n",
    "\n",
    "    return answer"
   ]
  },
  {
   "cell_type": "code",
   "execution_count": null,
   "id": "acd00bf2",
   "metadata": {
    "id": "acd00bf2"
   },
   "outputs": [],
   "source": [
    "IS_PALINDROME_TESTS_DATA = [\n",
    "    (\"\", True),\n",
    "    (\"a\", True),\n",
    "    (\"ab\", False),\n",
    "    (\"aba\", True),\n",
    "    (\"malayalam\", True),\n",
    "]\n",
    "\n",
    "test_problem(is_palindrome, IS_PALINDROME_TESTS_DATA)"
   ]
  },
  {
   "cell_type": "code",
   "execution_count": null,
   "id": "d54a0490",
   "metadata": {
    "id": "d54a0490"
   },
   "outputs": [],
   "source": []
  }
 ],
 "metadata": {
  "colab": {
   "collapsed_sections": [
    "bfdeb4b6"
   ],
   "include_colab_link": true,
   "name": "sem03-func.ipynb",
   "provenance": []
  },
  "kernelspec": {
   "display_name": "Python 3 (ipykernel)",
   "language": "python",
   "name": "python3"
  },
  "language_info": {
   "codemirror_mode": {
    "name": "ipython",
    "version": 3
   },
   "file_extension": ".py",
   "mimetype": "text/x-python",
   "name": "python",
   "nbconvert_exporter": "python",
   "pygments_lexer": "ipython3",
   "version": "3.9.13"
  }
 },
 "nbformat": 4,
 "nbformat_minor": 5
}
