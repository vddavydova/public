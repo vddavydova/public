{
 "cells": [
  {
   "cell_type": "markdown",
   "id": "2c81d7a3",
   "metadata": {},
   "source": [
    "<a href=\"https://colab.research.google.com/github/vddavydova/public/blob/main/colab/week05_sem_colab_dap.ipynb\" target=\"_parent\"><img src=\"https://colab.research.google.com/assets/colab-badge.svg\" alt=\"Open In Colab\"/></a>"
   ]
  },
  {
   "cell_type": "markdown",
   "id": "1f82e617",
   "metadata": {},
   "source": [
    "# <center> Week 05. Seminar. Exploratory data analysis using Python packages: part 1 </center> "
   ]
  },
  {
   "cell_type": "markdown",
   "id": "3a7a2234",
   "metadata": {},
   "source": [
    "# <center> files"
   ]
  },
  {
   "cell_type": "markdown",
   "id": "4aa7df74",
   "metadata": {},
   "source": [
    "# Problem #1\n",
    "\n",
    "У вас есть $n$ решений студентов в виде файлов `.py`. Вы хотите найти списывающих людей, то есть те решения, которые в точности совпадают. Написать для этого код на питоне"
   ]
  },
  {
   "cell_type": "code",
   "execution_count": null,
   "id": "dffc7bc9",
   "metadata": {},
   "outputs": [],
   "source": [
    "import os"
   ]
  },
  {
   "cell_type": "code",
   "execution_count": null,
   "id": "62d84378",
   "metadata": {},
   "outputs": [],
   "source": [
    "os.getcwd()"
   ]
  },
  {
   "cell_type": "code",
   "execution_count": null,
   "id": "755828d8",
   "metadata": {},
   "outputs": [],
   "source": [
    "# YOUR CODE"
   ]
  },
  {
   "cell_type": "markdown",
   "id": "a67e4444",
   "metadata": {},
   "source": [
    "# <center> pandas"
   ]
  },
  {
   "cell_type": "markdown",
   "id": "b323e999",
   "metadata": {},
   "source": [
    "# Problem #1\n",
    "\n",
    "Сгенерируйте массив точек в 3D, создайте по нему датафрейм и отсортируйте строки лексикографически."
   ]
  },
  {
   "cell_type": "code",
   "execution_count": null,
   "id": "368e6ed6",
   "metadata": {},
   "outputs": [],
   "source": [
    "# YOUR CODE"
   ]
  },
  {
   "cell_type": "markdown",
   "id": "ff7a433f",
   "metadata": {},
   "source": [
    "# Problem #2\n",
    "\n",
    "Сгенерируйте случайную целочисленную матрицу $n \\times m$, где $n=20, m=10$. Создайте из неё датафрейм, пронумеровав столбцы случайной перестановкой чисел из $\\{1, \\ldots, m\\}$. Выберите столбцы с чётными номерами и строки, в которых чётных элементов больше, чем нечётных.  "
   ]
  },
  {
   "cell_type": "code",
   "execution_count": null,
   "id": "c7b11e9f",
   "metadata": {},
   "outputs": [],
   "source": [
    "# YOUR CODE"
   ]
  },
  {
   "cell_type": "markdown",
   "id": "fb8bf19f",
   "metadata": {},
   "source": [
    "# Problem #3\n",
    "\n",
    "<img src=\"https://mipt-stats.gitlab.io/images/m/temperature.jpg\" width=\"140\" align=\"right\">  \n",
    "\n",
    "\n",
    "Врач на протяжении дня измеряет пациенту температуру каждые 3 часа в течение 2 недель. Также пациенту необходимо спать с 11 вечера до 7 утра. Каждый день измерения температуры начинаются в 8 часов. Первое измерение 22 марта 2020 года. Определите моменты времени, когда нужно измерить пациенту температуру."
   ]
  },
  {
   "cell_type": "code",
   "execution_count": null,
   "id": "08502580",
   "metadata": {},
   "outputs": [],
   "source": [
    "# YOUR CODE"
   ]
  }
 ],
 "metadata": {
  "kernelspec": {
   "display_name": "Python 3 (ipykernel)",
   "language": "python",
   "name": "python3"
  },
  "language_info": {
   "codemirror_mode": {
    "name": "ipython",
    "version": 3
   },
   "file_extension": ".py",
   "mimetype": "text/x-python",
   "name": "python",
   "nbconvert_exporter": "python",
   "pygments_lexer": "ipython3",
   "version": "3.9.13"
  }
 },
 "nbformat": 4,
 "nbformat_minor": 5
}
