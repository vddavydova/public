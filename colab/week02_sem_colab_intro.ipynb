{
 "cells": [
  {
   "cell_type": "markdown",
   "id": "0e74ed4f",
   "metadata": {},
   "source": [
    "<a href=\"https://colab.research.google.com/github/vddavydova/public/blob/main/colab/week02_sem_colab_intro.ipynb\" target=\"_parent\"><img src=\"https://colab.research.google.com/assets/colab-badge.svg\" alt=\"Open In Colab\"/></a>"
   ]
  },
  {
   "cell_type": "markdown",
   "id": "f5daa9b9",
   "metadata": {},
   "source": [
    "# <center> if and else </center>\n",
    "\n",
    "![](https://media.giphy.com/media/fm4WhPMzu9hRK/giphy.gif)"
   ]
  },
  {
   "cell_type": "markdown",
   "id": "79a21f17",
   "metadata": {},
   "source": [
    "# Problem #1. Что насчет ПГАС?\n",
    "\n",
    "Вы пытаетесь понять, положена ли вам ПГАС за успешную учебу. В этом году ПГАС за учебу дают всем, чей GPA превышает 9.5. Напишите программу, которая считывает GPA и выводит в зависимости от его значения \"Ура, Вы получили пегас!\" или \"Не повезло\". Если введенное число будет больше 10, выведите \"Вы совершенно не умеете считать\"."
   ]
  },
  {
   "cell_type": "code",
   "execution_count": null,
   "id": "f8621a95",
   "metadata": {},
   "outputs": [],
   "source": [
    "# ВАШ КОД"
   ]
  },
  {
   "cell_type": "markdown",
   "id": "6e1130fc",
   "metadata": {},
   "source": [
    "# Problem #2. О мемах\n",
    "\n",
    "В соответствии с анализом популярности известного всем паблика \"хайер скул оф мемс\", ваш семинарист выяснил, что успешным является мем, который набрал как минимум 60 лайков и 10 репостов. Пользователь вводит отдельно количество лайков и количество репостов. Выведите фразу \"Ура, топовый мем\", если мем соответствует параметру успешного и \"Чувство юмора следует подкачать\" в обратном случае."
   ]
  },
  {
   "cell_type": "code",
   "execution_count": null,
   "id": "ed676edd",
   "metadata": {},
   "outputs": [],
   "source": [
    "# ВАШ КОД"
   ]
  },
  {
   "cell_type": "markdown",
   "id": "464814a3",
   "metadata": {},
   "source": [
    "# Problem #3. Мои любимые\n",
    "\n",
    "Для данного числа n<100 закончите фразу “У меня на этой неделе...” одним из возможных продолжений: “n дедлайн”, \"n дедлайна”, “n дедлайнов”, правильно склоняя слово “дедлайн”."
   ]
  },
  {
   "cell_type": "code",
   "execution_count": null,
   "id": "ac31dbc8",
   "metadata": {},
   "outputs": [],
   "source": [
    "# ВАШ ЕЩЕ КОД"
   ]
  },
  {
   "cell_type": "markdown",
   "id": "a8d5f733",
   "metadata": {},
   "source": [
    "# Problem #4. Опять про будильник\n",
    "<br>\n",
    "\n",
    "Попробуйте решить задачу про будильник, но уже для случая, когда вы можете лечь до полуночи (т.е., может начаться новый день)."
   ]
  },
  {
   "cell_type": "code",
   "execution_count": null,
   "id": "e1c86a4f",
   "metadata": {},
   "outputs": [],
   "source": [
    "# ВАШ КОД ИЛИ КОТ"
   ]
  }
 ],
 "metadata": {
  "kernelspec": {
   "display_name": "Python 3 (ipykernel)",
   "language": "python",
   "name": "python3"
  },
  "language_info": {
   "codemirror_mode": {
    "name": "ipython",
    "version": 3
   },
   "file_extension": ".py",
   "mimetype": "text/x-python",
   "name": "python",
   "nbconvert_exporter": "python",
   "pygments_lexer": "ipython3",
   "version": "3.9.13"
  }
 },
 "nbformat": 4,
 "nbformat_minor": 5
}
