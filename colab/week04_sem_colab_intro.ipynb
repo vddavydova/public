{
 "cells": [
  {
   "cell_type": "markdown",
   "id": "d524591d",
   "metadata": {},
   "source": [
    "<a href=\"https://colab.research.google.com/github/vddavydova/public/blob/main/colab/week04_sem_colab_intro.ipynb\" target=\"_parent\"><img src=\"https://colab.research.google.com/assets/colab-badge.svg\" alt=\"Open In Colab\"/></a>"
   ]
  },
  {
   "cell_type": "markdown",
   "id": "8f95c1ec",
   "metadata": {},
   "source": [
    "# built-in data structures"
   ]
  },
  {
   "cell_type": "markdown",
   "id": "2efa0ed3",
   "metadata": {},
   "source": [
    "![](https://media.giphy.com/media/fm4WhPMzu9hRK/giphy.gif)"
   ]
  },
  {
   "cell_type": "markdown",
   "id": "dc69ce98",
   "metadata": {},
   "source": [
    "# Problem #0. 21 \n",
    "\n",
    "У вас есть числа от 1 до 10. Выведите все тройки чисел, которые в сумме равны 21."
   ]
  },
  {
   "cell_type": "code",
   "execution_count": 1,
   "id": "49b6ba80",
   "metadata": {},
   "outputs": [],
   "source": [
    "# YOUR CODE"
   ]
  },
  {
   "cell_type": "markdown",
   "id": "39c4a5e9",
   "metadata": {},
   "source": [
    "# Problem #1. (на самом деле очень простая)\n",
    " \n",
    "Дан список чисел, который может содержать до 100000 чисел. Определите, сколько в нем встречается различных чисел.\n",
    "\n",
    "Пример 1 \n",
    "\n",
    "**Ввод**\n",
    "\n",
    "1 2 3 2 1\n",
    "\n",
    "**Вывод**\n",
    "\n",
    "3 \n",
    "\n",
    "Пример 2\n",
    "\n",
    "**Ввод**\n",
    "\n",
    "1 2 3 4 5 1 2 1 2 7 3\n",
    "\n",
    "**Вывод** \n",
    "6 \n"
   ]
  },
  {
   "cell_type": "code",
   "execution_count": null,
   "id": "b23a4c89",
   "metadata": {},
   "outputs": [],
   "source": [
    "# YOUR CODE"
   ]
  },
  {
   "cell_type": "markdown",
   "id": "9fca5dac",
   "metadata": {},
   "source": [
    "# Problem #2. Факультативы\n",
    "\n",
    "\n",
    "Группа из 3 студентов пишет заявки на желаемые факультативы из списка: английский, немецкий, право, математика, сольфеджио. Факультатив откроют, если на него запишутся все студенты. Каждый студент может выбрать минимум один и максимум три факультатива. Нужно посчитать количество факультативов, которые откроются.\n",
    "\n",
    "Пример 1\n",
    "\n",
    "**Ввод**\n",
    "\n",
    "английский сольфеджио право <br>\n",
    "математика сольфеджио <br>\n",
    "немецкий право <br>\n",
    "\n",
    "**Вывод**\n",
    "\n",
    "0\n",
    "\n",
    "**Ввод**\n",
    "\n",
    "математика немецкий право <br>\n",
    "математика немецкий <br>\n",
    "немецкий право математика <br>\n",
    "\n",
    "**Вывод**\n",
    "\n",
    "2"
   ]
  },
  {
   "cell_type": "code",
   "execution_count": null,
   "id": "827914e1",
   "metadata": {},
   "outputs": [],
   "source": [
    "# YOUR CODE"
   ]
  },
  {
   "cell_type": "markdown",
   "id": "5e65de15",
   "metadata": {},
   "source": [
    "Давайте модифицируем эту задачу, и представим, что только два студента выбирают факультативы, откроются факультативы, которые выбрал, хотя бы один студент. Но затем выясняется, что один из факультативов из списка отменили. Выводить будет через запятую те факультативы, которые откроются.\n",
    "\n",
    "Пример\n",
    "\n",
    "**Ввод**\n",
    "\n",
    "математика немецкий право <br>\n",
    "математика английский <br>\n",
    "право \n",
    "\n",
    "**Вывод**\n",
    "\n",
    "математика, немецкий, английский\n",
    "\n"
   ]
  },
  {
   "cell_type": "code",
   "execution_count": null,
   "id": "5530ba54",
   "metadata": {},
   "outputs": [],
   "source": [
    "# YOUR CODE"
   ]
  },
  {
   "cell_type": "markdown",
   "id": "b5c0718d",
   "metadata": {},
   "source": [
    "# Problem #3. Уникальные имена \n",
    "\n",
    "Посчитать все уникальные имена."
   ]
  },
  {
   "cell_type": "code",
   "execution_count": 1,
   "id": "98f8412c",
   "metadata": {},
   "outputs": [],
   "source": [
    "x = ['Маша', 'Мирослав', 'Добрыня','Маша','Паша','Паша','Паша']"
   ]
  },
  {
   "cell_type": "code",
   "execution_count": null,
   "id": "8455110e",
   "metadata": {},
   "outputs": [],
   "source": [
    "# YOUR CODE"
   ]
  },
  {
   "cell_type": "markdown",
   "id": "dc6b1d91",
   "metadata": {},
   "source": [
    "# Problem #4. Меньшее в лексикографическом порядке \n",
    "\n",
    "Дан текст. Выведите слово, которое в этом тексте встречается чаще всего. Если таких слов несколько, выведите то, которое меньше в лексикографическом порядке."
   ]
  },
  {
   "cell_type": "code",
   "execution_count": 2,
   "id": "e82f0d3a",
   "metadata": {},
   "outputs": [],
   "source": [
    "text = \"oh you touch my tralala mmm my ding ding dong\""
   ]
  },
  {
   "cell_type": "code",
   "execution_count": null,
   "id": "3217206d",
   "metadata": {},
   "outputs": [],
   "source": [
    "# YOUR CODE"
   ]
  }
 ],
 "metadata": {
  "kernelspec": {
   "display_name": "Python 3 (ipykernel)",
   "language": "python",
   "name": "python3"
  },
  "language_info": {
   "codemirror_mode": {
    "name": "ipython",
    "version": 3
   },
   "file_extension": ".py",
   "mimetype": "text/x-python",
   "name": "python",
   "nbconvert_exporter": "python",
   "pygments_lexer": "ipython3",
   "version": "3.9.13"
  }
 },
 "nbformat": 4,
 "nbformat_minor": 5
}
