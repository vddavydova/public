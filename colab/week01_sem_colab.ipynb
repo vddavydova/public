{
 "cells": [
  {
   "cell_type": "markdown",
   "id": "531911c1",
   "metadata": {},
   "source": [
    "<a href=\"https://colab.research.google.com/github/vddavydova/public/blob/main/week01_sem_colab.ipynb\" target=\"_parent\"><img src=\"https://colab.research.google.com/assets/colab-badge.svg\" alt=\"Open In Colab\"/></a>"
   ]
  },
  {
   "cell_type": "markdown",
   "id": "032535c8",
   "metadata": {},
   "source": [
    "# <center> Hello, World </center>"
   ]
  },
  {
   "cell_type": "markdown",
   "id": "76fbc0da",
   "metadata": {},
   "source": [
    "![](https://media.giphy.com/media/fm4WhPMzu9hRK/giphy.gif)"
   ]
  },
  {
   "cell_type": "markdown",
   "id": "12b505b6",
   "metadata": {},
   "source": [
    "# Problem #1. Hello, World!"
   ]
  },
  {
   "cell_type": "markdown",
   "id": "cd2f4aa5",
   "metadata": {},
   "source": [
    "Вы стали учебным ассистентом по курсу программирования на языке Python (вот это повезло!). Вам необходимо написать программу, которая будет считывать две переменных: ФИО и оценку студента и выводить текст: \"Уважаемый ФИО, за курс по Python вы получили ОЦЕНКА!\"\n",
    " \n",
    "**Ввод:**\n",
    "\n",
    "Программистов Питон Анакондивич\n",
    "\n",
    "10\n",
    "\n",
    "**Вывод:**\n",
    "\n",
    "Уважаемый Программистов Питон Анакондивич, за курс по Python вы получили 10!"
   ]
  },
  {
   "cell_type": "code",
   "execution_count": null,
   "id": "14c856bf",
   "metadata": {},
   "outputs": [],
   "source": [
    "# YOUR CODE"
   ]
  },
  {
   "cell_type": "markdown",
   "id": "d70b3fad",
   "metadata": {},
   "source": [
    "# Problem #2. Sleep is important\n",
    "\n",
    "Вы решили следить за своим режимом сна и создать программу, которая будет вычислять нужное время пробуждения в зависимости от времени засыпания и необходимой длительности сна. Напишите программу, которая будет считывать три целых числа : час засыпания, минуты засыпания, длительность сна (в минутах) и выводить время пробуждения в формате **ЧЧ:ММ**. Будем считать, что вы всегда ложитесь спать после полуночи, так как делаете домашки по питону.                          \n",
    "\n",
    "**Ввод:**\n",
    "\n",
    "1\n",
    "20\n",
    "350\n",
    "\n",
    "**Вывод:**\n",
    "\n",
    "7:10"
   ]
  },
  {
   "cell_type": "code",
   "execution_count": null,
   "id": "7fb1378e",
   "metadata": {},
   "outputs": [],
   "source": [
    "# YOUR CODE"
   ]
  }
 ],
 "metadata": {
  "kernelspec": {
   "display_name": "Python 3 (ipykernel)",
   "language": "python",
   "name": "python3"
  },
  "language_info": {
   "codemirror_mode": {
    "name": "ipython",
    "version": 3
   },
   "file_extension": ".py",
   "mimetype": "text/x-python",
   "name": "python",
   "nbconvert_exporter": "python",
   "pygments_lexer": "ipython3",
   "version": "3.9.13"
  }
 },
 "nbformat": 4,
 "nbformat_minor": 5
}
