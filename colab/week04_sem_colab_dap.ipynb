{
 "cells": [
  {
   "cell_type": "markdown",
   "id": "8c5aaf67",
   "metadata": {},
   "source": [
    "<a href=\"https://colab.research.google.com/github/vddavydova/public/blob/main/colab/week04_sem_colab_dap.ipynb\" target=\"_parent\"><img src=\"https://colab.research.google.com/assets/colab-badge.svg\" alt=\"Open In Colab\"/></a>"
   ]
  },
  {
   "cell_type": "markdown",
   "id": "6669fce4",
   "metadata": {},
   "source": [
    "# Week 04. Seminar. Functions"
   ]
  },
  {
   "cell_type": "markdown",
   "id": "e3947e4f",
   "metadata": {},
   "source": [
    "### Генерация случайных величин\n",
    "\n",
    "Иногда для решения задач по теории вероятностей или исследования свойств статистических алгоритмов нужно сгенерировать случайную выборку из какого-нибудь распределения. Для генерации мы будем пользоваться пакетом `random`. Это самый простой способ генерации."
   ]
  },
  {
   "cell_type": "code",
   "execution_count": null,
   "id": "0bbebdc5",
   "metadata": {},
   "outputs": [],
   "source": [
    "import random as rd"
   ]
  },
  {
   "cell_type": "markdown",
   "id": "4915b77e",
   "metadata": {},
   "source": [
    "# Problem #0. Задача про удава Анатолия \n",
    "\n",
    "Удав Анатолий любит французские багеты. Длина французского багета равна 1 метру. За один заглот Удав Анатолий заглатывает кусок случайной длины, равномерно распределённый на отрезке $[0;1]$. Для того, чтобы съесть весь багет удаву потребуется случайное количество $N$ заглотов.\n",
    " \n",
    "Найдите $E(N)$ и $Var(N)$. \n",
    "\n",
    "Эту задачку очень сложно решить в лоб, но можно попробовать замоделировать поедание багета много раз и найти нужные нам характеристики. Кстати говоря,в сборнике сложных задач по терверу, [культурном коде](https://github.com/vddavydova/public/raw/main/other/probability_dna.pdf), можно найти три разных решения этой задачки. Она там находится под номером 46."
   ]
  },
  {
   "cell_type": "code",
   "execution_count": null,
   "id": "6e587a36",
   "metadata": {},
   "outputs": [],
   "source": [
    "# YOUR CODE"
   ]
  },
  {
   "cell_type": "code",
   "execution_count": null,
   "id": "a21719fd",
   "metadata": {},
   "outputs": [],
   "source": [
    "# файл, который содержит тестовые данные\n",
    "# https://github.com/vddavydova/dap_spring_2023/blob/main/week04/sem/tests.py\n",
    "import tests"
   ]
  },
  {
   "cell_type": "markdown",
   "id": "1c8d3ebc",
   "metadata": {},
   "source": [
    "# Problem #1. Удалить повторяющиеся пробелы\n"
   ]
  },
  {
   "cell_type": "code",
   "execution_count": null,
   "id": "b9efb478",
   "metadata": {},
   "outputs": [],
   "source": [
    "def remove_repeated_spaces():\n",
    "    \n",
    "    # YOUR CODE\n",
    "\n",
    "    return "
   ]
  },
  {
   "cell_type": "code",
   "execution_count": null,
   "id": "458d80e9",
   "metadata": {},
   "outputs": [],
   "source": [
    "# TEST YOUR SOLUTION \n",
    "\n",
    "tests.test_remove_repeated_spaces(remove_repeated_spaces)"
   ]
  },
  {
   "cell_type": "markdown",
   "id": "0fdbc35f",
   "metadata": {},
   "source": [
    "# Problem #2. Fizz Buzz \n",
    "\n",
    "Напишите программу, которая выводит строковое представление чисел от 1 до n.\n",
    "\n",
    "Но для чисел кратных трем он должен выводить «Fizz» вместо числа, а для кратных пяти - «Buzz». Для чисел, кратных трем и пяти, выведите «FizzBuzz»."
   ]
  },
  {
   "cell_type": "code",
   "execution_count": null,
   "id": "aa57064e",
   "metadata": {},
   "outputs": [],
   "source": [
    "def fizz_buzz(n):\n",
    "    \n",
    "    # YOUR CODE\n",
    "\n",
    "    return "
   ]
  },
  {
   "cell_type": "code",
   "execution_count": null,
   "id": "7ed78d01",
   "metadata": {},
   "outputs": [],
   "source": [
    "# TEST YOUR SOLUTION \n",
    "\n",
    "tests.test_fizz_buzz(fizz_buzz)"
   ]
  },
  {
   "cell_type": "markdown",
   "id": "40ff0189",
   "metadata": {},
   "source": [
    "# Problem #3. Fibonacci \n",
    "\n",
    "Напишите программу, которая выводить числа Фибоначчи. (Подсказка: последовательность Фибоначчи - это последовательность чисел, в которой каждое следующее число в последовательности - это сумма двух предыдущих чисел. Последовательность выглядит так: 1, 1, 2, 3, 5, 8, 13, …)"
   ]
  },
  {
   "cell_type": "code",
   "execution_count": null,
   "id": "df9b9ca0",
   "metadata": {},
   "outputs": [],
   "source": [
    "def fibonacci():\n",
    "    \n",
    "    # YOUR CODE\n",
    "\n",
    "    return "
   ]
  },
  {
   "cell_type": "code",
   "execution_count": null,
   "id": "6618da85",
   "metadata": {},
   "outputs": [],
   "source": [
    "# TEST YOUR SOLUTION  \n",
    "\n",
    "tests.test_fibonacci(fibonacci)"
   ]
  },
  {
   "cell_type": "markdown",
   "id": "e7ab33a1",
   "metadata": {},
   "source": [
    "# Problem #4. Палиндром \n",
    "\n",
    "Определите, является ли строка палиндромом. Палиндром – это число или текст, одинаково читающееся в обоих направлениях."
   ]
  },
  {
   "cell_type": "code",
   "execution_count": null,
   "id": "7c215fd6",
   "metadata": {},
   "outputs": [],
   "source": [
    "def is_palindrome(string):\n",
    "    \n",
    "    # YOUR CODE\n",
    "    \n",
    "    return "
   ]
  },
  {
   "cell_type": "code",
   "execution_count": null,
   "id": "a3ddfbb7",
   "metadata": {},
   "outputs": [],
   "source": [
    "# TEST YOUR SOLUTION  \n",
    "\n",
    "tests.test_valid_palindrome(is_almost_palindrome)"
   ]
  },
  {
   "cell_type": "markdown",
   "id": "cb30a8ab",
   "metadata": {},
   "source": [
    "# Problem #5. Найти все дубли в списке    \n",
    "\n",
    "В массиве целых чисел некоторые элементы появляются дважды, а другие – один раз. <br>\n",
    "Найдите все элементы, которые встречаются дважды в этом массиве. <br>\n",
    "Выводить элементы нужно в том же порядке, в котором они первый раз встретились в листе."
   ]
  },
  {
   "cell_type": "code",
   "execution_count": null,
   "id": "cac677be",
   "metadata": {},
   "outputs": [],
   "source": [
    "def find_duplicates():\n",
    "    \n",
    "    # YOUR CODE\n",
    "\n",
    "    return "
   ]
  },
  {
   "cell_type": "code",
   "execution_count": null,
   "id": "48d8f457",
   "metadata": {},
   "outputs": [],
   "source": [
    "# TEST YOUR SOLUTION \n",
    "\n",
    "tests.test_find_duplicates(find_duplicates)"
   ]
  },
  {
   "cell_type": "markdown",
   "id": "c7b5bbd7",
   "metadata": {},
   "source": [
    "# Problem #6. Частота слов \n",
    "\n",
    "Напишите скрипт для подсчета частоты каждого слова. <br>\n",
    "Ваш скрипт должен выводить отсортированные по убыванию частоты. <br>\n",
    "Дополнительное условние: на вход поступает строка, на выход нужно получить лист из кортежей (слово, частота)  "
   ]
  },
  {
   "cell_type": "code",
   "execution_count": null,
   "id": "593ef58a",
   "metadata": {},
   "outputs": [],
   "source": [
    "def count_word_frequency(string):\n",
    "    \n",
    "# YOUR CODE\n",
    "\n",
    "    return "
   ]
  },
  {
   "cell_type": "code",
   "execution_count": null,
   "id": "71de07e2",
   "metadata": {},
   "outputs": [],
   "source": [
    "# TEST YOUR SOLUTION   \n",
    "\n",
    "tests.test_word_frequency(count_word_frequency)"
   ]
  },
  {
   "cell_type": "markdown",
   "id": "38e16f36",
   "metadata": {},
   "source": [
    "# Problem #7. Самая длинная подстрока без повторяющихся символов\n",
    "\n",
    "Для заданной строки найти длину самой длинной подстроки без повторяющихся символов."
   ]
  },
  {
   "cell_type": "code",
   "execution_count": null,
   "id": "6099e9f2",
   "metadata": {},
   "outputs": [],
   "source": [
    "def length_of_longest_substring():\n",
    "    \n",
    "    # YOUR CODE\n",
    "    \n",
    "    return "
   ]
  },
  {
   "cell_type": "code",
   "execution_count": null,
   "id": "78bee22c",
   "metadata": {},
   "outputs": [],
   "source": [
    "# TEST YOUR SOLUTION  \n",
    "\n",
    "tests.test_longest_substring(length_of_longest_substring)"
   ]
  },
  {
   "cell_type": "markdown",
   "id": "f0eb6e4c",
   "metadata": {},
   "source": [
    "# Problem #8. Сумма двух данных\n",
    "\n",
    "Дан массив целых чисел, вернуть индексы двух чисел так, чтобы они в сумме давали определенную цель. <br>\n",
    "Вы можете предположить, что каждый вход будет иметь ровно одно решение, и вы не можете использовать один и тот же элемент дважды. <br>\n",
    "\n",
    "Например, "
   ]
  },
  {
   "cell_type": "code",
   "execution_count": null,
   "id": "56a54420",
   "metadata": {},
   "outputs": [],
   "source": [
    "# nums = [1, 3, 11, 2, 7] \n",
    "# target = 9 \n",
    "# output = (3, 4)"
   ]
  },
  {
   "cell_type": "code",
   "execution_count": null,
   "id": "65c5687a",
   "metadata": {},
   "outputs": [],
   "source": [
    "def two_sum():\n",
    "    \n",
    "    # YOUR CODE\n",
    "    \n",
    "    return "
   ]
  },
  {
   "cell_type": "code",
   "execution_count": null,
   "id": "22f371f5",
   "metadata": {},
   "outputs": [],
   "source": [
    "# TEST YOUR SOLUTION  \n",
    "\n",
    "tests.test_two_sum(two_sum)"
   ]
  },
  {
   "cell_type": "markdown",
   "id": "4a9ec819",
   "metadata": {},
   "source": [
    "# Problem #9. Парковка\n",
    " \n",
    "Напишите функцию, которая принимает на вход словарь, где ключом является индекс парковочного места, а значением True/False (занято/свободно). <br> \n",
    "Вторым аргументом функция должна принимать индекс места, которое хочется занять. <br>\n",
    "Функция должна возращать True, если место можно занять и модифицировать словарь, занимая место. Функция возвращает False, если место уже занято.\n",
    "\n"
   ]
  },
  {
   "cell_type": "code",
   "execution_count": null,
   "id": "205c9014",
   "metadata": {},
   "outputs": [],
   "source": [
    "def parking_lot():\n",
    "    \n",
    "    # YOUR CODE\n",
    "    \n",
    "        return "
   ]
  },
  {
   "cell_type": "code",
   "execution_count": null,
   "id": "756301a4",
   "metadata": {},
   "outputs": [],
   "source": [
    "# TEST YOUR SOLUTION   \n",
    "\n",
    "tests.test_parking_lot(parking_lot)"
   ]
  },
  {
   "cell_type": "markdown",
   "id": "bd1bc143",
   "metadata": {},
   "source": [
    "# Problem #10: одинаковые строки\n",
    " \n",
    "Напишите функцию, которая приенимает на вход две строки и возвращает True, если перестановкой символов можно получить вторую строку из первой."
   ]
  },
  {
   "cell_type": "code",
   "execution_count": null,
   "id": "8d0be2af",
   "metadata": {},
   "outputs": [],
   "source": [
    "def is_isomorphic():\n",
    "    \n",
    "    # YOUR CODE\n",
    "    \n",
    "        return "
   ]
  },
  {
   "cell_type": "code",
   "execution_count": null,
   "id": "d48a076c",
   "metadata": {},
   "outputs": [],
   "source": [
    "# TEST YOUR SOLUTION   \n",
    "\n",
    "tests.test_is_isomorphic(is_isomorphic)"
   ]
  },
  {
   "cell_type": "markdown",
   "id": "28098128",
   "metadata": {},
   "source": [
    "# Problem #11. [Камешки](https://leetcode.com/problems/jewels-and-stones/)\n",
    "\n",
    "У Дори в глубинах океана есть кучка камней. Часть камней из этой кучки драгоценные. Недавно она пересчитала все драгоценные и забыла сколько их. Чтобы больше не забывать, Дори решила написать на питоне функцию, которая будет считать камни за неё.\n",
    "\n",
    "Напишите на python функцию, которая принимает на вход список драгоценных камней $J$ и список камней, которые есть у Дори $S$. На выход функция возвращает число драгоценных камней в запасах Дори.\n",
    "\n",
    "__Примеры:__ \n",
    "\n",
    "> Input: J = \"aA\", S = \"aAAbbbb\" <br />\n",
    "Output: 3\n",
    "\n",
    "Тут драгоценными считаются камни a и A. У Дори есть камни aAAbbbb. Среди них три драгоценных, aAA.\n",
    "\n",
    ">Input: J = \"z\", S = \"ZZ\" <br />\n",
    "Output: 0\n",
    "\n",
    "Драгоценными мы считаем только камень z. У Дори два камня, оба обычные."
   ]
  },
  {
   "cell_type": "markdown",
   "id": "7061ae21",
   "metadata": {},
   "source": [
    "<img src=\"https://steemitimages.com/0x0/https://media.makeameme.org/created/repeat-repeat-repeat-5984a6.jpg\" height=\"400\" width=\"400\">"
   ]
  },
  {
   "cell_type": "code",
   "execution_count": null,
   "id": "a8a46223",
   "metadata": {},
   "outputs": [],
   "source": [
    "def numJewelsInStones():\n",
    "    \n",
    "     # YOUR CODE\n",
    "        \n",
    "    return "
   ]
  },
  {
   "cell_type": "code",
   "execution_count": null,
   "id": "edf295cf",
   "metadata": {},
   "outputs": [],
   "source": [
    "# TEST YOUR SOLUTION  \n",
    "\n",
    "tests.test_problem_13(numJewelsInStones, NUM_JEWELS_IN_STONES_TESTS_DATA)"
   ]
  },
  {
   "cell_type": "markdown",
   "id": "e0b47bfc",
   "metadata": {},
   "source": [
    "# Problem #12. Слова\n",
    "\n",
    "Напишите функцию `stats(s)`, принимающую на вход строку `s`, содержащую слова, разделённые пробелами, и находящую самое часто встречающееся слово. Если такое слово одно, верните его, если их несколько, верните список, отсортированный в лексикографическом порядке.\n",
    "\n",
    "Например: `stats(\"hello hello world\")` должна вернуть строчку `\"hello\"`, а `stats(\"a a b b c\")` должна вернуть список `['a','b']`."
   ]
  },
  {
   "cell_type": "code",
   "execution_count": null,
   "id": "6f1b189d",
   "metadata": {},
   "outputs": [],
   "source": [
    "def stats():\n",
    "    \n",
    "    # YOUR CODE\n",
    "    \n",
    "return   "
   ]
  },
  {
   "cell_type": "code",
   "execution_count": null,
   "id": "98464e96",
   "metadata": {},
   "outputs": [],
   "source": [
    "# TEST YOUR SOLUTION \n",
    "\n",
    "tests.test_stats(stats)"
   ]
  },
  {
   "cell_type": "markdown",
   "id": "f917a16d",
   "metadata": {},
   "source": [
    "# Problem #13. Сумма двух \n",
    "\n",
    "Дан массив из целых чисел `nums` и ещё одно целое число `target`.  Найдите все такие пары чисел из массива `nums`, которые в сумме дают число `target`. Выведите на экран их индексы. Одно и то же число использовать при подсчёте суммы дважды нельзя. Попытайтесь решить эту задачу максимально эффективно. "
   ]
  },
  {
   "cell_type": "code",
   "execution_count": null,
   "id": "644efbc6",
   "metadata": {},
   "outputs": [],
   "source": [
    "def sum_two():\n",
    "\n",
    "    # YOUR CODE\n",
    "\n",
    "    return"
   ]
  },
  {
   "cell_type": "code",
   "execution_count": null,
   "id": "e13b8ba3",
   "metadata": {},
   "outputs": [],
   "source": [
    "# TEST YOUR SOLUTION \n",
    "\n",
    "tests.test_sum_two(sum_two)"
   ]
  },
  {
   "cell_type": "markdown",
   "id": "ee5a6d19",
   "metadata": {},
   "source": [
    "# Problem #14. Магазин\n",
    "\n",
    "Вам предостоит обработать базу данных о продажах некоторого интернет-магазина. База данных представляет собой набор кортежей, в каждом кортеже три элемента: (Покупатель, товар, количество), где Покупатель — имя покупателя (строка без пробелов), товар — название товара (строка без пробелов), количество — количество приобретенных единиц товара.\n",
    "\n",
    "Создайте словарь, ключами которого являются имена покупателей, а значениями — словари, ключами которых являются названия товаров, а значениями — количество единиц этого товара, которые купил этот покупатель.\n",
    "\n",
    "Напишите функцию `aggregate`, принимающую некоторое количество набор кортежей из базы данных и возвращающую сводную информацию в виде словаря."
   ]
  },
  {
   "cell_type": "code",
   "execution_count": null,
   "id": "89c1bb08",
   "metadata": {},
   "outputs": [],
   "source": [
    "from collections import defaultdict\n",
    "\n",
    "def aggregate(names):\n",
    "    \n",
    "    # YOUR CODE\n",
    "    \n",
    "    return "
   ]
  },
  {
   "cell_type": "code",
   "execution_count": null,
   "id": "95b4d8ea",
   "metadata": {},
   "outputs": [],
   "source": [
    "# TEST YOUR SOLUTION \n",
    "\n",
    "tests.test_aggregate(aggregate)"
   ]
  },
  {
   "cell_type": "markdown",
   "id": "3587c15f",
   "metadata": {},
   "source": [
    "# Problem #15. Последовательность ДНК\n"
   ]
  },
  {
   "cell_type": "markdown",
   "id": "1839f3be",
   "metadata": {},
   "source": [
    "Последовательность ДНК содержит четыре вида символов: 'A', 'C', 'G', и 'T'. Напишите функцию, которая будет возращать все подпоследовательности длины 10, которые встретились чаще одного раза."
   ]
  },
  {
   "cell_type": "code",
   "execution_count": null,
   "id": "7b3fa43e",
   "metadata": {},
   "outputs": [],
   "source": [
    "def repeated_dna(s):\n",
    "\n",
    "     # YOUR CODE\n",
    "    \n",
    "    return "
   ]
  },
  {
   "cell_type": "code",
   "execution_count": null,
   "id": "f1decf03",
   "metadata": {},
   "outputs": [],
   "source": [
    "# TEST YOUR SOLUTION \n",
    "\n",
    "tests.test_repeated_dna(repeated_dna)"
   ]
  }
 ],
 "metadata": {
  "kernelspec": {
   "display_name": "Python 3 (ipykernel)",
   "language": "python",
   "name": "python3"
  },
  "language_info": {
   "codemirror_mode": {
    "name": "ipython",
    "version": 3
   },
   "file_extension": ".py",
   "mimetype": "text/x-python",
   "name": "python",
   "nbconvert_exporter": "python",
   "pygments_lexer": "ipython3",
   "version": "3.9.13"
  }
 },
 "nbformat": 4,
 "nbformat_minor": 5
}
