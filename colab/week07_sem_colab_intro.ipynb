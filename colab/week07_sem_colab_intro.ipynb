{
 "cells": [
  {
   "cell_type": "markdown",
   "id": "7acc8e71",
   "metadata": {},
   "source": [
    "<a href=\"https://colab.research.google.com/github/vddavydova/public/blob/main/colab/week07_sem_colab_intro.ipynb\" target=\"_parent\"><img src=\"https://colab.research.google.com/assets/colab-badge.svg\" alt=\"Open In Colab\"/></a>"
   ]
  },
  {
   "cell_type": "markdown",
   "id": "b32fdcea",
   "metadata": {},
   "source": [
    "# files, pandas and numpy"
   ]
  },
  {
   "cell_type": "markdown",
   "id": "3a7a2234",
   "metadata": {},
   "source": [
    "# <center> files"
   ]
  },
  {
   "cell_type": "markdown",
   "id": "4aa7df74",
   "metadata": {},
   "source": [
    "# Problem #1\n",
    "\n",
    "У вас есть $n$ решений студентов в виде файлов `.py`. Вы хотите найти списывающих людей, то есть те решения, которые в точности совпадают. Написать для этого код на питоне"
   ]
  },
  {
   "cell_type": "code",
   "execution_count": null,
   "id": "dffc7bc9",
   "metadata": {},
   "outputs": [],
   "source": [
    "import os"
   ]
  },
  {
   "cell_type": "code",
   "execution_count": null,
   "id": "62d84378",
   "metadata": {},
   "outputs": [],
   "source": [
    "os.getcwd()"
   ]
  },
  {
   "cell_type": "code",
   "execution_count": null,
   "id": "755828d8",
   "metadata": {},
   "outputs": [],
   "source": [
    "# YOUR CODE"
   ]
  },
  {
   "cell_type": "markdown",
   "id": "a67e4444",
   "metadata": {},
   "source": [
    "# <center> pandas"
   ]
  },
  {
   "cell_type": "markdown",
   "id": "b323e999",
   "metadata": {},
   "source": [
    "# Problem #1\n",
    "\n",
    "Сгенерируйте массив точек в 3D, создайте по нему датафрейм и отсортируйте строки лексикографически."
   ]
  },
  {
   "cell_type": "code",
   "execution_count": null,
   "id": "368e6ed6",
   "metadata": {},
   "outputs": [],
   "source": [
    "# YOUR CODE"
   ]
  },
  {
   "cell_type": "markdown",
   "id": "ff7a433f",
   "metadata": {},
   "source": [
    "# <center> numpy"
   ]
  },
  {
   "cell_type": "markdown",
   "id": "fb8bf19f",
   "metadata": {},
   "source": [
    "# Problem #1.\n",
    "\n",
    "Создайте numpy-массив, состоящий из первых пяти простых чисел, выведите его тип и размер."
   ]
  },
  {
   "cell_type": "code",
   "execution_count": null,
   "id": "c7b11e9f",
   "metadata": {},
   "outputs": [],
   "source": [
    "# YOUR CODE"
   ]
  }
 ],
 "metadata": {
  "kernelspec": {
   "display_name": "Python 3 (ipykernel)",
   "language": "python",
   "name": "python3"
  },
  "language_info": {
   "codemirror_mode": {
    "name": "ipython",
    "version": 3
   },
   "file_extension": ".py",
   "mimetype": "text/x-python",
   "name": "python",
   "nbconvert_exporter": "python",
   "pygments_lexer": "ipython3",
   "version": "3.9.13"
  }
 },
 "nbformat": 4,
 "nbformat_minor": 5
}
