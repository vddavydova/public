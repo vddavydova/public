{
  "nbformat": 4,
  "nbformat_minor": 0,
  "metadata": {
    "colab": {
      "provenance": []
    },
    "kernelspec": {
      "name": "python3",
      "display_name": "Python 3"
    },
    "language_info": {
      "name": "python"
    }
  },
  "cells": [
    {
      "cell_type": "markdown",
      "source": [
        "## Подготовка данных"
      ],
      "metadata": {
        "id": "OJ9nVjuIpj9p"
      }
    },
    {
      "cell_type": "code",
      "source": [
        "import numpy as np\n",
        "import pandas as pd\n",
        "import gensim\n",
        "\n",
        "from tensorflow.keras.models import Sequential\n",
        "from tensorflow.keras.layers import Embedding, Conv1D, GlobalMaxPooling1D, Dense\n",
        "from tensorflow.keras.preprocessing.text import Tokenizer\n",
        "from tensorflow.keras.preprocessing.sequence import pad_sequences\n",
        "\n",
        "# Загрузка предобученных векторов слов\n",
        "pretrained_vectors_path = '/content/drive/MyDrive/Colab Notebooks/data/model.model.vectors.npy'"
      ],
      "metadata": {
        "id": "dfeAJoGYxZtI"
      },
      "execution_count": 1,
      "outputs": []
    },
    {
      "cell_type": "code",
      "execution_count": 2,
      "metadata": {
        "colab": {
          "base_uri": "https://localhost:8080/"
        },
        "id": "ZX_XMNnFldNb",
        "outputId": "b3bc0018-beea-44bf-d220-36865b6d7eb1"
      },
      "outputs": [
        {
          "output_type": "stream",
          "name": "stdout",
          "text": [
            "Drive already mounted at /content/drive/; to attempt to forcibly remount, call drive.mount(\"/content/drive/\", force_remount=True).\n"
          ]
        }
      ],
      "source": [
        "from google.colab import drive\n",
        "drive.mount('/content/drive/')"
      ]
    },
    {
      "cell_type": "code",
      "source": [
        "data = pd.read_excel(\"/content/drive/MyDrive/Colab Notebooks/data/отзывы за лето.xls\")\n",
        "data.head()"
      ],
      "metadata": {
        "colab": {
          "base_uri": "https://localhost:8080/",
          "height": 206
        },
        "id": "4Qh5GNR3llAx",
        "outputId": "eaa0aa23-2747-4aec-c7ff-a7c30284f902"
      },
      "execution_count": 3,
      "outputs": [
        {
          "output_type": "execute_result",
          "data": {
            "text/plain": [
              "   Rating                                            Content        Date\n",
              "0       5                                     It just works!  2017-08-14\n",
              "1       4  В целом удобноное приложение...из минусов хотя...  2017-08-14\n",
              "2       5                                        Отлично все  2017-08-14\n",
              "3       5  Стал зависать на 1% работы антивируса. Дальше ...  2017-08-14\n",
              "4       5                     Очень удобно, работает быстро.  2017-08-14"
            ],
            "text/html": [
              "\n",
              "  <div id=\"df-b33ce93d-4b64-4264-8067-edfc74319e48\" class=\"colab-df-container\">\n",
              "    <div>\n",
              "<style scoped>\n",
              "    .dataframe tbody tr th:only-of-type {\n",
              "        vertical-align: middle;\n",
              "    }\n",
              "\n",
              "    .dataframe tbody tr th {\n",
              "        vertical-align: top;\n",
              "    }\n",
              "\n",
              "    .dataframe thead th {\n",
              "        text-align: right;\n",
              "    }\n",
              "</style>\n",
              "<table border=\"1\" class=\"dataframe\">\n",
              "  <thead>\n",
              "    <tr style=\"text-align: right;\">\n",
              "      <th></th>\n",
              "      <th>Rating</th>\n",
              "      <th>Content</th>\n",
              "      <th>Date</th>\n",
              "    </tr>\n",
              "  </thead>\n",
              "  <tbody>\n",
              "    <tr>\n",
              "      <th>0</th>\n",
              "      <td>5</td>\n",
              "      <td>It just works!</td>\n",
              "      <td>2017-08-14</td>\n",
              "    </tr>\n",
              "    <tr>\n",
              "      <th>1</th>\n",
              "      <td>4</td>\n",
              "      <td>В целом удобноное приложение...из минусов хотя...</td>\n",
              "      <td>2017-08-14</td>\n",
              "    </tr>\n",
              "    <tr>\n",
              "      <th>2</th>\n",
              "      <td>5</td>\n",
              "      <td>Отлично все</td>\n",
              "      <td>2017-08-14</td>\n",
              "    </tr>\n",
              "    <tr>\n",
              "      <th>3</th>\n",
              "      <td>5</td>\n",
              "      <td>Стал зависать на 1% работы антивируса. Дальше ...</td>\n",
              "      <td>2017-08-14</td>\n",
              "    </tr>\n",
              "    <tr>\n",
              "      <th>4</th>\n",
              "      <td>5</td>\n",
              "      <td>Очень удобно, работает быстро.</td>\n",
              "      <td>2017-08-14</td>\n",
              "    </tr>\n",
              "  </tbody>\n",
              "</table>\n",
              "</div>\n",
              "    <div class=\"colab-df-buttons\">\n",
              "\n",
              "  <div class=\"colab-df-container\">\n",
              "    <button class=\"colab-df-convert\" onclick=\"convertToInteractive('df-b33ce93d-4b64-4264-8067-edfc74319e48')\"\n",
              "            title=\"Convert this dataframe to an interactive table.\"\n",
              "            style=\"display:none;\">\n",
              "\n",
              "  <svg xmlns=\"http://www.w3.org/2000/svg\" height=\"24px\" viewBox=\"0 -960 960 960\">\n",
              "    <path d=\"M120-120v-720h720v720H120Zm60-500h600v-160H180v160Zm220 220h160v-160H400v160Zm0 220h160v-160H400v160ZM180-400h160v-160H180v160Zm440 0h160v-160H620v160ZM180-180h160v-160H180v160Zm440 0h160v-160H620v160Z\"/>\n",
              "  </svg>\n",
              "    </button>\n",
              "\n",
              "  <style>\n",
              "    .colab-df-container {\n",
              "      display:flex;\n",
              "      gap: 12px;\n",
              "    }\n",
              "\n",
              "    .colab-df-convert {\n",
              "      background-color: #E8F0FE;\n",
              "      border: none;\n",
              "      border-radius: 50%;\n",
              "      cursor: pointer;\n",
              "      display: none;\n",
              "      fill: #1967D2;\n",
              "      height: 32px;\n",
              "      padding: 0 0 0 0;\n",
              "      width: 32px;\n",
              "    }\n",
              "\n",
              "    .colab-df-convert:hover {\n",
              "      background-color: #E2EBFA;\n",
              "      box-shadow: 0px 1px 2px rgba(60, 64, 67, 0.3), 0px 1px 3px 1px rgba(60, 64, 67, 0.15);\n",
              "      fill: #174EA6;\n",
              "    }\n",
              "\n",
              "    .colab-df-buttons div {\n",
              "      margin-bottom: 4px;\n",
              "    }\n",
              "\n",
              "    [theme=dark] .colab-df-convert {\n",
              "      background-color: #3B4455;\n",
              "      fill: #D2E3FC;\n",
              "    }\n",
              "\n",
              "    [theme=dark] .colab-df-convert:hover {\n",
              "      background-color: #434B5C;\n",
              "      box-shadow: 0px 1px 3px 1px rgba(0, 0, 0, 0.15);\n",
              "      filter: drop-shadow(0px 1px 2px rgba(0, 0, 0, 0.3));\n",
              "      fill: #FFFFFF;\n",
              "    }\n",
              "  </style>\n",
              "\n",
              "    <script>\n",
              "      const buttonEl =\n",
              "        document.querySelector('#df-b33ce93d-4b64-4264-8067-edfc74319e48 button.colab-df-convert');\n",
              "      buttonEl.style.display =\n",
              "        google.colab.kernel.accessAllowed ? 'block' : 'none';\n",
              "\n",
              "      async function convertToInteractive(key) {\n",
              "        const element = document.querySelector('#df-b33ce93d-4b64-4264-8067-edfc74319e48');\n",
              "        const dataTable =\n",
              "          await google.colab.kernel.invokeFunction('convertToInteractive',\n",
              "                                                    [key], {});\n",
              "        if (!dataTable) return;\n",
              "\n",
              "        const docLinkHtml = 'Like what you see? Visit the ' +\n",
              "          '<a target=\"_blank\" href=https://colab.research.google.com/notebooks/data_table.ipynb>data table notebook</a>'\n",
              "          + ' to learn more about interactive tables.';\n",
              "        element.innerHTML = '';\n",
              "        dataTable['output_type'] = 'display_data';\n",
              "        await google.colab.output.renderOutput(dataTable, element);\n",
              "        const docLink = document.createElement('div');\n",
              "        docLink.innerHTML = docLinkHtml;\n",
              "        element.appendChild(docLink);\n",
              "      }\n",
              "    </script>\n",
              "  </div>\n",
              "\n",
              "\n",
              "<div id=\"df-c0def070-7a19-4266-8c1a-8d7494c444ee\">\n",
              "  <button class=\"colab-df-quickchart\" onclick=\"quickchart('df-c0def070-7a19-4266-8c1a-8d7494c444ee')\"\n",
              "            title=\"Suggest charts.\"\n",
              "            style=\"display:none;\">\n",
              "\n",
              "<svg xmlns=\"http://www.w3.org/2000/svg\" height=\"24px\"viewBox=\"0 0 24 24\"\n",
              "     width=\"24px\">\n",
              "    <g>\n",
              "        <path d=\"M19 3H5c-1.1 0-2 .9-2 2v14c0 1.1.9 2 2 2h14c1.1 0 2-.9 2-2V5c0-1.1-.9-2-2-2zM9 17H7v-7h2v7zm4 0h-2V7h2v10zm4 0h-2v-4h2v4z\"/>\n",
              "    </g>\n",
              "</svg>\n",
              "  </button>\n",
              "\n",
              "<style>\n",
              "  .colab-df-quickchart {\n",
              "      --bg-color: #E8F0FE;\n",
              "      --fill-color: #1967D2;\n",
              "      --hover-bg-color: #E2EBFA;\n",
              "      --hover-fill-color: #174EA6;\n",
              "      --disabled-fill-color: #AAA;\n",
              "      --disabled-bg-color: #DDD;\n",
              "  }\n",
              "\n",
              "  [theme=dark] .colab-df-quickchart {\n",
              "      --bg-color: #3B4455;\n",
              "      --fill-color: #D2E3FC;\n",
              "      --hover-bg-color: #434B5C;\n",
              "      --hover-fill-color: #FFFFFF;\n",
              "      --disabled-bg-color: #3B4455;\n",
              "      --disabled-fill-color: #666;\n",
              "  }\n",
              "\n",
              "  .colab-df-quickchart {\n",
              "    background-color: var(--bg-color);\n",
              "    border: none;\n",
              "    border-radius: 50%;\n",
              "    cursor: pointer;\n",
              "    display: none;\n",
              "    fill: var(--fill-color);\n",
              "    height: 32px;\n",
              "    padding: 0;\n",
              "    width: 32px;\n",
              "  }\n",
              "\n",
              "  .colab-df-quickchart:hover {\n",
              "    background-color: var(--hover-bg-color);\n",
              "    box-shadow: 0 1px 2px rgba(60, 64, 67, 0.3), 0 1px 3px 1px rgba(60, 64, 67, 0.15);\n",
              "    fill: var(--button-hover-fill-color);\n",
              "  }\n",
              "\n",
              "  .colab-df-quickchart-complete:disabled,\n",
              "  .colab-df-quickchart-complete:disabled:hover {\n",
              "    background-color: var(--disabled-bg-color);\n",
              "    fill: var(--disabled-fill-color);\n",
              "    box-shadow: none;\n",
              "  }\n",
              "\n",
              "  .colab-df-spinner {\n",
              "    border: 2px solid var(--fill-color);\n",
              "    border-color: transparent;\n",
              "    border-bottom-color: var(--fill-color);\n",
              "    animation:\n",
              "      spin 1s steps(1) infinite;\n",
              "  }\n",
              "\n",
              "  @keyframes spin {\n",
              "    0% {\n",
              "      border-color: transparent;\n",
              "      border-bottom-color: var(--fill-color);\n",
              "      border-left-color: var(--fill-color);\n",
              "    }\n",
              "    20% {\n",
              "      border-color: transparent;\n",
              "      border-left-color: var(--fill-color);\n",
              "      border-top-color: var(--fill-color);\n",
              "    }\n",
              "    30% {\n",
              "      border-color: transparent;\n",
              "      border-left-color: var(--fill-color);\n",
              "      border-top-color: var(--fill-color);\n",
              "      border-right-color: var(--fill-color);\n",
              "    }\n",
              "    40% {\n",
              "      border-color: transparent;\n",
              "      border-right-color: var(--fill-color);\n",
              "      border-top-color: var(--fill-color);\n",
              "    }\n",
              "    60% {\n",
              "      border-color: transparent;\n",
              "      border-right-color: var(--fill-color);\n",
              "    }\n",
              "    80% {\n",
              "      border-color: transparent;\n",
              "      border-right-color: var(--fill-color);\n",
              "      border-bottom-color: var(--fill-color);\n",
              "    }\n",
              "    90% {\n",
              "      border-color: transparent;\n",
              "      border-bottom-color: var(--fill-color);\n",
              "    }\n",
              "  }\n",
              "</style>\n",
              "\n",
              "  <script>\n",
              "    async function quickchart(key) {\n",
              "      const quickchartButtonEl =\n",
              "        document.querySelector('#' + key + ' button');\n",
              "      quickchartButtonEl.disabled = true;  // To prevent multiple clicks.\n",
              "      quickchartButtonEl.classList.add('colab-df-spinner');\n",
              "      try {\n",
              "        const charts = await google.colab.kernel.invokeFunction(\n",
              "            'suggestCharts', [key], {});\n",
              "      } catch (error) {\n",
              "        console.error('Error during call to suggestCharts:', error);\n",
              "      }\n",
              "      quickchartButtonEl.classList.remove('colab-df-spinner');\n",
              "      quickchartButtonEl.classList.add('colab-df-quickchart-complete');\n",
              "    }\n",
              "    (() => {\n",
              "      let quickchartButtonEl =\n",
              "        document.querySelector('#df-c0def070-7a19-4266-8c1a-8d7494c444ee button');\n",
              "      quickchartButtonEl.style.display =\n",
              "        google.colab.kernel.accessAllowed ? 'block' : 'none';\n",
              "    })();\n",
              "  </script>\n",
              "</div>\n",
              "    </div>\n",
              "  </div>\n"
            ]
          },
          "metadata": {},
          "execution_count": 3
        }
      ]
    },
    {
      "cell_type": "code",
      "source": [
        "# Предварительная обработка текста\n",
        "from sklearn.model_selection import train_test_split\n",
        "\n",
        "# Разделение данных на обучающую и тестовую выборки\n",
        "train_data, test_data, train_labels, test_labels = train_test_split(\n",
        "    data['Content'], data['Rating'], test_size=0.3, random_state=42)"
      ],
      "metadata": {
        "id": "k-d3Re3dlvGG"
      },
      "execution_count": 4,
      "outputs": []
    },
    {
      "cell_type": "code",
      "source": [
        "import nltk\n",
        "import re\n",
        "\n",
        "# Загрузка ресурсов NLTK (например, стоп-слов)\n",
        "nltk.download('punkt')\n",
        "nltk.download('stopwords')\n",
        "\n",
        "from nltk.corpus import stopwords\n",
        "from nltk.tokenize import word_tokenize\n",
        "\n",
        "# Функция для предварительной обработки текста\n",
        "def preprocess_text(text):\n",
        "    if isinstance(text, str):  # Проверяем, что текст является строкой\n",
        "        # Преобразование текста в нижний регистр\n",
        "        text = text.lower()\n",
        "\n",
        "        # Удаление символов пунктуации и специальных символов\n",
        "        text = re.sub(r'[^a-zA-Zа-яА-Я0-9\\s]', '', text)\n",
        "\n",
        "        # Токенизация текста (разделение на слова)\n",
        "        tokens = word_tokenize(text)\n",
        "\n",
        "        # Удаление стоп-слов (часто встречающихся слов, которые не несут смысла)\n",
        "        stop_words = set(stopwords.words('russian'))  # Список стоп-слов для русского языка\n",
        "        tokens = [word for word in tokens if word not in stop_words]\n",
        "\n",
        "        # Объединение токенов обратно в текст\n",
        "        preprocessed_text = ' '.join(tokens)\n",
        "    else:\n",
        "        preprocessed_text = ''  # Если значение не является строкой, возвращаем пустую строку\n",
        "\n",
        "    return preprocessed_text"
      ],
      "metadata": {
        "colab": {
          "base_uri": "https://localhost:8080/"
        },
        "id": "_IZXZTs9m1ZJ",
        "outputId": "8adc67aa-aebe-4bc6-b4ef-7840a0434c0d"
      },
      "execution_count": 5,
      "outputs": [
        {
          "output_type": "stream",
          "name": "stderr",
          "text": [
            "[nltk_data] Downloading package punkt to /root/nltk_data...\n",
            "[nltk_data]   Package punkt is already up-to-date!\n",
            "[nltk_data] Downloading package stopwords to /root/nltk_data...\n",
            "[nltk_data]   Package stopwords is already up-to-date!\n"
          ]
        }
      ]
    },
    {
      "cell_type": "code",
      "source": [
        "# Применение функции предварительной обработки к данным\n",
        "train_data_preprocessed = train_data.apply(preprocess_text)\n",
        "test_data_preprocessed = test_data.apply(preprocess_text)\n",
        "\n",
        "# Прочие статические переменные\n",
        "tokenizer = Tokenizer()\n",
        "vocab_size = len(tokenizer.word_index) + 1  # +1 для учета паддинга (PAD)"
      ],
      "metadata": {
        "id": "cl-3iQv3XqCp"
      },
      "execution_count": 6,
      "outputs": []
    },
    {
      "cell_type": "code",
      "source": [
        "#/content/drive/MyDrive/Colab Notebooks/data/\n",
        "train_data_preprocessed.head()"
      ],
      "metadata": {
        "colab": {
          "base_uri": "https://localhost:8080/"
        },
        "id": "qCyKXVygrTDy",
        "outputId": "258515e5-f2a3-40ab-89cc-949471a7b331"
      },
      "execution_count": 7,
      "outputs": [
        {
          "output_type": "execute_result",
          "data": {
            "text/plain": [
              "10890                                                супер\n",
              "19623    отличное приложение очень удобно управлять сче...\n",
              "7430                                                    ок\n",
              "7934                                             0 минусов\n",
              "9630                      очень приятное положение спасибо\n",
              "Name: Content, dtype: object"
            ]
          },
          "metadata": {},
          "execution_count": 7
        }
      ]
    },
    {
      "cell_type": "markdown",
      "source": [
        "## Создание моделей CNN"
      ],
      "metadata": {
        "id": "AXKTsvoMpsJs"
      }
    },
    {
      "cell_type": "markdown",
      "source": [
        "### 2.1 Модель с предобученными векторами\n",
        "\n",
        "В этой модели используем предобученные векторные представления слов.\n"
      ],
      "metadata": {
        "id": "jyVTgXVIpx1c"
      }
    },
    {
      "cell_type": "code",
      "source": [
        "epochs = 5  # Количество эпох (сколько раз пройти через обучающие данные)\n",
        "embedding_dim = 300 # Размерность векторов\n",
        "batch_size = 10  # Размер пакета (сколько примеров обрабатывать за одну итерацию)\n",
        "\n",
        "### model 214, веса не переобучаются\n",
        "\n",
        "# Создание токенизатора и преобразование текста в последовательности чисел\n",
        "tokenizer.fit_on_texts(train_data_preprocessed)\n",
        "train_sequences = tokenizer.texts_to_sequences(train_data_preprocessed)\n",
        "test_sequences = tokenizer.texts_to_sequences(test_data_preprocessed)\n",
        "\n",
        "max_length = max(len(seq) for seq in train_sequences)\n",
        "\n",
        "# Преобразование последовательностей в одинаковой длине\n",
        "train_data_padded = pad_sequences(train_sequences, maxlen=max_length, padding='post')\n",
        "test_data_padded = pad_sequences(test_sequences, maxlen=max_length, padding='post')\n",
        "\n",
        "# Загрузка предобученных векторов\n",
        "pretrained_vectors = np.load(pretrained_vectors_path)\n",
        "\n",
        "# Определение размера словаря (vocab_size) и размерности векторов (embedding_dim)\n",
        "vocab_size, embedding_dim = pretrained_vectors.shape\n",
        "\n",
        "# Создание модели CNN с предобученными векторами\n",
        "model_pretrained_embedding = Sequential()\n",
        "model_pretrained_embedding.add(Embedding(input_dim=vocab_size, output_dim=embedding_dim, input_length=max_length, weights=[pretrained_vectors], trainable=False))\n",
        "model_pretrained_embedding.add(Conv1D(128, 5, activation='relu'))\n",
        "model_pretrained_embedding.add(GlobalMaxPooling1D())\n",
        "model_pretrained_embedding.add(Dense(1, activation='sigmoid'))\n",
        "\n",
        "# Компиляция модели\n",
        "model_pretrained_embedding.compile(optimizer='adam', loss='binary_crossentropy', metrics=['accuracy'])\n",
        "\n",
        "# Обучение модели\n",
        "history = model_pretrained_embedding.fit(train_data_padded, train_labels, epochs=epochs, batch_size=batch_size, validation_data=(test_data_padded, test_labels))\n",
        "\n",
        "# Оценка модели\n",
        "test_loss, test_accuracy = model_pretrained_embedding.evaluate(test_data_padded, test_labels)\n",
        "print(f'Test Loss: {test_loss:.4f}')\n",
        "print(f'Test Accuracy: {test_accuracy:.4f}')"
      ],
      "metadata": {
        "colab": {
          "base_uri": "https://localhost:8080/"
        },
        "id": "IXzQLoWxp1Y8",
        "outputId": "e15793f9-74aa-4306-b59a-25c900514138"
      },
      "execution_count": 8,
      "outputs": [
        {
          "output_type": "stream",
          "name": "stdout",
          "text": [
            "Epoch 1/5\n",
            "1447/1447 [==============================] - 42s 28ms/step - loss: -33050.2109 - accuracy: 0.1092 - val_loss: -96397.7656 - val_accuracy: 0.1125\n",
            "Epoch 2/5\n",
            "1447/1447 [==============================] - 42s 29ms/step - loss: -208369.2188 - accuracy: 0.1092 - val_loss: -340637.1562 - val_accuracy: 0.1125\n",
            "Epoch 3/5\n",
            "1447/1447 [==============================] - 42s 29ms/step - loss: -510137.9375 - accuracy: 0.1092 - val_loss: -694878.8125 - val_accuracy: 0.1125\n",
            "Epoch 4/5\n",
            "1447/1447 [==============================] - 41s 28ms/step - loss: -913635.7500 - accuracy: 0.1092 - val_loss: -1144461.5000 - val_accuracy: 0.1125\n",
            "Epoch 5/5\n",
            "1447/1447 [==============================] - 45s 31ms/step - loss: -1409302.0000 - accuracy: 0.1092 - val_loss: -1684020.0000 - val_accuracy: 0.1125\n",
            "194/194 [==============================] - 5s 25ms/step - loss: -1684019.8750 - accuracy: 0.1125\n",
            "Test Loss: -1684019.8750\n",
            "Test Accuracy: 0.1125\n"
          ]
        }
      ]
    },
    {
      "cell_type": "code",
      "source": [],
      "metadata": {
        "id": "bnNUw3bULd0e"
      },
      "execution_count": 13,
      "outputs": []
    },
    {
      "cell_type": "code",
      "source": [
        "# Другая модель\n",
        "\n",
        "# Загрузка предобученных векторов из файла\n",
        "model = gensim.models.KeyedVectors.load_word2vec_format('/content/drive/MyDrive/Colab Notebooks/data/model.bin', binary=True)\n",
        "\n",
        "# Получение списка всех слов в словаре\n",
        "all_words = model.index_to_key\n",
        "\n",
        "# Создание словаря, который сопоставляет словам и их векторные представления\n",
        "word_vectors = {word: model.get_vector(word) for word in all_words}\n",
        "\n",
        "# Пример: Получение вектора для слова \"apple\" (замените на нужное вам слово)\n",
        "pretrained_vector = word_vectors.get('apple', None)\n",
        "\n",
        "if pretrained_vector is not None:\n",
        "    # Определение размера словаря (vocab_size) и размерности векторов (embedding_dim)\n",
        "    vocab_size, embedding_dim = len(all_words), len(pretrained_vector)\n",
        "\n",
        "    # Создание матрицы предобученных векторов\n",
        "    pretrained_vectors = np.zeros((vocab_size, embedding_dim))\n",
        "    for i, word in enumerate(all_words):\n",
        "        pretrained_vectors[i] = word_vectors[word]\n",
        "\n",
        "    # Дальнейший код остается таким же, как в вашем исходном коде\n",
        "else:\n",
        "    print(\"Слово 'apple' не найдено в словаре.\")"
      ],
      "metadata": {
        "colab": {
          "base_uri": "https://localhost:8080/"
        },
        "id": "-sXDs4xNOXm3",
        "outputId": "19bea3f6-cc7b-4d4e-d672-e9cb4f22284b"
      },
      "execution_count": 12,
      "outputs": [
        {
          "output_type": "stream",
          "name": "stdout",
          "text": [
            "Слово 'apple' не найдено в словаре.\n"
          ]
        }
      ]
    },
    {
      "cell_type": "code",
      "source": [
        "### model 182\n",
        "\n",
        "epochs = 10  # Количество эпох (сколько раз пройти через обучающие данные)\n",
        "embedding_dim = 100 # Размерность векторов\n",
        "batch_size = 5  # Размер пакета (сколько примеров обрабатывать за одну итерацию)\n",
        "\n",
        "# Создание токенизатора и преобразование текста в последовательности чисел\n",
        "tokenizer = Tokenizer()\n",
        "tokenizer.fit_on_texts(train_data_preprocessed)\n",
        "train_sequences = tokenizer.texts_to_sequences(train_data_preprocessed)\n",
        "test_sequences = tokenizer.texts_to_sequences(test_data_preprocessed)\n",
        "\n",
        "max_length = max(len(seq) for seq in train_sequences)\n",
        "\n",
        "# Создание словаря, который сопоставляет словам их векторные представления\n",
        "word_vectors = {word: model[word] for word in all_words}\n",
        "\n",
        "# Преобразование последовательностей в одинаковой длине\n",
        "train_data_padded = pad_sequences(train_sequences, maxlen=max_length, padding='post')\n",
        "test_data_padded = pad_sequences(test_sequences, maxlen=max_length, padding='post')\n",
        "\n",
        "# Создание матрицы предобученных векторов для вашего словаря\n",
        "vocab_size = len(all_words)\n",
        "embedding_dim = len(word_vectors[all_words[0]])\n",
        "pretrained_vectors = np.zeros((vocab_size, embedding_dim))\n",
        "for i, word in enumerate(all_words):\n",
        "    pretrained_vectors[i] = word_vectors[word]\n",
        "\n",
        "# Создание модели CNN с предобученными векторами\n",
        "model_pretrained_embedding = Sequential()\n",
        "model_pretrained_embedding.add(Embedding(input_dim=vocab_size, output_dim=embedding_dim, input_length=max_length, weights=[pretrained_vectors], trainable=False))\n",
        "model_pretrained_embedding.add(Conv1D(128, 5, activation='relu'))\n",
        "model_pretrained_embedding.add(GlobalMaxPooling1D())\n",
        "model_pretrained_embedding.add(Dense(1, activation='sigmoid'))\n",
        "\n",
        "# Компиляция модели\n",
        "model_pretrained_embedding.compile(optimizer='adam', loss='binary_crossentropy', metrics=['accuracy'])\n",
        "\n",
        "# Обучение модели\n",
        "history = model_pretrained_embedding.fit(train_data_padded, train_labels, epochs=epochs, batch_size=batch_size, validation_data=(test_data_padded, test_labels))\n",
        "\n",
        "# Оценка модели\n",
        "test_loss, test_accuracy = model_pretrained_embedding.evaluate(test_data_padded, test_labels)\n",
        "print(f'Test Loss: {test_loss:.4f}')\n",
        "print(f'Test Accuracy: {test_accuracy:.4f}')\n"
      ],
      "metadata": {
        "colab": {
          "base_uri": "https://localhost:8080/"
        },
        "id": "Od2bRrXWe31N",
        "outputId": "c8d7944e-7ff8-4049-f209-12f6079dff83"
      },
      "execution_count": 13,
      "outputs": [
        {
          "output_type": "stream",
          "name": "stdout",
          "text": [
            "Epoch 1/10\n",
            "2893/2893 [==============================] - 53s 18ms/step - loss: -369238.1562 - accuracy: 0.1092 - val_loss: -1040869.2500 - val_accuracy: 0.1125\n",
            "Epoch 2/10\n",
            "2893/2893 [==============================] - 49s 17ms/step - loss: -2181594.2500 - accuracy: 0.1092 - val_loss: -3505891.5000 - val_accuracy: 0.1125\n",
            "Epoch 3/10\n",
            "2893/2893 [==============================] - 49s 17ms/step - loss: -5205779.5000 - accuracy: 0.1092 - val_loss: -7069487.0000 - val_accuracy: 0.1125\n",
            "Epoch 4/10\n",
            "2893/2893 [==============================] - 47s 16ms/step - loss: -9318260.0000 - accuracy: 0.1092 - val_loss: -11707197.0000 - val_accuracy: 0.1125\n",
            "Epoch 5/10\n",
            "2893/2893 [==============================] - 47s 16ms/step - loss: -14481677.0000 - accuracy: 0.1092 - val_loss: -17380522.0000 - val_accuracy: 0.1125\n",
            "Epoch 6/10\n",
            "2893/2893 [==============================] - 49s 17ms/step - loss: -20675914.0000 - accuracy: 0.1092 - val_loss: -24077748.0000 - val_accuracy: 0.1125\n",
            "Epoch 7/10\n",
            "2893/2893 [==============================] - 50s 17ms/step - loss: -27906364.0000 - accuracy: 0.1092 - val_loss: -31808674.0000 - val_accuracy: 0.1125\n",
            "Epoch 8/10\n",
            "2893/2893 [==============================] - 51s 18ms/step - loss: -36157956.0000 - accuracy: 0.1092 - val_loss: -40550008.0000 - val_accuracy: 0.1125\n",
            "Epoch 9/10\n",
            "2893/2893 [==============================] - 47s 16ms/step - loss: -45419644.0000 - accuracy: 0.1092 - val_loss: -50307544.0000 - val_accuracy: 0.1125\n",
            "Epoch 10/10\n",
            "2893/2893 [==============================] - 47s 16ms/step - loss: -55710412.0000 - accuracy: 0.1092 - val_loss: -61077372.0000 - val_accuracy: 0.1125\n",
            "194/194 [==============================] - 6s 29ms/step - loss: -61077584.0000 - accuracy: 0.1125\n",
            "Test Loss: -61077584.0000\n",
            "Test Accuracy: 0.1125\n"
          ]
        }
      ]
    },
    {
      "cell_type": "markdown",
      "source": [
        "### 2.2 Модель с обучаемыми весами Embedding\n",
        "\n",
        "В этой модели инициализируем слой Embedding по умолчанию: trainable=True установлено для слоя Embedding, что позволяет обучать веса этого слоя вместе со всей сетью.\n",
        "\n",
        "\n",
        "\n",
        "\n",
        "\n"
      ],
      "metadata": {
        "id": "srDfasPQp13s"
      }
    },
    {
      "cell_type": "code",
      "source": [
        "### model 214, веса переобучаются\n",
        "\n",
        "epochs = 7  # Количество эпох (сколько раз пройти через обучающие данные)\n",
        "embedding_dim = 200 # Размерность векторов\n",
        "batch_size = 40  # Размер пакета (сколько примеров обрабатывать за одну итерацию)\n",
        "\n",
        "# Загрузка предобученных векторов слов (замените на путь к вашему файлу)\n",
        "pretrained_vectors_path = '/content/drive/MyDrive/Colab Notebooks/data/model.model.vectors.npy'\n",
        "\n",
        "# Создание токенизатора и преобразование текста в последовательности чисел\n",
        "tokenizer = Tokenizer()\n",
        "tokenizer.fit_on_texts(train_data_preprocessed)\n",
        "train_sequences = tokenizer.texts_to_sequences(train_data_preprocessed)\n",
        "test_sequences = tokenizer.texts_to_sequences(test_data_preprocessed)\n",
        "\n",
        "max_length = max(len(seq) for seq in train_sequences)\n",
        "\n",
        "# Преобразование последовательностей в одинаковой длине\n",
        "train_data_padded = pad_sequences(train_sequences, maxlen=max_length, padding='post')\n",
        "test_data_padded = pad_sequences(test_sequences, maxlen=max_length, padding='post')\n",
        "\n",
        "# Загрузка предобученных векторов\n",
        "pretrained_vectors = np.load(pretrained_vectors_path)\n",
        "\n",
        "# Определение размера словаря (vocab_size) и размерности векторов (embedding_dim)\n",
        "vocab_size, embedding_dim = pretrained_vectors.shape\n",
        "\n",
        "# Создание модели CNN с обучаемыми весами Embedding\n",
        "model_trainable_embedding = Sequential()\n",
        "model_trainable_embedding.add(Embedding(input_dim=vocab_size, output_dim=embedding_dim, input_length=max_length, weights=[pretrained_vectors], trainable=True))  # Обратите внимание на trainable=True\n",
        "model_trainable_embedding.add(Conv1D(128, 5, activation='relu'))\n",
        "model_trainable_embedding.add(GlobalMaxPooling1D())\n",
        "model_trainable_embedding.add(Dense(1, activation='sigmoid'))\n",
        "\n",
        "# Компиляция модели\n",
        "model_trainable_embedding.compile(optimizer='adam', loss='binary_crossentropy', metrics=['accuracy'])\n",
        "\n",
        "# Обучение модели\n",
        "history = model_trainable_embedding.fit(train_data_padded, train_labels, epochs=epochs, batch_size=batch_size, validation_data=(test_data_padded, test_labels))\n",
        "\n",
        "# Оценка модели\n",
        "test_loss, test_accuracy = model_trainable_embedding.evaluate(test_data_padded, test_labels)\n",
        "print(f'Test Loss: {test_loss:.4f}')\n",
        "print(f'Test Accuracy: {test_accuracy:.4f}')\n"
      ],
      "metadata": {
        "colab": {
          "base_uri": "https://localhost:8080/"
        },
        "id": "dIzuunh-p9jN",
        "outputId": "6199a2ed-6d50-43ad-c215-76ef6047a3e1"
      },
      "execution_count": 14,
      "outputs": [
        {
          "output_type": "stream",
          "name": "stdout",
          "text": [
            "Epoch 1/7\n",
            "362/362 [==============================] - 875s 2s/step - loss: -21353.3633 - accuracy: 0.1090 - val_loss: -88906.1484 - val_accuracy: 0.1125\n",
            "Epoch 2/7\n",
            "362/362 [==============================] - 871s 2s/step - loss: -341529.7812 - accuracy: 0.1092 - val_loss: -729441.8750 - val_accuracy: 0.1125\n",
            "Epoch 3/7\n",
            "362/362 [==============================] - 881s 2s/step - loss: -1447815.7500 - accuracy: 0.1092 - val_loss: -2360114.7500 - val_accuracy: 0.1125\n",
            "Epoch 4/7\n",
            "362/362 [==============================] - 879s 2s/step - loss: -3701293.5000 - accuracy: 0.1092 - val_loss: -5273913.0000 - val_accuracy: 0.1125\n",
            "Epoch 5/7\n",
            "362/362 [==============================] - 885s 2s/step - loss: -7348361.0000 - accuracy: 0.1092 - val_loss: -9689034.0000 - val_accuracy: 0.1125\n",
            "Epoch 6/7\n",
            "362/362 [==============================] - 875s 2s/step - loss: -12596903.0000 - accuracy: 0.1092 - val_loss: -15773266.0000 - val_accuracy: 0.1125\n",
            "Epoch 7/7\n",
            "362/362 [==============================] - 874s 2s/step - loss: -19569364.0000 - accuracy: 0.1092 - val_loss: -23624600.0000 - val_accuracy: 0.1125\n",
            "194/194 [==============================] - 6s 29ms/step - loss: -23624594.0000 - accuracy: 0.1125\n",
            "Test Loss: -23624594.0000\n",
            "Test Accuracy: 0.1125\n"
          ]
        }
      ]
    },
    {
      "cell_type": "code",
      "source": [],
      "metadata": {
        "id": "u3T6awkrqB4y"
      },
      "execution_count": null,
      "outputs": []
    },
    {
      "cell_type": "markdown",
      "source": [
        "## Выводы\n",
        "\n",
        "Были рассмотрены 2 модели с сайта [rusvectores.org](https://rusvectores.org/ru/about/): [#214](http://vectors.nlpl.eu/repository/20/214.zip) и [#182](http://vectors.nlpl.eu/repository/20/182.zip).\n",
        "\n",
        "Модель #182 работала быстрее, но численные результаты идентичные для всех рассмотренных случаев.\n",
        "\n",
        "\n"
      ],
      "metadata": {
        "id": "zRttWpvXzvim"
      }
    }
  ]
}