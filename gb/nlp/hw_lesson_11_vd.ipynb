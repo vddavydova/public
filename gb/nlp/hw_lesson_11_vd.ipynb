{
  "nbformat": 4,
  "nbformat_minor": 0,
  "metadata": {
    "accelerator": "GPU",
    "colab": {
      "provenance": [],
      "toc_visible": true
    },
    "kernelspec": {
      "display_name": "Python 3",
      "name": "python3"
    }
  },
  "cells": [
    {
      "cell_type": "markdown",
      "metadata": {
        "id": "J0Qjg6vuaHNt"
      },
      "source": [
        "# Neural machine translation with attention"
      ]
    },
    {
      "cell_type": "code",
      "metadata": {
        "id": "tnxXKDjq3jEL"
      },
      "source": [
        "import tensorflow as tf\n",
        "\n",
        "import matplotlib.pyplot as plt\n",
        "import matplotlib.ticker as ticker\n",
        "from sklearn.model_selection import train_test_split\n",
        "\n",
        "import unicodedata\n",
        "import re\n",
        "import numpy as np\n",
        "import os\n",
        "import io\n",
        "import time"
      ],
      "execution_count": 1,
      "outputs": []
    },
    {
      "cell_type": "markdown",
      "metadata": {
        "id": "wfodePkj3jEa"
      },
      "source": [
        "## Download and prepare the dataset\n",
        "\n",
        "We'll use a language dataset provided by http://www.manythings.org/anki/"
      ]
    },
    {
      "cell_type": "code",
      "metadata": {
        "id": "CNvjhDyAKk3U",
        "colab": {
          "base_uri": "https://localhost:8080/"
        },
        "outputId": "da60c6a3-562c-45cd-fbb9-8f6e6221d59f"
      },
      "source": [
        "!wget http://www.manythings.org/anki/rus-eng.zip"
      ],
      "execution_count": 2,
      "outputs": [
        {
          "output_type": "stream",
          "name": "stdout",
          "text": [
            "--2023-11-07 06:02:49--  http://www.manythings.org/anki/rus-eng.zip\n",
            "Resolving www.manythings.org (www.manythings.org)... 173.254.30.110\n",
            "Connecting to www.manythings.org (www.manythings.org)|173.254.30.110|:80... connected.\n",
            "HTTP request sent, awaiting response... 200 OK\n",
            "Length: 15824155 (15M) [application/zip]\n",
            "Saving to: ‘rus-eng.zip’\n",
            "\n",
            "rus-eng.zip         100%[===================>]  15.09M  24.4MB/s    in 0.6s    \n",
            "\n",
            "2023-11-07 06:02:50 (24.4 MB/s) - ‘rus-eng.zip’ saved [15824155/15824155]\n",
            "\n"
          ]
        }
      ]
    },
    {
      "cell_type": "code",
      "metadata": {
        "id": "83bg17Lr-7XK",
        "colab": {
          "base_uri": "https://localhost:8080/"
        },
        "outputId": "f9a0afc8-14c8-45a1-f2fa-49e533645132"
      },
      "source": [
        "!mkdir rus-eng\n",
        "!unzip rus-eng.zip -d rus-eng/"
      ],
      "execution_count": 3,
      "outputs": [
        {
          "output_type": "stream",
          "name": "stdout",
          "text": [
            "Archive:  rus-eng.zip\n",
            "  inflating: rus-eng/rus.txt         \n",
            "  inflating: rus-eng/_about.txt      \n"
          ]
        }
      ]
    },
    {
      "cell_type": "code",
      "metadata": {
        "id": "7o5L92efMMhf",
        "colab": {
          "base_uri": "https://localhost:8080/"
        },
        "outputId": "e7a4dd14-075c-4c5b-8e6d-a7c2276652fe"
      },
      "source": [
        "!ls /content/rus-eng/ -lah"
      ],
      "execution_count": 4,
      "outputs": [
        {
          "output_type": "stream",
          "name": "stdout",
          "text": [
            "total 76M\n",
            "drwxr-xr-x 2 root root 4.0K Nov  7 06:02 .\n",
            "drwxr-xr-x 1 root root 4.0K Nov  7 06:02 ..\n",
            "-rw-r--r-- 1 root root 1.5K Jul 30 03:53 _about.txt\n",
            "-rw-r--r-- 1 root root  76M Jul 30 03:53 rus.txt\n"
          ]
        }
      ]
    },
    {
      "cell_type": "code",
      "metadata": {
        "id": "kRVATYOgJs1b"
      },
      "source": [
        "# Download the file\n",
        "path_to_file = \"/content/rus-eng/rus.txt\""
      ],
      "execution_count": 5,
      "outputs": []
    },
    {
      "cell_type": "code",
      "metadata": {
        "id": "rd0jw-eC3jEh"
      },
      "source": [
        "def preprocess_sentence(w):\n",
        "  w = w.lower().strip()\n",
        "\n",
        "  # creating a space between a word and the punctuation following it\n",
        "  # eg: \"he is a boy.\" => \"he is a boy .\"\n",
        "  # Reference:- https://stackoverflow.com/questions/3645931/python-padding-punctuation-with-white-spaces-keeping-punctuation\n",
        "  w = re.sub(r\"([?.!,])\", r\" \\1 \", w)\n",
        "  w = re.sub(r'[\" \"]+', \" \", w)\n",
        "\n",
        "  # replacing everything with space except (a-z, A-Z, \".\", \"?\", \"!\", \",\")\n",
        "  w = re.sub(r\"[^a-zA-Zа-яА-Я?.!,']+\", \" \", w)\n",
        "\n",
        "  w = w.strip()\n",
        "\n",
        "  # adding a start and an end token to the sentence\n",
        "  # so that the model know when to start and stop predicting.\n",
        "  w = '<start> ' + w + ' <end>'\n",
        "  return w"
      ],
      "execution_count": 6,
      "outputs": []
    },
    {
      "cell_type": "code",
      "metadata": {
        "id": "yV9lZXQXNbnH",
        "colab": {
          "base_uri": "https://localhost:8080/",
          "height": 36
        },
        "outputId": "fafaa2df-9da3-4318-8a32-747f0a90d79b"
      },
      "source": [
        "preprocess_sentence(\"I can't go.\")"
      ],
      "execution_count": 7,
      "outputs": [
        {
          "output_type": "execute_result",
          "data": {
            "text/plain": [
              "\"<start> i can't go . <end>\""
            ],
            "application/vnd.google.colaboratory.intrinsic+json": {
              "type": "string"
            }
          },
          "metadata": {},
          "execution_count": 7
        }
      ]
    },
    {
      "cell_type": "code",
      "metadata": {
        "id": "OHn4Dct23jEm"
      },
      "source": [
        "# 1. Remove the accents\n",
        "# 2. Clean the sentences\n",
        "# 3. Return word pairs in the format: [ENG, RUS]\n",
        "def create_dataset(path, num_examples):\n",
        "  lines = io.open(path, encoding='UTF-8').read().strip().split('\\n')\n",
        "\n",
        "  word_pairs = [[preprocess_sentence(w) for w in l.split('\\t')[:2]]  for l in lines[:num_examples]]\n",
        "\n",
        "  return zip(*word_pairs)"
      ],
      "execution_count": 8,
      "outputs": []
    },
    {
      "cell_type": "code",
      "metadata": {
        "id": "cTbSbBz55QtF",
        "colab": {
          "base_uri": "https://localhost:8080/"
        },
        "outputId": "a4a4d700-42fd-4c17-f60c-b998ef861270"
      },
      "source": [
        "en, ru = create_dataset(path_to_file, None)\n",
        "print(en[-1])\n",
        "print(ru[-1])"
      ],
      "execution_count": 9,
      "outputs": [
        {
          "output_type": "stream",
          "name": "stdout",
          "text": [
            "<start> doubtless there exists in this world precisely the right woman for any given man to marry and vice versa but when you consider that a human being has the opportunity of being acquainted with only a few hundred people , and out of the few hundred that there are but a dozen or less whom he knows intimately , and out of the dozen , one or two friends at most , it will easily be seen , when we remember the number of millions who inhabit this world , that probably , since the earth was created , the right man has never yet met the right woman . <end>\n",
            "<start> несомненно , для каждого мужчины в этом мире где то есть подходящая женщина , которая может стать ему женой , обратное верно и для женщин . но если учесть , что у человека может быть максимум несколько сотен знакомых , из которых лишь дюжина , а то и меньше , тех , кого он знает близко , а из этой дюжины у него один или от силы два друга , то можно легко увидеть , что с уч том миллионов живущих на земле людей , ни один подходящий мужчина , возможно , ещ не встретил подходящую женщину . <end>\n"
          ]
        }
      ]
    },
    {
      "cell_type": "code",
      "metadata": {
        "id": "bIOn8RCNDJXG"
      },
      "source": [
        "def tokenize(lang):\n",
        "  lang_tokenizer = tf.keras.preprocessing.text.Tokenizer(\n",
        "      filters='')\n",
        "  lang_tokenizer.fit_on_texts(lang)\n",
        "\n",
        "  tensor = lang_tokenizer.texts_to_sequences(lang)\n",
        "\n",
        "  tensor = tf.keras.preprocessing.sequence.pad_sequences(tensor,\n",
        "                                                         padding='post')\n",
        "\n",
        "  return tensor, lang_tokenizer"
      ],
      "execution_count": 10,
      "outputs": []
    },
    {
      "cell_type": "code",
      "metadata": {
        "id": "eAY9k49G3jE_"
      },
      "source": [
        "def load_dataset(path, num_examples=None):\n",
        "  # creating cleaned input, output pairs\n",
        "  targ_lang, inp_lang = create_dataset(path, num_examples)\n",
        "\n",
        "  input_tensor, inp_lang_tokenizer = tokenize(inp_lang)\n",
        "  target_tensor, targ_lang_tokenizer = tokenize(targ_lang)\n",
        "\n",
        "  return input_tensor, target_tensor, inp_lang_tokenizer, targ_lang_tokenizer"
      ],
      "execution_count": 11,
      "outputs": []
    },
    {
      "cell_type": "markdown",
      "metadata": {
        "id": "GOi42V79Ydlr"
      },
      "source": [
        "### Limit the size of the dataset to experiment faster (optional)\n"
      ]
    },
    {
      "cell_type": "code",
      "metadata": {
        "id": "C8j9g9AnIeZV",
        "colab": {
          "base_uri": "https://localhost:8080/"
        },
        "outputId": "beaffda2-d6c2-46ad-e5e4-2c6de631d762"
      },
      "source": [
        "len(en), len(ru)"
      ],
      "execution_count": 12,
      "outputs": [
        {
          "output_type": "execute_result",
          "data": {
            "text/plain": [
              "(479223, 479223)"
            ]
          },
          "metadata": {},
          "execution_count": 12
        }
      ]
    },
    {
      "cell_type": "code",
      "metadata": {
        "id": "cnxC7q-j3jFD"
      },
      "source": [
        "# Try experimenting with the size of that dataset\n",
        "num_examples = 100000\n",
        "input_tensor, target_tensor, inp_lang, targ_lang = load_dataset(path_to_file, num_examples)\n",
        "\n",
        "# Calculate max_length of the target tensors\n",
        "max_length_targ, max_length_inp = target_tensor.shape[1], input_tensor.shape[1]"
      ],
      "execution_count": 13,
      "outputs": []
    },
    {
      "cell_type": "code",
      "metadata": {
        "id": "4QILQkOs3jFG",
        "colab": {
          "base_uri": "https://localhost:8080/"
        },
        "outputId": "c04a8652-a8ab-4d27-d500-cdf82724ed23"
      },
      "source": [
        "# Creating training and validation sets using an 80-20 split\n",
        "input_tensor_train, input_tensor_val, target_tensor_train, target_tensor_val = train_test_split(input_tensor, target_tensor, test_size=0.2)\n",
        "\n",
        "# Show length\n",
        "print(len(input_tensor_train), len(target_tensor_train), len(input_tensor_val), len(target_tensor_val))"
      ],
      "execution_count": 14,
      "outputs": [
        {
          "output_type": "stream",
          "name": "stdout",
          "text": [
            "80000 80000 20000 20000\n"
          ]
        }
      ]
    },
    {
      "cell_type": "code",
      "metadata": {
        "id": "lJPmLZGMeD5q"
      },
      "source": [
        "def convert(lang, tensor):\n",
        "  for t in tensor:\n",
        "    if t!=0:\n",
        "      print (\"%d ----> %s\" % (t, lang.index_word[t]))"
      ],
      "execution_count": 15,
      "outputs": []
    },
    {
      "cell_type": "code",
      "metadata": {
        "id": "VXukARTDd7MT",
        "colab": {
          "base_uri": "https://localhost:8080/"
        },
        "outputId": "c13e93b0-e1a6-4b23-fb2c-d78ac0cb0fe8"
      },
      "source": [
        "print (\"Input Language; index to word mapping\")\n",
        "convert(inp_lang, input_tensor_train[0])\n",
        "print ()\n",
        "print (\"Target Language; index to word mapping\")\n",
        "convert(targ_lang, target_tensor_train[0])"
      ],
      "execution_count": 16,
      "outputs": [
        {
          "output_type": "stream",
          "name": "stdout",
          "text": [
            "Input Language; index to word mapping\n",
            "1 ----> <start>\n",
            "25 ----> тому\n",
            "65 ----> просто\n",
            "7 ----> не\n",
            "817 ----> повезло\n",
            "3 ----> .\n",
            "2 ----> <end>\n",
            "\n",
            "Target Language; index to word mapping\n",
            "1 ----> <start>\n",
            "5 ----> tom\n",
            "16 ----> was\n",
            "68 ----> just\n",
            "750 ----> unlucky\n",
            "3 ----> .\n",
            "2 ----> <end>\n"
          ]
        }
      ]
    },
    {
      "cell_type": "markdown",
      "metadata": {
        "id": "rgCLkfv5uO3d"
      },
      "source": [
        "### Create a tf.data dataset"
      ]
    },
    {
      "cell_type": "code",
      "metadata": {
        "id": "TqHsArVZ3jFS"
      },
      "source": [
        "BUFFER_SIZE = len(input_tensor_train)\n",
        "BATCH_SIZE = 64\n",
        "steps_per_epoch = len(input_tensor_train)//BATCH_SIZE\n",
        "embedding_dim = 256\n",
        "units = 1024\n",
        "vocab_inp_size = len(inp_lang.word_index)+1\n",
        "vocab_tar_size = len(targ_lang.word_index)+1\n",
        "\n",
        "dataset = tf.data.Dataset.from_tensor_slices((input_tensor_train, target_tensor_train)).shuffle(BUFFER_SIZE)\n",
        "dataset = dataset.batch(BATCH_SIZE, drop_remainder=True)"
      ],
      "execution_count": 17,
      "outputs": []
    },
    {
      "cell_type": "code",
      "metadata": {
        "id": "qc6-NK1GtWQt",
        "colab": {
          "base_uri": "https://localhost:8080/"
        },
        "outputId": "4163d6ec-5eeb-4694-8b83-972b5ace4a8b"
      },
      "source": [
        "example_input_batch, example_target_batch = next(iter(dataset))\n",
        "example_input_batch.shape, example_target_batch.shape"
      ],
      "execution_count": 18,
      "outputs": [
        {
          "output_type": "execute_result",
          "data": {
            "text/plain": [
              "(TensorShape([64, 15]), TensorShape([64, 11]))"
            ]
          },
          "metadata": {},
          "execution_count": 18
        }
      ]
    },
    {
      "cell_type": "code",
      "metadata": {
        "id": "nZ2rI24i3jFg"
      },
      "source": [
        "class Encoder(tf.keras.Model):\n",
        "  def __init__(self, vocab_size, embedding_dim, enc_units, batch_sz):\n",
        "    super(Encoder, self).__init__()\n",
        "    self.batch_sz = batch_sz\n",
        "    self.enc_units = enc_units\n",
        "    self.embedding = tf.keras.layers.Embedding(vocab_size, embedding_dim)\n",
        "    self.gru = tf.keras.layers.GRU(self.enc_units,\n",
        "                                   return_sequences=True,\n",
        "                                   return_state=True,\n",
        "                                   recurrent_initializer='glorot_uniform')\n",
        "\n",
        "  def call(self, x, hidden):\n",
        "    x = self.embedding(x)\n",
        "    output, state = self.gru(x, initial_state = hidden)\n",
        "    return output, state\n",
        "\n",
        "  def initialize_hidden_state(self):\n",
        "    return tf.zeros((self.batch_sz, self.enc_units))"
      ],
      "execution_count": 19,
      "outputs": []
    },
    {
      "cell_type": "code",
      "metadata": {
        "id": "60gSVh05Jl6l",
        "colab": {
          "base_uri": "https://localhost:8080/"
        },
        "outputId": "9952fa5d-9436-4fdb-e224-2180cde825ed"
      },
      "source": [
        "encoder = Encoder(vocab_inp_size, embedding_dim, units, BATCH_SIZE)\n",
        "\n",
        "# sample input\n",
        "sample_hidden = encoder.initialize_hidden_state()\n",
        "sample_output, sample_hidden = encoder(example_input_batch, sample_hidden)\n",
        "print ('Encoder output shape: (batch size, sequence length, units) {}'.format(sample_output.shape))\n",
        "print ('Encoder Hidden state shape: (batch size, units) {}'.format(sample_hidden.shape))"
      ],
      "execution_count": 20,
      "outputs": [
        {
          "output_type": "stream",
          "name": "stdout",
          "text": [
            "Encoder output shape: (batch size, sequence length, units) (64, 15, 1024)\n",
            "Encoder Hidden state shape: (batch size, units) (64, 1024)\n"
          ]
        }
      ]
    },
    {
      "cell_type": "code",
      "metadata": {
        "id": "YTyhL28Niqk1"
      },
      "source": [
        "class BahdanauAttention(tf.keras.layers.Layer):\n",
        "  def __init__(self, units):\n",
        "    super(BahdanauAttention, self).__init__()\n",
        "    self.W1 = tf.keras.layers.Dense(units)\n",
        "    self.W2 = tf.keras.layers.Dense(units)\n",
        "    self.V = tf.keras.layers.Dense(1)\n",
        "\n",
        "  def call(self, query, values):\n",
        "    # query hidden state shape == (batch_size, hidden size)\n",
        "    # query_with_time_axis shape == (batch_size, 1, hidden size)\n",
        "    # values shape == (batch_size, max_len, hidden size)\n",
        "    # we are doing this to broadcast addition along the time axis to calculate the score\n",
        "    query_with_time_axis = tf.expand_dims(query, 1)\n",
        "\n",
        "    # score shape == (batch_size, max_length, 1)\n",
        "    # we get 1 at the last axis because we are applying score to self.V\n",
        "    # the shape of the tensor before applying self.V is (batch_size, max_length, units)\n",
        "    score = self.V(tf.nn.tanh(\n",
        "        self.W1(query_with_time_axis) + self.W2(values)))\n",
        "\n",
        "    # attention_weights shape == (batch_size, max_length, 1)\n",
        "    attention_weights = tf.nn.softmax(score, axis=1)\n",
        "\n",
        "    # context_vector shape after sum == (batch_size, hidden_size)\n",
        "    context_vector = attention_weights * values\n",
        "    context_vector = tf.reduce_sum(context_vector, axis=1)\n",
        "\n",
        "    return context_vector, attention_weights"
      ],
      "execution_count": 21,
      "outputs": []
    },
    {
      "cell_type": "code",
      "metadata": {
        "colab": {
          "base_uri": "https://localhost:8080/"
        },
        "id": "XUqssWcci1XJ",
        "outputId": "09b871d2-51a0-495a-b7a5-1aea48d187ad"
      },
      "source": [
        "attention_layer = BahdanauAttention(10)\n",
        "attention_result, attention_weights = attention_layer(sample_hidden, sample_output)\n",
        "\n",
        "print(\"Attention result shape: (batch size, units) {}\".format(attention_result.shape))\n",
        "print(\"Attention weights shape: (batch_size, sequence_length, 1) {}\".format(attention_weights.shape))"
      ],
      "execution_count": 22,
      "outputs": [
        {
          "output_type": "stream",
          "name": "stdout",
          "text": [
            "Attention result shape: (batch size, units) (64, 1024)\n",
            "Attention weights shape: (batch_size, sequence_length, 1) (64, 15, 1)\n"
          ]
        }
      ]
    },
    {
      "cell_type": "code",
      "metadata": {
        "id": "yJ_B3mhW3jFk"
      },
      "source": [
        "class Decoder(tf.keras.Model):\n",
        "  def __init__(self, vocab_size, embedding_dim, dec_units, batch_sz):\n",
        "    super(Decoder, self).__init__()\n",
        "    self.batch_sz = batch_sz\n",
        "    self.dec_units = dec_units\n",
        "    self.embedding = tf.keras.layers.Embedding(vocab_size, embedding_dim)\n",
        "    self.gru = tf.keras.layers.GRU(self.dec_units,\n",
        "                                   return_sequences=True,\n",
        "                                   return_state=True,\n",
        "                                   recurrent_initializer='glorot_uniform')\n",
        "    self.fc = tf.keras.layers.Dense(vocab_size)\n",
        "\n",
        "    # used for attention\n",
        "    self.attention = BahdanauAttention(self.dec_units)\n",
        "\n",
        "  def call(self, x, hidden, enc_output):\n",
        "    # enc_output shape == (batch_size, max_length, hidden_size)\n",
        "    context_vector, attention_weights = self.attention(hidden, enc_output)\n",
        "\n",
        "    # x shape after passing through embedding == (batch_size, 1, embedding_dim)\n",
        "    x = self.embedding(x)\n",
        "\n",
        "    # x shape after concatenation == (batch_size, 1, embedding_dim + hidden_size)\n",
        "    x = tf.concat([tf.expand_dims(context_vector, 1), x], axis=-1)\n",
        "\n",
        "    # passing the concatenated vector to the GRU\n",
        "    output, state = self.gru(x)\n",
        "\n",
        "    # output shape == (batch_size * 1, hidden_size)\n",
        "    output = tf.reshape(output, (-1, output.shape[2]))\n",
        "\n",
        "    # output shape == (batch_size, vocab)\n",
        "    x = self.fc(output)\n",
        "\n",
        "    return x, state, attention_weights"
      ],
      "execution_count": 23,
      "outputs": []
    },
    {
      "cell_type": "code",
      "metadata": {
        "id": "P5UY8wko3jFp",
        "colab": {
          "base_uri": "https://localhost:8080/"
        },
        "outputId": "e01dfc69-99e8-42df-b2f5-06d556325d74"
      },
      "source": [
        "decoder = Decoder(vocab_tar_size, embedding_dim, units, BATCH_SIZE)\n",
        "\n",
        "sample_decoder_output, _, _ = decoder(tf.random.uniform((BATCH_SIZE, 1)),\n",
        "                                      sample_hidden, sample_output)\n",
        "\n",
        "print ('Decoder output shape: (batch_size, vocab size) {}'.format(sample_decoder_output.shape))"
      ],
      "execution_count": 24,
      "outputs": [
        {
          "output_type": "stream",
          "name": "stdout",
          "text": [
            "Decoder output shape: (batch_size, vocab size) (64, 7386)\n"
          ]
        }
      ]
    },
    {
      "cell_type": "markdown",
      "metadata": {
        "id": "_ch_71VbIRfK"
      },
      "source": [
        "## Define the optimizer and the loss function"
      ]
    },
    {
      "cell_type": "code",
      "metadata": {
        "id": "WmTHr5iV3jFr"
      },
      "source": [
        "optimizer = tf.keras.optimizers.Adam()\n",
        "loss_object = tf.keras.losses.SparseCategoricalCrossentropy(\n",
        "    from_logits=True, reduction='none')\n",
        "\n",
        "def loss_function(real, pred):\n",
        "  mask = tf.math.logical_not(tf.math.equal(real, 0))\n",
        "  loss_ = loss_object(real, pred)\n",
        "\n",
        "  mask = tf.cast(mask, dtype=loss_.dtype)\n",
        "  loss_ *= mask\n",
        "\n",
        "  return tf.reduce_mean(loss_)"
      ],
      "execution_count": 25,
      "outputs": []
    },
    {
      "cell_type": "markdown",
      "metadata": {
        "id": "DMVWzzsfNl4e"
      },
      "source": [
        "## Checkpoints (Object-based saving)"
      ]
    },
    {
      "cell_type": "code",
      "metadata": {
        "id": "Zj8bXQTgNwrF"
      },
      "source": [
        "checkpoint_dir = './training_attention_checkpoints'\n",
        "checkpoint_prefix = os.path.join(checkpoint_dir, \"ckpt\")\n",
        "checkpoint = tf.train.Checkpoint(optimizer=optimizer,\n",
        "                                 encoder=encoder,\n",
        "                                 decoder=decoder)"
      ],
      "execution_count": 26,
      "outputs": []
    },
    {
      "cell_type": "code",
      "metadata": {
        "id": "sC9ArXSsVfqn"
      },
      "source": [
        "@tf.function\n",
        "def train_step(inp, targ, enc_hidden):\n",
        "  loss = 0\n",
        "\n",
        "  with tf.GradientTape() as tape:\n",
        "    enc_output, enc_hidden = encoder(inp, enc_hidden)\n",
        "\n",
        "    dec_hidden = enc_hidden\n",
        "\n",
        "    dec_input = tf.expand_dims([targ_lang.word_index['<start>']] * BATCH_SIZE, 1)\n",
        "\n",
        "    # Teacher forcing - feeding the target as the next input\n",
        "    for t in range(1, targ.shape[1]):\n",
        "      # passing enc_output to the decoder\n",
        "      predictions, dec_hidden, _ = decoder(dec_input, dec_hidden, enc_output)\n",
        "\n",
        "      loss += loss_function(targ[:, t], predictions)\n",
        "\n",
        "      # using teacher forcing\n",
        "      dec_input = tf.expand_dims(targ[:, t], 1)\n",
        "\n",
        "  batch_loss = (loss / int(targ.shape[1]))\n",
        "\n",
        "  variables = encoder.trainable_variables + decoder.trainable_variables\n",
        "\n",
        "  gradients = tape.gradient(loss, variables)\n",
        "\n",
        "  optimizer.apply_gradients(zip(gradients, variables))\n",
        "\n",
        "  return batch_loss"
      ],
      "execution_count": 27,
      "outputs": []
    },
    {
      "cell_type": "code",
      "metadata": {
        "id": "ddefjBMa3jF0",
        "colab": {
          "base_uri": "https://localhost:8080/"
        },
        "outputId": "cf5dd88f-54b6-45da-901e-34d3139ec761"
      },
      "source": [
        "EPOCHS = 50\n",
        "\n",
        "for epoch in range(EPOCHS):\n",
        "  start = time.time()\n",
        "\n",
        "  enc_hidden = encoder.initialize_hidden_state()\n",
        "  total_loss = 0\n",
        "\n",
        "  for (batch, (inp, targ)) in enumerate(dataset.take(steps_per_epoch)):\n",
        "    batch_loss = train_step(inp, targ, enc_hidden)\n",
        "    total_loss += batch_loss\n",
        "\n",
        "    if batch % 100 == 0:\n",
        "      print('Epoch {} Batch {} Loss {:.4f}'.format(epoch + 1,\n",
        "                                                   batch,\n",
        "                                                   batch_loss.numpy()))\n",
        "  # saving (checkpoint) the model every 2 epochs\n",
        "  if (epoch + 1) % 2 == 0:\n",
        "    checkpoint.save(file_prefix = checkpoint_prefix)\n",
        "\n",
        "  print('Epoch {} Loss {:.4f}'.format(epoch + 1,\n",
        "                                      total_loss / steps_per_epoch))\n",
        "  print('Time taken for 1 epoch {} sec\\n'.format(time.time() - start))"
      ],
      "execution_count": 28,
      "outputs": [
        {
          "output_type": "stream",
          "name": "stdout",
          "text": [
            "Epoch 1 Batch 0 Loss 4.6689\n",
            "Epoch 1 Batch 100 Loss 2.1644\n",
            "Epoch 1 Batch 200 Loss 1.8113\n",
            "Epoch 1 Batch 300 Loss 1.7502\n",
            "Epoch 1 Batch 400 Loss 1.5457\n",
            "Epoch 1 Batch 500 Loss 1.4627\n",
            "Epoch 1 Batch 600 Loss 1.4822\n",
            "Epoch 1 Batch 700 Loss 1.3027\n",
            "Epoch 1 Batch 800 Loss 1.1652\n",
            "Epoch 1 Batch 900 Loss 1.1086\n",
            "Epoch 1 Batch 1000 Loss 1.1407\n",
            "Epoch 1 Batch 1100 Loss 1.0005\n",
            "Epoch 1 Batch 1200 Loss 0.9797\n",
            "Epoch 1 Loss 1.4740\n",
            "Time taken for 1 epoch 122.58743643760681 sec\n",
            "\n",
            "Epoch 2 Batch 0 Loss 0.8598\n",
            "Epoch 2 Batch 100 Loss 0.7598\n",
            "Epoch 2 Batch 200 Loss 0.7719\n",
            "Epoch 2 Batch 300 Loss 0.6979\n",
            "Epoch 2 Batch 400 Loss 0.6182\n",
            "Epoch 2 Batch 500 Loss 0.5801\n",
            "Epoch 2 Batch 600 Loss 0.6758\n",
            "Epoch 2 Batch 700 Loss 0.5163\n",
            "Epoch 2 Batch 800 Loss 0.5508\n",
            "Epoch 2 Batch 900 Loss 0.5468\n",
            "Epoch 2 Batch 1000 Loss 0.5483\n",
            "Epoch 2 Batch 1100 Loss 0.5717\n",
            "Epoch 2 Batch 1200 Loss 0.4111\n",
            "Epoch 2 Loss 0.6346\n",
            "Time taken for 1 epoch 104.05055928230286 sec\n",
            "\n",
            "Epoch 3 Batch 0 Loss 0.3627\n",
            "Epoch 3 Batch 100 Loss 0.3474\n",
            "Epoch 3 Batch 200 Loss 0.2906\n",
            "Epoch 3 Batch 300 Loss 0.4083\n",
            "Epoch 3 Batch 400 Loss 0.3799\n",
            "Epoch 3 Batch 500 Loss 0.3344\n",
            "Epoch 3 Batch 600 Loss 0.3234\n",
            "Epoch 3 Batch 700 Loss 0.3801\n",
            "Epoch 3 Batch 800 Loss 0.3010\n",
            "Epoch 3 Batch 900 Loss 0.2882\n",
            "Epoch 3 Batch 1000 Loss 0.3241\n",
            "Epoch 3 Batch 1100 Loss 0.3011\n",
            "Epoch 3 Batch 1200 Loss 0.3170\n",
            "Epoch 3 Loss 0.3360\n",
            "Time taken for 1 epoch 102.7035071849823 sec\n",
            "\n",
            "Epoch 4 Batch 0 Loss 0.2247\n",
            "Epoch 4 Batch 100 Loss 0.1755\n",
            "Epoch 4 Batch 200 Loss 0.1671\n",
            "Epoch 4 Batch 300 Loss 0.2026\n",
            "Epoch 4 Batch 400 Loss 0.1872\n",
            "Epoch 4 Batch 500 Loss 0.2428\n",
            "Epoch 4 Batch 600 Loss 0.2107\n",
            "Epoch 4 Batch 700 Loss 0.2464\n",
            "Epoch 4 Batch 800 Loss 0.1834\n",
            "Epoch 4 Batch 900 Loss 0.2357\n",
            "Epoch 4 Batch 1000 Loss 0.2140\n",
            "Epoch 4 Batch 1100 Loss 0.2113\n",
            "Epoch 4 Batch 1200 Loss 0.2463\n",
            "Epoch 4 Loss 0.2084\n",
            "Time taken for 1 epoch 103.16876602172852 sec\n",
            "\n",
            "Epoch 5 Batch 0 Loss 0.1108\n",
            "Epoch 5 Batch 100 Loss 0.1406\n",
            "Epoch 5 Batch 200 Loss 0.1163\n",
            "Epoch 5 Batch 300 Loss 0.1787\n",
            "Epoch 5 Batch 400 Loss 0.0964\n",
            "Epoch 5 Batch 500 Loss 0.1635\n",
            "Epoch 5 Batch 600 Loss 0.1727\n",
            "Epoch 5 Batch 700 Loss 0.1521\n",
            "Epoch 5 Batch 800 Loss 0.1835\n",
            "Epoch 5 Batch 900 Loss 0.1409\n",
            "Epoch 5 Batch 1000 Loss 0.1462\n",
            "Epoch 5 Batch 1100 Loss 0.1725\n",
            "Epoch 5 Batch 1200 Loss 0.1769\n",
            "Epoch 5 Loss 0.1487\n",
            "Time taken for 1 epoch 102.38627505302429 sec\n",
            "\n",
            "Epoch 6 Batch 0 Loss 0.1124\n",
            "Epoch 6 Batch 100 Loss 0.1086\n",
            "Epoch 6 Batch 200 Loss 0.0993\n",
            "Epoch 6 Batch 300 Loss 0.1274\n",
            "Epoch 6 Batch 400 Loss 0.0724\n",
            "Epoch 6 Batch 500 Loss 0.1144\n",
            "Epoch 6 Batch 600 Loss 0.1584\n",
            "Epoch 6 Batch 700 Loss 0.0668\n",
            "Epoch 6 Batch 800 Loss 0.0872\n",
            "Epoch 6 Batch 900 Loss 0.0910\n",
            "Epoch 6 Batch 1000 Loss 0.1213\n",
            "Epoch 6 Batch 1100 Loss 0.1569\n",
            "Epoch 6 Batch 1200 Loss 0.1627\n",
            "Epoch 6 Loss 0.1169\n",
            "Time taken for 1 epoch 103.37211012840271 sec\n",
            "\n",
            "Epoch 7 Batch 0 Loss 0.0879\n",
            "Epoch 7 Batch 100 Loss 0.1133\n",
            "Epoch 7 Batch 200 Loss 0.0598\n",
            "Epoch 7 Batch 300 Loss 0.0953\n",
            "Epoch 7 Batch 400 Loss 0.0977\n",
            "Epoch 7 Batch 500 Loss 0.0624\n",
            "Epoch 7 Batch 600 Loss 0.1241\n",
            "Epoch 7 Batch 700 Loss 0.0865\n",
            "Epoch 7 Batch 800 Loss 0.0952\n",
            "Epoch 7 Batch 900 Loss 0.1260\n",
            "Epoch 7 Batch 1000 Loss 0.1380\n",
            "Epoch 7 Batch 1100 Loss 0.0725\n",
            "Epoch 7 Batch 1200 Loss 0.1054\n",
            "Epoch 7 Loss 0.1003\n",
            "Time taken for 1 epoch 102.39798212051392 sec\n",
            "\n",
            "Epoch 8 Batch 0 Loss 0.0706\n",
            "Epoch 8 Batch 100 Loss 0.0819\n",
            "Epoch 8 Batch 200 Loss 0.0778\n",
            "Epoch 8 Batch 300 Loss 0.0631\n",
            "Epoch 8 Batch 400 Loss 0.0784\n",
            "Epoch 8 Batch 500 Loss 0.0521\n",
            "Epoch 8 Batch 600 Loss 0.0773\n",
            "Epoch 8 Batch 700 Loss 0.1119\n",
            "Epoch 8 Batch 800 Loss 0.0738\n",
            "Epoch 8 Batch 900 Loss 0.1066\n",
            "Epoch 8 Batch 1000 Loss 0.1133\n",
            "Epoch 8 Batch 1100 Loss 0.0985\n",
            "Epoch 8 Batch 1200 Loss 0.1255\n",
            "Epoch 8 Loss 0.0888\n",
            "Time taken for 1 epoch 103.3786506652832 sec\n",
            "\n",
            "Epoch 9 Batch 0 Loss 0.0824\n",
            "Epoch 9 Batch 100 Loss 0.0736\n",
            "Epoch 9 Batch 200 Loss 0.0359\n",
            "Epoch 9 Batch 300 Loss 0.0626\n",
            "Epoch 9 Batch 400 Loss 0.0831\n",
            "Epoch 9 Batch 500 Loss 0.1018\n",
            "Epoch 9 Batch 600 Loss 0.0649\n",
            "Epoch 9 Batch 700 Loss 0.1080\n",
            "Epoch 9 Batch 800 Loss 0.1204\n",
            "Epoch 9 Batch 900 Loss 0.0637\n",
            "Epoch 9 Batch 1000 Loss 0.0762\n",
            "Epoch 9 Batch 1100 Loss 0.1244\n",
            "Epoch 9 Batch 1200 Loss 0.1030\n",
            "Epoch 9 Loss 0.0830\n",
            "Time taken for 1 epoch 102.2749297618866 sec\n",
            "\n",
            "Epoch 10 Batch 0 Loss 0.0833\n",
            "Epoch 10 Batch 100 Loss 0.0283\n",
            "Epoch 10 Batch 200 Loss 0.0752\n",
            "Epoch 10 Batch 300 Loss 0.0678\n",
            "Epoch 10 Batch 400 Loss 0.0692\n",
            "Epoch 10 Batch 500 Loss 0.0718\n",
            "Epoch 10 Batch 600 Loss 0.0933\n",
            "Epoch 10 Batch 700 Loss 0.0527\n",
            "Epoch 10 Batch 800 Loss 0.0921\n",
            "Epoch 10 Batch 900 Loss 0.1018\n",
            "Epoch 10 Batch 1000 Loss 0.1083\n",
            "Epoch 10 Batch 1100 Loss 0.0782\n",
            "Epoch 10 Batch 1200 Loss 0.1075\n",
            "Epoch 10 Loss 0.0769\n",
            "Time taken for 1 epoch 103.2018346786499 sec\n",
            "\n",
            "Epoch 11 Batch 0 Loss 0.0525\n",
            "Epoch 11 Batch 100 Loss 0.0443\n",
            "Epoch 11 Batch 200 Loss 0.0517\n",
            "Epoch 11 Batch 300 Loss 0.0767\n",
            "Epoch 11 Batch 400 Loss 0.0819\n",
            "Epoch 11 Batch 500 Loss 0.0876\n",
            "Epoch 11 Batch 600 Loss 0.0658\n",
            "Epoch 11 Batch 700 Loss 0.0768\n",
            "Epoch 11 Batch 800 Loss 0.0571\n",
            "Epoch 11 Batch 900 Loss 0.0902\n",
            "Epoch 11 Batch 1000 Loss 0.0840\n",
            "Epoch 11 Batch 1100 Loss 0.0646\n",
            "Epoch 11 Batch 1200 Loss 0.0831\n",
            "Epoch 11 Loss 0.0728\n",
            "Time taken for 1 epoch 102.34039235115051 sec\n",
            "\n",
            "Epoch 12 Batch 0 Loss 0.0405\n",
            "Epoch 12 Batch 100 Loss 0.0644\n",
            "Epoch 12 Batch 200 Loss 0.0641\n",
            "Epoch 12 Batch 300 Loss 0.0708\n",
            "Epoch 12 Batch 400 Loss 0.0757\n",
            "Epoch 12 Batch 500 Loss 0.0679\n",
            "Epoch 12 Batch 600 Loss 0.1003\n",
            "Epoch 12 Batch 700 Loss 0.0665\n",
            "Epoch 12 Batch 800 Loss 0.0899\n",
            "Epoch 12 Batch 900 Loss 0.0673\n",
            "Epoch 12 Batch 1000 Loss 0.1365\n",
            "Epoch 12 Batch 1100 Loss 0.1084\n",
            "Epoch 12 Batch 1200 Loss 0.0872\n",
            "Epoch 12 Loss 0.0697\n",
            "Time taken for 1 epoch 103.4936010837555 sec\n",
            "\n",
            "Epoch 13 Batch 0 Loss 0.0301\n",
            "Epoch 13 Batch 100 Loss 0.0390\n",
            "Epoch 13 Batch 200 Loss 0.0578\n",
            "Epoch 13 Batch 300 Loss 0.0785\n",
            "Epoch 13 Batch 400 Loss 0.0429\n",
            "Epoch 13 Batch 500 Loss 0.0279\n",
            "Epoch 13 Batch 600 Loss 0.0519\n",
            "Epoch 13 Batch 700 Loss 0.0587\n",
            "Epoch 13 Batch 800 Loss 0.0744\n",
            "Epoch 13 Batch 900 Loss 0.0639\n",
            "Epoch 13 Batch 1000 Loss 0.0765\n",
            "Epoch 13 Batch 1100 Loss 0.0649\n",
            "Epoch 13 Batch 1200 Loss 0.1101\n",
            "Epoch 13 Loss 0.0671\n",
            "Time taken for 1 epoch 102.30297899246216 sec\n",
            "\n",
            "Epoch 14 Batch 0 Loss 0.0742\n",
            "Epoch 14 Batch 100 Loss 0.0400\n",
            "Epoch 14 Batch 200 Loss 0.0604\n",
            "Epoch 14 Batch 300 Loss 0.0474\n",
            "Epoch 14 Batch 400 Loss 0.0545\n",
            "Epoch 14 Batch 500 Loss 0.0653\n",
            "Epoch 14 Batch 600 Loss 0.0506\n",
            "Epoch 14 Batch 700 Loss 0.0479\n",
            "Epoch 14 Batch 800 Loss 0.0820\n",
            "Epoch 14 Batch 900 Loss 0.0694\n",
            "Epoch 14 Batch 1000 Loss 0.0761\n",
            "Epoch 14 Batch 1100 Loss 0.0878\n",
            "Epoch 14 Batch 1200 Loss 0.0605\n",
            "Epoch 14 Loss 0.0640\n",
            "Time taken for 1 epoch 103.46840357780457 sec\n",
            "\n",
            "Epoch 15 Batch 0 Loss 0.0276\n",
            "Epoch 15 Batch 100 Loss 0.0657\n",
            "Epoch 15 Batch 200 Loss 0.0551\n",
            "Epoch 15 Batch 300 Loss 0.0499\n",
            "Epoch 15 Batch 400 Loss 0.0633\n",
            "Epoch 15 Batch 500 Loss 0.0808\n",
            "Epoch 15 Batch 600 Loss 0.0587\n",
            "Epoch 15 Batch 700 Loss 0.0596\n",
            "Epoch 15 Batch 800 Loss 0.0563\n",
            "Epoch 15 Batch 900 Loss 0.0751\n",
            "Epoch 15 Batch 1000 Loss 0.0433\n",
            "Epoch 15 Batch 1100 Loss 0.0666\n",
            "Epoch 15 Batch 1200 Loss 0.0734\n",
            "Epoch 15 Loss 0.0622\n",
            "Time taken for 1 epoch 102.31024360656738 sec\n",
            "\n",
            "Epoch 16 Batch 0 Loss 0.0639\n",
            "Epoch 16 Batch 100 Loss 0.0516\n",
            "Epoch 16 Batch 200 Loss 0.0564\n",
            "Epoch 16 Batch 300 Loss 0.0416\n",
            "Epoch 16 Batch 400 Loss 0.0560\n",
            "Epoch 16 Batch 500 Loss 0.0503\n",
            "Epoch 16 Batch 600 Loss 0.0421\n",
            "Epoch 16 Batch 700 Loss 0.0655\n",
            "Epoch 16 Batch 800 Loss 0.0899\n",
            "Epoch 16 Batch 900 Loss 0.0659\n",
            "Epoch 16 Batch 1000 Loss 0.0544\n",
            "Epoch 16 Batch 1100 Loss 0.0600\n",
            "Epoch 16 Batch 1200 Loss 0.0843\n",
            "Epoch 16 Loss 0.0611\n",
            "Time taken for 1 epoch 103.3646593093872 sec\n",
            "\n",
            "Epoch 17 Batch 0 Loss 0.0571\n",
            "Epoch 17 Batch 100 Loss 0.0680\n",
            "Epoch 17 Batch 200 Loss 0.0608\n",
            "Epoch 17 Batch 300 Loss 0.0391\n",
            "Epoch 17 Batch 400 Loss 0.0564\n",
            "Epoch 17 Batch 500 Loss 0.0476\n",
            "Epoch 17 Batch 600 Loss 0.0838\n",
            "Epoch 17 Batch 700 Loss 0.0574\n",
            "Epoch 17 Batch 800 Loss 0.0480\n",
            "Epoch 17 Batch 900 Loss 0.0533\n",
            "Epoch 17 Batch 1000 Loss 0.0448\n",
            "Epoch 17 Batch 1100 Loss 0.0473\n",
            "Epoch 17 Batch 1200 Loss 0.0350\n",
            "Epoch 17 Loss 0.0582\n",
            "Time taken for 1 epoch 102.29948210716248 sec\n",
            "\n",
            "Epoch 18 Batch 0 Loss 0.0712\n",
            "Epoch 18 Batch 100 Loss 0.0686\n",
            "Epoch 18 Batch 200 Loss 0.0611\n",
            "Epoch 18 Batch 300 Loss 0.0558\n",
            "Epoch 18 Batch 400 Loss 0.0752\n",
            "Epoch 18 Batch 500 Loss 0.0345\n",
            "Epoch 18 Batch 600 Loss 0.0474\n",
            "Epoch 18 Batch 700 Loss 0.0524\n",
            "Epoch 18 Batch 800 Loss 0.0684\n",
            "Epoch 18 Batch 900 Loss 0.0830\n",
            "Epoch 18 Batch 1000 Loss 0.0735\n",
            "Epoch 18 Batch 1100 Loss 0.0681\n",
            "Epoch 18 Batch 1200 Loss 0.0637\n",
            "Epoch 18 Loss 0.0571\n",
            "Time taken for 1 epoch 102.98759698867798 sec\n",
            "\n",
            "Epoch 19 Batch 0 Loss 0.0593\n",
            "Epoch 19 Batch 100 Loss 0.0357\n",
            "Epoch 19 Batch 200 Loss 0.0726\n",
            "Epoch 19 Batch 300 Loss 0.0431\n",
            "Epoch 19 Batch 400 Loss 0.0424\n",
            "Epoch 19 Batch 500 Loss 0.0412\n",
            "Epoch 19 Batch 600 Loss 0.0490\n",
            "Epoch 19 Batch 700 Loss 0.0589\n",
            "Epoch 19 Batch 800 Loss 0.0590\n",
            "Epoch 19 Batch 900 Loss 0.0521\n",
            "Epoch 19 Batch 1000 Loss 0.0600\n",
            "Epoch 19 Batch 1100 Loss 0.0778\n",
            "Epoch 19 Batch 1200 Loss 0.0444\n",
            "Epoch 19 Loss 0.0557\n",
            "Time taken for 1 epoch 102.34288215637207 sec\n",
            "\n",
            "Epoch 20 Batch 0 Loss 0.0496\n",
            "Epoch 20 Batch 100 Loss 0.0489\n",
            "Epoch 20 Batch 200 Loss 0.0481\n",
            "Epoch 20 Batch 300 Loss 0.0372\n",
            "Epoch 20 Batch 400 Loss 0.0945\n",
            "Epoch 20 Batch 500 Loss 0.0536\n",
            "Epoch 20 Batch 600 Loss 0.0501\n",
            "Epoch 20 Batch 700 Loss 0.0816\n",
            "Epoch 20 Batch 800 Loss 0.0663\n",
            "Epoch 20 Batch 900 Loss 0.0686\n",
            "Epoch 20 Batch 1000 Loss 0.0586\n",
            "Epoch 20 Batch 1100 Loss 0.0728\n",
            "Epoch 20 Batch 1200 Loss 0.0642\n",
            "Epoch 20 Loss 0.0548\n",
            "Time taken for 1 epoch 103.16308736801147 sec\n",
            "\n",
            "Epoch 21 Batch 0 Loss 0.0352\n",
            "Epoch 21 Batch 100 Loss 0.0432\n",
            "Epoch 21 Batch 200 Loss 0.0301\n",
            "Epoch 21 Batch 300 Loss 0.0604\n",
            "Epoch 21 Batch 400 Loss 0.0488\n",
            "Epoch 21 Batch 500 Loss 0.0571\n",
            "Epoch 21 Batch 600 Loss 0.0398\n",
            "Epoch 21 Batch 700 Loss 0.0367\n",
            "Epoch 21 Batch 800 Loss 0.0623\n",
            "Epoch 21 Batch 900 Loss 0.0634\n",
            "Epoch 21 Batch 1000 Loss 0.0737\n",
            "Epoch 21 Batch 1100 Loss 0.0408\n",
            "Epoch 21 Batch 1200 Loss 0.0626\n",
            "Epoch 21 Loss 0.0539\n",
            "Time taken for 1 epoch 102.12955713272095 sec\n",
            "\n",
            "Epoch 22 Batch 0 Loss 0.0676\n",
            "Epoch 22 Batch 100 Loss 0.0232\n",
            "Epoch 22 Batch 200 Loss 0.0258\n",
            "Epoch 22 Batch 300 Loss 0.0172\n",
            "Epoch 22 Batch 400 Loss 0.0285\n",
            "Epoch 22 Batch 500 Loss 0.0405\n",
            "Epoch 22 Batch 600 Loss 0.0290\n",
            "Epoch 22 Batch 700 Loss 0.0439\n",
            "Epoch 22 Batch 800 Loss 0.0798\n",
            "Epoch 22 Batch 900 Loss 0.0645\n",
            "Epoch 22 Batch 1000 Loss 0.0355\n",
            "Epoch 22 Batch 1100 Loss 0.0669\n",
            "Epoch 22 Batch 1200 Loss 0.0626\n",
            "Epoch 22 Loss 0.0519\n",
            "Time taken for 1 epoch 108.24423217773438 sec\n",
            "\n",
            "Epoch 23 Batch 0 Loss 0.0517\n",
            "Epoch 23 Batch 100 Loss 0.0288\n",
            "Epoch 23 Batch 200 Loss 0.0576\n",
            "Epoch 23 Batch 300 Loss 0.0363\n",
            "Epoch 23 Batch 400 Loss 0.0620\n",
            "Epoch 23 Batch 500 Loss 0.0580\n",
            "Epoch 23 Batch 600 Loss 0.0425\n",
            "Epoch 23 Batch 700 Loss 0.0748\n",
            "Epoch 23 Batch 800 Loss 0.0595\n",
            "Epoch 23 Batch 900 Loss 0.0668\n",
            "Epoch 23 Batch 1000 Loss 0.0523\n",
            "Epoch 23 Batch 1100 Loss 0.0658\n",
            "Epoch 23 Batch 1200 Loss 0.0419\n",
            "Epoch 23 Loss 0.0503\n",
            "Time taken for 1 epoch 102.35134768486023 sec\n",
            "\n",
            "Epoch 24 Batch 0 Loss 0.0384\n",
            "Epoch 24 Batch 100 Loss 0.0521\n",
            "Epoch 24 Batch 200 Loss 0.0389\n",
            "Epoch 24 Batch 300 Loss 0.0619\n",
            "Epoch 24 Batch 400 Loss 0.0513\n",
            "Epoch 24 Batch 500 Loss 0.0319\n",
            "Epoch 24 Batch 600 Loss 0.0537\n",
            "Epoch 24 Batch 700 Loss 0.0716\n",
            "Epoch 24 Batch 800 Loss 0.0656\n",
            "Epoch 24 Batch 900 Loss 0.0366\n",
            "Epoch 24 Batch 1000 Loss 0.0710\n",
            "Epoch 24 Batch 1100 Loss 0.0711\n",
            "Epoch 24 Batch 1200 Loss 0.0573\n",
            "Epoch 24 Loss 0.0512\n",
            "Time taken for 1 epoch 108.1853232383728 sec\n",
            "\n",
            "Epoch 25 Batch 0 Loss 0.0273\n",
            "Epoch 25 Batch 100 Loss 0.0372\n",
            "Epoch 25 Batch 200 Loss 0.0289\n",
            "Epoch 25 Batch 300 Loss 0.0424\n",
            "Epoch 25 Batch 400 Loss 0.0264\n",
            "Epoch 25 Batch 500 Loss 0.0570\n",
            "Epoch 25 Batch 600 Loss 0.0471\n",
            "Epoch 25 Batch 700 Loss 0.0301\n",
            "Epoch 25 Batch 800 Loss 0.0340\n",
            "Epoch 25 Batch 900 Loss 0.0544\n",
            "Epoch 25 Batch 1000 Loss 0.0495\n",
            "Epoch 25 Batch 1100 Loss 0.0488\n",
            "Epoch 25 Batch 1200 Loss 0.0587\n",
            "Epoch 25 Loss 0.0496\n",
            "Time taken for 1 epoch 102.23257803916931 sec\n",
            "\n",
            "Epoch 26 Batch 0 Loss 0.0258\n",
            "Epoch 26 Batch 100 Loss 0.0208\n",
            "Epoch 26 Batch 200 Loss 0.0682\n",
            "Epoch 26 Batch 300 Loss 0.0211\n",
            "Epoch 26 Batch 400 Loss 0.0485\n",
            "Epoch 26 Batch 500 Loss 0.0495\n",
            "Epoch 26 Batch 600 Loss 0.0341\n",
            "Epoch 26 Batch 700 Loss 0.0469\n",
            "Epoch 26 Batch 800 Loss 0.0582\n",
            "Epoch 26 Batch 900 Loss 0.0754\n",
            "Epoch 26 Batch 1000 Loss 0.0542\n",
            "Epoch 26 Batch 1100 Loss 0.0544\n",
            "Epoch 26 Batch 1200 Loss 0.0587\n",
            "Epoch 26 Loss 0.0490\n",
            "Time taken for 1 epoch 108.16603565216064 sec\n",
            "\n",
            "Epoch 27 Batch 0 Loss 0.0313\n",
            "Epoch 27 Batch 100 Loss 0.0214\n",
            "Epoch 27 Batch 200 Loss 0.0713\n",
            "Epoch 27 Batch 300 Loss 0.0263\n",
            "Epoch 27 Batch 400 Loss 0.0548\n",
            "Epoch 27 Batch 500 Loss 0.0555\n",
            "Epoch 27 Batch 600 Loss 0.0523\n",
            "Epoch 27 Batch 700 Loss 0.0692\n",
            "Epoch 27 Batch 800 Loss 0.0440\n",
            "Epoch 27 Batch 900 Loss 0.0214\n",
            "Epoch 27 Batch 1000 Loss 0.0923\n",
            "Epoch 27 Batch 1100 Loss 0.0446\n",
            "Epoch 27 Batch 1200 Loss 0.0441\n",
            "Epoch 27 Loss 0.0486\n",
            "Time taken for 1 epoch 102.27833414077759 sec\n",
            "\n",
            "Epoch 28 Batch 0 Loss 0.0407\n",
            "Epoch 28 Batch 100 Loss 0.0425\n",
            "Epoch 28 Batch 200 Loss 0.0274\n",
            "Epoch 28 Batch 300 Loss 0.0441\n",
            "Epoch 28 Batch 400 Loss 0.0197\n",
            "Epoch 28 Batch 500 Loss 0.0681\n",
            "Epoch 28 Batch 600 Loss 0.0534\n",
            "Epoch 28 Batch 700 Loss 0.0535\n",
            "Epoch 28 Batch 800 Loss 0.0450\n",
            "Epoch 28 Batch 900 Loss 0.0404\n",
            "Epoch 28 Batch 1000 Loss 0.0456\n",
            "Epoch 28 Batch 1100 Loss 0.0721\n",
            "Epoch 28 Batch 1200 Loss 0.0417\n",
            "Epoch 28 Loss 0.0464\n",
            "Time taken for 1 epoch 108.09703993797302 sec\n",
            "\n",
            "Epoch 29 Batch 0 Loss 0.0441\n",
            "Epoch 29 Batch 100 Loss 0.0377\n",
            "Epoch 29 Batch 200 Loss 0.0266\n",
            "Epoch 29 Batch 300 Loss 0.0370\n",
            "Epoch 29 Batch 400 Loss 0.0388\n",
            "Epoch 29 Batch 500 Loss 0.0340\n",
            "Epoch 29 Batch 600 Loss 0.0423\n",
            "Epoch 29 Batch 700 Loss 0.0366\n",
            "Epoch 29 Batch 800 Loss 0.0604\n",
            "Epoch 29 Batch 900 Loss 0.0486\n",
            "Epoch 29 Batch 1000 Loss 0.0376\n",
            "Epoch 29 Batch 1100 Loss 0.0587\n",
            "Epoch 29 Batch 1200 Loss 0.0415\n",
            "Epoch 29 Loss 0.0485\n",
            "Time taken for 1 epoch 102.20250105857849 sec\n",
            "\n",
            "Epoch 30 Batch 0 Loss 0.0511\n",
            "Epoch 30 Batch 100 Loss 0.0308\n",
            "Epoch 30 Batch 200 Loss 0.0322\n",
            "Epoch 30 Batch 300 Loss 0.0263\n",
            "Epoch 30 Batch 400 Loss 0.0645\n",
            "Epoch 30 Batch 500 Loss 0.0446\n",
            "Epoch 30 Batch 600 Loss 0.0831\n",
            "Epoch 30 Batch 700 Loss 0.0440\n",
            "Epoch 30 Batch 800 Loss 0.0792\n",
            "Epoch 30 Batch 900 Loss 0.0490\n",
            "Epoch 30 Batch 1000 Loss 0.0327\n",
            "Epoch 30 Batch 1100 Loss 0.0646\n",
            "Epoch 30 Batch 1200 Loss 0.0597\n",
            "Epoch 30 Loss 0.0458\n",
            "Time taken for 1 epoch 108.14179968833923 sec\n",
            "\n",
            "Epoch 31 Batch 0 Loss 0.0429\n",
            "Epoch 31 Batch 100 Loss 0.0442\n",
            "Epoch 31 Batch 200 Loss 0.0167\n",
            "Epoch 31 Batch 300 Loss 0.0305\n",
            "Epoch 31 Batch 400 Loss 0.0503\n",
            "Epoch 31 Batch 500 Loss 0.0476\n",
            "Epoch 31 Batch 600 Loss 0.0365\n",
            "Epoch 31 Batch 700 Loss 0.0300\n",
            "Epoch 31 Batch 800 Loss 0.0434\n",
            "Epoch 31 Batch 900 Loss 0.0453\n",
            "Epoch 31 Batch 1000 Loss 0.0369\n",
            "Epoch 31 Batch 1100 Loss 0.0579\n",
            "Epoch 31 Batch 1200 Loss 0.0412\n",
            "Epoch 31 Loss 0.0438\n",
            "Time taken for 1 epoch 102.21883726119995 sec\n",
            "\n",
            "Epoch 32 Batch 0 Loss 0.0281\n",
            "Epoch 32 Batch 100 Loss 0.0267\n",
            "Epoch 32 Batch 200 Loss 0.0267\n",
            "Epoch 32 Batch 300 Loss 0.0413\n",
            "Epoch 32 Batch 400 Loss 0.0342\n",
            "Epoch 32 Batch 500 Loss 0.0462\n",
            "Epoch 32 Batch 600 Loss 0.0238\n",
            "Epoch 32 Batch 700 Loss 0.0491\n",
            "Epoch 32 Batch 800 Loss 0.0587\n",
            "Epoch 32 Batch 900 Loss 0.0355\n",
            "Epoch 32 Batch 1000 Loss 0.0730\n",
            "Epoch 32 Batch 1100 Loss 0.0407\n",
            "Epoch 32 Batch 1200 Loss 0.0443\n",
            "Epoch 32 Loss 0.0441\n",
            "Time taken for 1 epoch 108.11172294616699 sec\n",
            "\n",
            "Epoch 33 Batch 0 Loss 0.0321\n",
            "Epoch 33 Batch 100 Loss 0.0415\n",
            "Epoch 33 Batch 200 Loss 0.0500\n",
            "Epoch 33 Batch 300 Loss 0.0291\n",
            "Epoch 33 Batch 400 Loss 0.0391\n",
            "Epoch 33 Batch 500 Loss 0.0687\n",
            "Epoch 33 Batch 600 Loss 0.0338\n",
            "Epoch 33 Batch 700 Loss 0.0291\n",
            "Epoch 33 Batch 800 Loss 0.0521\n",
            "Epoch 33 Batch 900 Loss 0.0353\n",
            "Epoch 33 Batch 1000 Loss 0.0288\n",
            "Epoch 33 Batch 1100 Loss 0.0464\n",
            "Epoch 33 Batch 1200 Loss 0.0497\n",
            "Epoch 33 Loss 0.0442\n",
            "Time taken for 1 epoch 102.1245584487915 sec\n",
            "\n",
            "Epoch 34 Batch 0 Loss 0.0278\n",
            "Epoch 34 Batch 100 Loss 0.0428\n",
            "Epoch 34 Batch 200 Loss 0.0350\n",
            "Epoch 34 Batch 300 Loss 0.0476\n",
            "Epoch 34 Batch 400 Loss 0.0515\n",
            "Epoch 34 Batch 500 Loss 0.0334\n",
            "Epoch 34 Batch 600 Loss 0.0565\n",
            "Epoch 34 Batch 700 Loss 0.0380\n",
            "Epoch 34 Batch 800 Loss 0.0307\n",
            "Epoch 34 Batch 900 Loss 0.0373\n",
            "Epoch 34 Batch 1000 Loss 0.0408\n",
            "Epoch 34 Batch 1100 Loss 0.0326\n",
            "Epoch 34 Batch 1200 Loss 0.0650\n",
            "Epoch 34 Loss 0.0443\n",
            "Time taken for 1 epoch 108.15933918952942 sec\n",
            "\n",
            "Epoch 35 Batch 0 Loss 0.0527\n",
            "Epoch 35 Batch 100 Loss 0.0184\n",
            "Epoch 35 Batch 200 Loss 0.0312\n",
            "Epoch 35 Batch 300 Loss 0.0367\n",
            "Epoch 35 Batch 400 Loss 0.0296\n",
            "Epoch 35 Batch 500 Loss 0.0649\n",
            "Epoch 35 Batch 600 Loss 0.0426\n",
            "Epoch 35 Batch 700 Loss 0.0399\n",
            "Epoch 35 Batch 800 Loss 0.0465\n",
            "Epoch 35 Batch 900 Loss 0.0338\n",
            "Epoch 35 Batch 1000 Loss 0.0558\n",
            "Epoch 35 Batch 1100 Loss 0.0623\n",
            "Epoch 35 Batch 1200 Loss 0.0430\n",
            "Epoch 35 Loss 0.0439\n",
            "Time taken for 1 epoch 102.30153751373291 sec\n",
            "\n",
            "Epoch 36 Batch 0 Loss 0.0269\n",
            "Epoch 36 Batch 100 Loss 0.0268\n",
            "Epoch 36 Batch 200 Loss 0.0256\n",
            "Epoch 36 Batch 300 Loss 0.0500\n",
            "Epoch 36 Batch 400 Loss 0.0466\n",
            "Epoch 36 Batch 500 Loss 0.0505\n",
            "Epoch 36 Batch 600 Loss 0.0317\n",
            "Epoch 36 Batch 700 Loss 0.0767\n",
            "Epoch 36 Batch 800 Loss 0.0394\n",
            "Epoch 36 Batch 900 Loss 0.0530\n",
            "Epoch 36 Batch 1000 Loss 0.0603\n",
            "Epoch 36 Batch 1100 Loss 0.0620\n",
            "Epoch 36 Batch 1200 Loss 0.0939\n",
            "Epoch 36 Loss 0.0432\n",
            "Time taken for 1 epoch 108.23203921318054 sec\n",
            "\n",
            "Epoch 37 Batch 0 Loss 0.0335\n",
            "Epoch 37 Batch 100 Loss 0.0313\n",
            "Epoch 37 Batch 200 Loss 0.0324\n",
            "Epoch 37 Batch 300 Loss 0.0162\n",
            "Epoch 37 Batch 400 Loss 0.0419\n",
            "Epoch 37 Batch 500 Loss 0.0276\n",
            "Epoch 37 Batch 600 Loss 0.0213\n",
            "Epoch 37 Batch 700 Loss 0.0490\n",
            "Epoch 37 Batch 800 Loss 0.0375\n",
            "Epoch 37 Batch 900 Loss 0.0603\n",
            "Epoch 37 Batch 1000 Loss 0.0629\n",
            "Epoch 37 Batch 1100 Loss 0.0571\n",
            "Epoch 37 Batch 1200 Loss 0.0517\n",
            "Epoch 37 Loss 0.0424\n",
            "Time taken for 1 epoch 102.22436785697937 sec\n",
            "\n",
            "Epoch 38 Batch 0 Loss 0.0204\n",
            "Epoch 38 Batch 100 Loss 0.0163\n",
            "Epoch 38 Batch 200 Loss 0.0230\n",
            "Epoch 38 Batch 300 Loss 0.0496\n",
            "Epoch 38 Batch 400 Loss 0.0363\n",
            "Epoch 38 Batch 500 Loss 0.0359\n",
            "Epoch 38 Batch 600 Loss 0.0330\n",
            "Epoch 38 Batch 700 Loss 0.0381\n",
            "Epoch 38 Batch 800 Loss 0.0447\n",
            "Epoch 38 Batch 900 Loss 0.0359\n",
            "Epoch 38 Batch 1000 Loss 0.0369\n",
            "Epoch 38 Batch 1100 Loss 0.0239\n",
            "Epoch 38 Batch 1200 Loss 0.0436\n",
            "Epoch 38 Loss 0.0427\n",
            "Time taken for 1 epoch 108.55950832366943 sec\n",
            "\n",
            "Epoch 39 Batch 0 Loss 0.0190\n",
            "Epoch 39 Batch 100 Loss 0.0410\n",
            "Epoch 39 Batch 200 Loss 0.0307\n",
            "Epoch 39 Batch 300 Loss 0.0331\n",
            "Epoch 39 Batch 400 Loss 0.0258\n",
            "Epoch 39 Batch 500 Loss 0.0311\n",
            "Epoch 39 Batch 600 Loss 0.0472\n",
            "Epoch 39 Batch 700 Loss 0.0462\n",
            "Epoch 39 Batch 800 Loss 0.0459\n",
            "Epoch 39 Batch 900 Loss 0.0819\n",
            "Epoch 39 Batch 1000 Loss 0.0548\n",
            "Epoch 39 Batch 1100 Loss 0.0296\n",
            "Epoch 39 Batch 1200 Loss 0.0446\n",
            "Epoch 39 Loss 0.0423\n",
            "Time taken for 1 epoch 102.29840159416199 sec\n",
            "\n",
            "Epoch 40 Batch 0 Loss 0.0201\n",
            "Epoch 40 Batch 100 Loss 0.0460\n",
            "Epoch 40 Batch 200 Loss 0.0413\n",
            "Epoch 40 Batch 300 Loss 0.0552\n",
            "Epoch 40 Batch 400 Loss 0.0203\n",
            "Epoch 40 Batch 500 Loss 0.0308\n",
            "Epoch 40 Batch 600 Loss 0.0331\n",
            "Epoch 40 Batch 700 Loss 0.0546\n",
            "Epoch 40 Batch 800 Loss 0.0331\n",
            "Epoch 40 Batch 900 Loss 0.0515\n",
            "Epoch 40 Batch 1000 Loss 0.0628\n",
            "Epoch 40 Batch 1100 Loss 0.0565\n",
            "Epoch 40 Batch 1200 Loss 0.0707\n",
            "Epoch 40 Loss 0.0421\n",
            "Time taken for 1 epoch 108.21704173088074 sec\n",
            "\n",
            "Epoch 41 Batch 0 Loss 0.0249\n",
            "Epoch 41 Batch 100 Loss 0.0445\n",
            "Epoch 41 Batch 200 Loss 0.0527\n",
            "Epoch 41 Batch 300 Loss 0.0247\n",
            "Epoch 41 Batch 400 Loss 0.0465\n",
            "Epoch 41 Batch 500 Loss 0.0647\n",
            "Epoch 41 Batch 600 Loss 0.0521\n",
            "Epoch 41 Batch 700 Loss 0.0637\n",
            "Epoch 41 Batch 800 Loss 0.0457\n",
            "Epoch 41 Batch 900 Loss 0.0500\n",
            "Epoch 41 Batch 1000 Loss 0.0398\n",
            "Epoch 41 Batch 1100 Loss 0.0192\n",
            "Epoch 41 Batch 1200 Loss 0.0518\n",
            "Epoch 41 Loss 0.0405\n",
            "Time taken for 1 epoch 102.26200842857361 sec\n",
            "\n",
            "Epoch 42 Batch 0 Loss 0.0170\n",
            "Epoch 42 Batch 100 Loss 0.0394\n",
            "Epoch 42 Batch 200 Loss 0.0325\n",
            "Epoch 42 Batch 300 Loss 0.0203\n",
            "Epoch 42 Batch 400 Loss 0.0394\n",
            "Epoch 42 Batch 500 Loss 0.0344\n",
            "Epoch 42 Batch 600 Loss 0.0316\n",
            "Epoch 42 Batch 700 Loss 0.0507\n",
            "Epoch 42 Batch 800 Loss 0.0616\n",
            "Epoch 42 Batch 900 Loss 0.0530\n",
            "Epoch 42 Batch 1000 Loss 0.0436\n",
            "Epoch 42 Batch 1100 Loss 0.0440\n",
            "Epoch 42 Batch 1200 Loss 0.0501\n",
            "Epoch 42 Loss 0.0402\n",
            "Time taken for 1 epoch 108.25817942619324 sec\n",
            "\n",
            "Epoch 43 Batch 0 Loss 0.0280\n",
            "Epoch 43 Batch 100 Loss 0.0194\n",
            "Epoch 43 Batch 200 Loss 0.0296\n",
            "Epoch 43 Batch 300 Loss 0.0410\n",
            "Epoch 43 Batch 400 Loss 0.0409\n",
            "Epoch 43 Batch 500 Loss 0.0297\n",
            "Epoch 43 Batch 600 Loss 0.0501\n",
            "Epoch 43 Batch 700 Loss 0.0299\n",
            "Epoch 43 Batch 800 Loss 0.0625\n",
            "Epoch 43 Batch 900 Loss 0.0614\n",
            "Epoch 43 Batch 1000 Loss 0.0398\n",
            "Epoch 43 Batch 1100 Loss 0.0287\n",
            "Epoch 43 Batch 1200 Loss 0.0490\n",
            "Epoch 43 Loss 0.0404\n",
            "Time taken for 1 epoch 102.42106866836548 sec\n",
            "\n",
            "Epoch 44 Batch 0 Loss 0.0270\n",
            "Epoch 44 Batch 100 Loss 0.0243\n",
            "Epoch 44 Batch 200 Loss 0.0467\n",
            "Epoch 44 Batch 300 Loss 0.0456\n",
            "Epoch 44 Batch 400 Loss 0.0301\n",
            "Epoch 44 Batch 500 Loss 0.0567\n",
            "Epoch 44 Batch 600 Loss 0.0322\n",
            "Epoch 44 Batch 700 Loss 0.0326\n",
            "Epoch 44 Batch 800 Loss 0.0412\n",
            "Epoch 44 Batch 900 Loss 0.0477\n",
            "Epoch 44 Batch 1000 Loss 0.0404\n",
            "Epoch 44 Batch 1100 Loss 0.0469\n",
            "Epoch 44 Batch 1200 Loss 0.0386\n",
            "Epoch 44 Loss 0.0393\n",
            "Time taken for 1 epoch 108.51904535293579 sec\n",
            "\n",
            "Epoch 45 Batch 0 Loss 0.0404\n",
            "Epoch 45 Batch 100 Loss 0.0111\n",
            "Epoch 45 Batch 200 Loss 0.0367\n",
            "Epoch 45 Batch 300 Loss 0.0137\n",
            "Epoch 45 Batch 400 Loss 0.0189\n",
            "Epoch 45 Batch 500 Loss 0.0220\n",
            "Epoch 45 Batch 600 Loss 0.0256\n",
            "Epoch 45 Batch 700 Loss 0.0381\n",
            "Epoch 45 Batch 800 Loss 0.0316\n",
            "Epoch 45 Batch 900 Loss 0.0370\n",
            "Epoch 45 Batch 1000 Loss 0.0639\n",
            "Epoch 45 Batch 1100 Loss 0.0699\n",
            "Epoch 45 Batch 1200 Loss 0.0399\n",
            "Epoch 45 Loss 0.0398\n",
            "Time taken for 1 epoch 102.36309480667114 sec\n",
            "\n",
            "Epoch 46 Batch 0 Loss 0.0248\n",
            "Epoch 46 Batch 100 Loss 0.0229\n",
            "Epoch 46 Batch 200 Loss 0.0463\n",
            "Epoch 46 Batch 300 Loss 0.0304\n",
            "Epoch 46 Batch 400 Loss 0.0262\n",
            "Epoch 46 Batch 500 Loss 0.0500\n",
            "Epoch 46 Batch 600 Loss 0.0437\n",
            "Epoch 46 Batch 700 Loss 0.0420\n",
            "Epoch 46 Batch 800 Loss 0.0464\n",
            "Epoch 46 Batch 900 Loss 0.0381\n",
            "Epoch 46 Batch 1000 Loss 0.0430\n",
            "Epoch 46 Batch 1100 Loss 0.0596\n",
            "Epoch 46 Batch 1200 Loss 0.0715\n",
            "Epoch 46 Loss 0.0391\n",
            "Time taken for 1 epoch 108.1766357421875 sec\n",
            "\n",
            "Epoch 47 Batch 0 Loss 0.0132\n",
            "Epoch 47 Batch 100 Loss 0.0231\n",
            "Epoch 47 Batch 200 Loss 0.0393\n",
            "Epoch 47 Batch 300 Loss 0.0524\n",
            "Epoch 47 Batch 400 Loss 0.0189\n",
            "Epoch 47 Batch 500 Loss 0.0263\n",
            "Epoch 47 Batch 600 Loss 0.0508\n",
            "Epoch 47 Batch 700 Loss 0.0453\n",
            "Epoch 47 Batch 800 Loss 0.0365\n",
            "Epoch 47 Batch 900 Loss 0.0314\n",
            "Epoch 47 Batch 1000 Loss 0.0303\n",
            "Epoch 47 Batch 1100 Loss 0.0577\n",
            "Epoch 47 Batch 1200 Loss 0.0350\n",
            "Epoch 47 Loss 0.0391\n",
            "Time taken for 1 epoch 102.23205637931824 sec\n",
            "\n",
            "Epoch 48 Batch 0 Loss 0.0274\n",
            "Epoch 48 Batch 100 Loss 0.0393\n",
            "Epoch 48 Batch 200 Loss 0.0601\n",
            "Epoch 48 Batch 300 Loss 0.0361\n",
            "Epoch 48 Batch 400 Loss 0.0483\n",
            "Epoch 48 Batch 500 Loss 0.0470\n",
            "Epoch 48 Batch 600 Loss 0.0382\n",
            "Epoch 48 Batch 700 Loss 0.0318\n",
            "Epoch 48 Batch 800 Loss 0.0417\n",
            "Epoch 48 Batch 900 Loss 0.0273\n",
            "Epoch 48 Batch 1000 Loss 0.0333\n",
            "Epoch 48 Batch 1100 Loss 0.0519\n",
            "Epoch 48 Batch 1200 Loss 0.0456\n",
            "Epoch 48 Loss 0.0385\n",
            "Time taken for 1 epoch 108.20951843261719 sec\n",
            "\n",
            "Epoch 49 Batch 0 Loss 0.0342\n",
            "Epoch 49 Batch 100 Loss 0.0336\n",
            "Epoch 49 Batch 200 Loss 0.0292\n",
            "Epoch 49 Batch 300 Loss 0.0690\n",
            "Epoch 49 Batch 400 Loss 0.0275\n",
            "Epoch 49 Batch 500 Loss 0.0276\n",
            "Epoch 49 Batch 600 Loss 0.0361\n",
            "Epoch 49 Batch 700 Loss 0.0316\n",
            "Epoch 49 Batch 800 Loss 0.0493\n",
            "Epoch 49 Batch 900 Loss 0.0759\n",
            "Epoch 49 Batch 1000 Loss 0.0450\n",
            "Epoch 49 Batch 1100 Loss 0.0655\n",
            "Epoch 49 Batch 1200 Loss 0.0399\n",
            "Epoch 49 Loss 0.0381\n",
            "Time taken for 1 epoch 102.27643203735352 sec\n",
            "\n",
            "Epoch 50 Batch 0 Loss 0.0225\n",
            "Epoch 50 Batch 100 Loss 0.0315\n",
            "Epoch 50 Batch 200 Loss 0.0486\n",
            "Epoch 50 Batch 300 Loss 0.0123\n",
            "Epoch 50 Batch 400 Loss 0.0292\n",
            "Epoch 50 Batch 500 Loss 0.0272\n",
            "Epoch 50 Batch 600 Loss 0.0437\n",
            "Epoch 50 Batch 700 Loss 0.0422\n",
            "Epoch 50 Batch 800 Loss 0.0373\n",
            "Epoch 50 Batch 900 Loss 0.0329\n",
            "Epoch 50 Batch 1000 Loss 0.0324\n",
            "Epoch 50 Batch 1100 Loss 0.0413\n",
            "Epoch 50 Batch 1200 Loss 0.0346\n",
            "Epoch 50 Loss 0.0384\n",
            "Time taken for 1 epoch 103.42829656600952 sec\n",
            "\n"
          ]
        }
      ]
    },
    {
      "cell_type": "markdown",
      "metadata": {
        "id": "mU3Ce8M6I3rz"
      },
      "source": [
        "## Translate\n",
        "\n",
        "* The evaluate function is similar to the training loop, except we don't use *teacher forcing* here. The input to the decoder at each time step is its previous predictions along with the hidden state and the encoder output.\n",
        "* Stop predicting when the model predicts the *end token*.\n",
        "* And store the *attention weights for every time step*.\n",
        "\n",
        "Note: The encoder output is calculated only once for one input."
      ]
    },
    {
      "cell_type": "code",
      "metadata": {
        "id": "EbQpyYs13jF_"
      },
      "source": [
        "def evaluate(sentence):\n",
        "  attention_plot = np.zeros((max_length_targ, max_length_inp))\n",
        "\n",
        "  sentence = preprocess_sentence(sentence)\n",
        "\n",
        "  inputs = [inp_lang.word_index[i] for i in sentence.split(' ')]\n",
        "  inputs = tf.keras.preprocessing.sequence.pad_sequences([inputs],\n",
        "                                                         maxlen=max_length_inp,\n",
        "                                                         padding='post')\n",
        "  inputs = tf.convert_to_tensor(inputs)\n",
        "\n",
        "  result = ''\n",
        "\n",
        "  hidden = [tf.zeros((1, units))]\n",
        "  enc_out, enc_hidden = encoder(inputs, hidden)\n",
        "\n",
        "  dec_hidden = enc_hidden\n",
        "  dec_input = tf.expand_dims([targ_lang.word_index['<start>']], 0)\n",
        "\n",
        "  for t in range(max_length_targ):\n",
        "    predictions, dec_hidden, attention_weights = decoder(dec_input,\n",
        "                                                         dec_hidden,\n",
        "                                                         enc_out)\n",
        "\n",
        "    # storing the attention weights to plot later on\n",
        "    attention_weights = tf.reshape(attention_weights, (-1, ))\n",
        "    attention_plot[t] = attention_weights.numpy()\n",
        "\n",
        "    predicted_id = tf.argmax(predictions[0]).numpy()\n",
        "\n",
        "    result += targ_lang.index_word[predicted_id] + ' '\n",
        "\n",
        "    if targ_lang.index_word[predicted_id] == '<end>':\n",
        "      return result, sentence, attention_plot\n",
        "\n",
        "    # the predicted ID is fed back into the model\n",
        "    dec_input = tf.expand_dims([predicted_id], 0)\n",
        "\n",
        "  return result, sentence, attention_plot"
      ],
      "execution_count": 29,
      "outputs": []
    },
    {
      "cell_type": "code",
      "metadata": {
        "id": "Qjy26Fe8Bv5d"
      },
      "source": [
        "# function for plotting the attention weights\n",
        "def plot_attention(attention, sentence, predicted_sentence):\n",
        "  fig = plt.figure(figsize=(10,10))\n",
        "  ax = fig.add_subplot(1, 1, 1)\n",
        "  ax.matshow(attention, cmap='viridis')\n",
        "\n",
        "  fontdict = {'fontsize': 14}\n",
        "\n",
        "  ax.set_xticklabels([''] + sentence, fontdict=fontdict, rotation=90)\n",
        "  ax.set_yticklabels([''] + predicted_sentence, fontdict=fontdict)\n",
        "\n",
        "  ax.xaxis.set_major_locator(ticker.MultipleLocator(1))\n",
        "  ax.yaxis.set_major_locator(ticker.MultipleLocator(1))\n",
        "\n",
        "  plt.show()"
      ],
      "execution_count": 30,
      "outputs": []
    },
    {
      "cell_type": "code",
      "metadata": {
        "id": "sl9zUHzg3jGI"
      },
      "source": [
        "def translate(sentence):\n",
        "  result, sentence, attention_plot = evaluate(sentence)\n",
        "\n",
        "  print('Input: %s' % (sentence))\n",
        "  print('Predicted translation: {}'.format(result))\n",
        "\n",
        "  attention_plot = attention_plot[:len(result.split(' ')), :len(sentence.split(' '))]\n",
        "  plot_attention(attention_plot, sentence.split(' '), result.split(' '))"
      ],
      "execution_count": 31,
      "outputs": []
    },
    {
      "cell_type": "markdown",
      "metadata": {
        "id": "n250XbnjOaqP"
      },
      "source": [
        "## Restore the latest checkpoint and test"
      ]
    },
    {
      "cell_type": "code",
      "metadata": {
        "id": "UJpT9D5_OgP6",
        "colab": {
          "base_uri": "https://localhost:8080/"
        },
        "outputId": "2011bd36-6001-47dc-b8db-1cebd1883ebd"
      },
      "source": [
        "# restoring the latest checkpoint in checkpoint_dir\n",
        "checkpoint.restore(tf.train.latest_checkpoint(checkpoint_dir))"
      ],
      "execution_count": 32,
      "outputs": [
        {
          "output_type": "execute_result",
          "data": {
            "text/plain": [
              "<tensorflow.python.checkpoint.checkpoint.CheckpointLoadStatus at 0x7e194c673400>"
            ]
          },
          "metadata": {},
          "execution_count": 32
        }
      ]
    },
    {
      "cell_type": "code",
      "metadata": {
        "id": "WrAM0FDomq3E",
        "colab": {
          "base_uri": "https://localhost:8080/",
          "height": 1000
        },
        "outputId": "73e04545-5dac-455d-ff12-a835ab88a896"
      },
      "source": [
        "translate('Здесь хорошо.')"
      ],
      "execution_count": 33,
      "outputs": [
        {
          "output_type": "stream",
          "name": "stdout",
          "text": [
            "Input: <start> здесь хорошо . <end>\n",
            "Predicted translation: it's fine here . <end> \n"
          ]
        },
        {
          "output_type": "stream",
          "name": "stderr",
          "text": [
            "<ipython-input-30-ef64c003f9d5>:9: UserWarning: FixedFormatter should only be used together with FixedLocator\n",
            "  ax.set_xticklabels([''] + sentence, fontdict=fontdict, rotation=90)\n",
            "<ipython-input-30-ef64c003f9d5>:10: UserWarning: FixedFormatter should only be used together with FixedLocator\n",
            "  ax.set_yticklabels([''] + predicted_sentence, fontdict=fontdict)\n"
          ]
        },
        {
          "output_type": "display_data",
          "data": {
            "text/plain": [
              "<Figure size 1000x1000 with 1 Axes>"
            ],
            "image/png": "[encoded data removed]"
          },
          "metadata": {}
        }
      ]
    },
    {
      "cell_type": "code",
      "metadata": {
        "id": "5bhFfwcIMX5i",
        "colab": {
          "base_uri": "https://localhost:8080/",
          "height": 907
        },
        "outputId": "a1eb8524-58d2-48c3-d56b-2b98c91d4c8a"
      },
      "source": [
        "translate('Я не смогу поехать.')"
      ],
      "execution_count": 34,
      "outputs": [
        {
          "output_type": "stream",
          "name": "stdout",
          "text": [
            "Input: <start> я не смогу поехать . <end>\n",
            "Predicted translation: i can't go . <end> \n"
          ]
        },
        {
          "output_type": "stream",
          "name": "stderr",
          "text": [
            "<ipython-input-30-ef64c003f9d5>:9: UserWarning: FixedFormatter should only be used together with FixedLocator\n",
            "  ax.set_xticklabels([''] + sentence, fontdict=fontdict, rotation=90)\n",
            "<ipython-input-30-ef64c003f9d5>:10: UserWarning: FixedFormatter should only be used together with FixedLocator\n",
            "  ax.set_yticklabels([''] + predicted_sentence, fontdict=fontdict)\n"
          ]
        },
        {
          "output_type": "display_data",
          "data": {
            "text/plain": [
              "<Figure size 1000x1000 with 1 Axes>"
            ],
            "image/png": "[encoded data removed]"
          },
          "metadata": {}
        }
      ]
    },
    {
      "cell_type": "code",
      "metadata": {
        "id": "zSx2iM36EZQZ",
        "colab": {
          "base_uri": "https://localhost:8080/",
          "height": 1000
        },
        "outputId": "cc48543b-fdd7-40d3-89e0-1e016eeb67ae"
      },
      "source": [
        "translate(u'Вы еще дома?')"
      ],
      "execution_count": 35,
      "outputs": [
        {
          "output_type": "stream",
          "name": "stdout",
          "text": [
            "Input: <start> вы еще дома ? <end>\n",
            "Predicted translation: are you still home ? <end> \n"
          ]
        },
        {
          "output_type": "stream",
          "name": "stderr",
          "text": [
            "<ipython-input-30-ef64c003f9d5>:9: UserWarning: FixedFormatter should only be used together with FixedLocator\n",
            "  ax.set_xticklabels([''] + sentence, fontdict=fontdict, rotation=90)\n",
            "<ipython-input-30-ef64c003f9d5>:10: UserWarning: FixedFormatter should only be used together with FixedLocator\n",
            "  ax.set_yticklabels([''] + predicted_sentence, fontdict=fontdict)\n"
          ]
        },
        {
          "output_type": "display_data",
          "data": {
            "text/plain": [
              "<Figure size 1000x1000 with 1 Axes>"
            ],
            "image/png": "[encoded data removed]"
          },
          "metadata": {}
        }
      ]
    },
    {
      "cell_type": "code",
      "metadata": {
        "id": "A3LLCx3ZE0Ls",
        "colab": {
          "base_uri": "https://localhost:8080/",
          "height": 1000
        },
        "outputId": "283ab220-95e5-49a7-8591-9d837ecb9038"
      },
      "source": [
        "translate(u'Вы все еще дома?')"
      ],
      "execution_count": 36,
      "outputs": [
        {
          "output_type": "stream",
          "name": "stdout",
          "text": [
            "Input: <start> вы все еще дома ? <end>\n",
            "Predicted translation: are you still home ? <end> \n"
          ]
        },
        {
          "output_type": "stream",
          "name": "stderr",
          "text": [
            "<ipython-input-30-ef64c003f9d5>:9: UserWarning: FixedFormatter should only be used together with FixedLocator\n",
            "  ax.set_xticklabels([''] + sentence, fontdict=fontdict, rotation=90)\n",
            "<ipython-input-30-ef64c003f9d5>:10: UserWarning: FixedFormatter should only be used together with FixedLocator\n",
            "  ax.set_yticklabels([''] + predicted_sentence, fontdict=fontdict)\n"
          ]
        },
        {
          "output_type": "display_data",
          "data": {
            "text/plain": [
              "<Figure size 1000x1000 with 1 Axes>"
            ],
            "image/png": "[encoded data removed]"
          },
          "metadata": {}
        }
      ]
    },
    {
      "cell_type": "code",
      "metadata": {
        "id": "DUQVLVqUE1YW",
        "colab": {
          "base_uri": "https://localhost:8080/",
          "height": 1000
        },
        "outputId": "d4635d98-3bf7-4cec-cbe4-6364724f5f42"
      },
      "source": [
        "translate(u'Попробуй сделать это.')"
      ],
      "execution_count": 37,
      "outputs": [
        {
          "output_type": "stream",
          "name": "stdout",
          "text": [
            "Input: <start> попробуй сделать это . <end>\n",
            "Predicted translation: try to do it . <end> \n"
          ]
        },
        {
          "output_type": "stream",
          "name": "stderr",
          "text": [
            "<ipython-input-30-ef64c003f9d5>:9: UserWarning: FixedFormatter should only be used together with FixedLocator\n",
            "  ax.set_xticklabels([''] + sentence, fontdict=fontdict, rotation=90)\n",
            "<ipython-input-30-ef64c003f9d5>:10: UserWarning: FixedFormatter should only be used together with FixedLocator\n",
            "  ax.set_yticklabels([''] + predicted_sentence, fontdict=fontdict)\n"
          ]
        },
        {
          "output_type": "display_data",
          "data": {
            "text/plain": [
              "<Figure size 1000x1000 with 1 Axes>"
            ],
            "image/png": "[encoded data removed]"
          },
          "metadata": {}
        }
      ]
    },
    {
      "cell_type": "code",
      "metadata": {
        "id": "f09_hUFx9EJh",
        "colab": {
          "base_uri": "https://localhost:8080/",
          "height": 858
        },
        "outputId": "58fab43e-a9ed-41fa-9263-e9afeb04f6df"
      },
      "source": [
        "translate(u'Я не люблю, когда идет снег.')"
      ],
      "execution_count": 38,
      "outputs": [
        {
          "output_type": "stream",
          "name": "stdout",
          "text": [
            "Input: <start> я не люблю , когда идет снег . <end>\n",
            "Predicted translation: i don't agree if snow . <end> \n"
          ]
        },
        {
          "output_type": "stream",
          "name": "stderr",
          "text": [
            "<ipython-input-30-ef64c003f9d5>:9: UserWarning: FixedFormatter should only be used together with FixedLocator\n",
            "  ax.set_xticklabels([''] + sentence, fontdict=fontdict, rotation=90)\n",
            "<ipython-input-30-ef64c003f9d5>:10: UserWarning: FixedFormatter should only be used together with FixedLocator\n",
            "  ax.set_yticklabels([''] + predicted_sentence, fontdict=fontdict)\n"
          ]
        },
        {
          "output_type": "display_data",
          "data": {
            "text/plain": [
              "<Figure size 1000x1000 with 1 Axes>"
            ],
            "image/png": "[encoded data removed]"
          },
          "metadata": {}
        }
      ]
    },
    {
      "cell_type": "code",
      "metadata": {
        "id": "e7c5p8rmkHQG",
        "colab": {
          "base_uri": "https://localhost:8080/",
          "height": 923
        },
        "outputId": "33881958-6a9f-4d2a-b7ec-30528e18d12c"
      },
      "source": [
        "translate(u'Я никогда такого не делаю.')"
      ],
      "execution_count": 39,
      "outputs": [
        {
          "output_type": "stream",
          "name": "stdout",
          "text": [
            "Input: <start> я никогда такого не делаю . <end>\n",
            "Predicted translation: i never do anything . <end> \n"
          ]
        },
        {
          "output_type": "stream",
          "name": "stderr",
          "text": [
            "<ipython-input-30-ef64c003f9d5>:9: UserWarning: FixedFormatter should only be used together with FixedLocator\n",
            "  ax.set_xticklabels([''] + sentence, fontdict=fontdict, rotation=90)\n",
            "<ipython-input-30-ef64c003f9d5>:10: UserWarning: FixedFormatter should only be used together with FixedLocator\n",
            "  ax.set_yticklabels([''] + predicted_sentence, fontdict=fontdict)\n"
          ]
        },
        {
          "output_type": "display_data",
          "data": {
            "text/plain": [
              "<Figure size 1000x1000 with 1 Axes>"
            ],
            "image/png": "[encoded data removed]"
          },
          "metadata": {}
        }
      ]
    },
    {
      "cell_type": "code",
      "metadata": {
        "id": "jdXES85KkTVS"
      },
      "source": [],
      "execution_count": null,
      "outputs": []
    }
  ]
}