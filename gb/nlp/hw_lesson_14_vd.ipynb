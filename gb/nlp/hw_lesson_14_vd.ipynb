{
  "cells": [
    {
      "cell_type": "markdown",
      "metadata": {
        "id": "rGjEWASiEy_F"
      },
      "source": [
        "# HW Урок 14. Transfer learning"
      ]
    },
    {
      "cell_type": "code",
      "execution_count": null,
      "metadata": {
        "id": "j9jkKZOIEy_N"
      },
      "outputs": [],
      "source": [
        "#!pip install pymorphy2[fast]\n",
        "#!pip install pymorphy2\n",
        "#!pip install annoy\n",
        "#!pip install stop_words"
      ]
    },
    {
      "cell_type": "code",
      "execution_count": null,
      "metadata": {
        "id": "Bf_qco3AEy_P"
      },
      "outputs": [],
      "source": [
        "import string\n",
        "import nltk\n",
        "import annoy\n",
        "import numpy as np\n",
        "import tensorflow as tf\n",
        "from pymorphy2 import MorphAnalyzer\n",
        "from stop_words import get_stop_words\n",
        "from tqdm import tqdm_notebook\n",
        "from transformers import TFAutoModel, AutoTokenizer"
      ]
    },
    {
      "cell_type": "code",
      "execution_count": null,
      "metadata": {
        "id": "jvo7MQOiEy_Q"
      },
      "outputs": [],
      "source": [
        "!head -3 prepared_answers.txt"
      ]
    },
    {
      "cell_type": "code",
      "execution_count": null,
      "metadata": {
        "id": "TWApeg8PEy_S"
      },
      "outputs": [],
      "source": [
        "assert True\n",
        "\n",
        "#Small preprocess of the answers\n",
        "\n",
        "question = None\n",
        "written = False\n",
        "\n",
        "with open(\"prepared_answers.txt\", \"w\") as fout:\n",
        "    with open(\"Otvety.txt\", \"r\") as fin:\n",
        "        for line in tqdm_notebook(fin):\n",
        "            if line.startswith(\"---\"):\n",
        "                written = False\n",
        "                continue\n",
        "            if not written and question is not None:\n",
        "                fout.write(question.replace(\"\\t\", \" \").strip() + \"\\t\" + line.replace(\"\\t\", \" \"))\n",
        "                written = True\n",
        "                question = None\n",
        "                continue\n",
        "            if not written:\n",
        "                question = line.strip()\n",
        "                continue"
      ]
    },
    {
      "cell_type": "code",
      "execution_count": null,
      "metadata": {
        "id": "difsSN4rEy_T"
      },
      "outputs": [],
      "source": [
        "def preprocess_txt(line):\n",
        "    spls = \"\".join(i for i in line.strip() if i not in exclude).split()\n",
        "    spls = [morpher.parse(i.lower())[0].normal_form for i in spls]\n",
        "    spls = [i for i in spls if i not in sw and i != \"\"]\n",
        "    return ' '.join(spls)"
      ]
    },
    {
      "cell_type": "code",
      "execution_count": null,
      "metadata": {
        "id": "WO4nsXejEy_T"
      },
      "outputs": [],
      "source": [
        "morpher = MorphAnalyzer()\n",
        "sw = set(get_stop_words(\"ru\") + nltk.corpus.stopwords.words('russian'))\n",
        "exclude = set(string.punctuation)"
      ]
    },
    {
      "cell_type": "code",
      "execution_count": null,
      "metadata": {
        "colab": {
          "referenced_widgets": [
            "5db53bb4ed1f40fdb08d53e5afec6dfa",
            "5a060d2ed8c448518ff129c3fd877851",
            "699d5788e5654c0f8fb86594bc592516",
            "08255aecf43e4c7f9750e54e148a243d",
            "47dfc81d8183426d957b919c50b78086",
            "9be18d588a8a4ca6abbaa42b7bbeb365"
          ]
        },
        "id": "LLw3IOeEEy_U",
        "outputId": "f4aa45e7-1cf0-4b8e-8d18-ba3af7719bbf"
      },
      "outputs": [
        {
          "data": {
            "application/vnd.jupyter.widget-view+json": {
              "model_id": "5db53bb4ed1f40fdb08d53e5afec6dfa",
              "version_major": 2,
              "version_minor": 0
            },
            "text/plain": [
              "HBox(children=(FloatProgress(value=0.0, description='Downloading', max=560.0, style=ProgressStyle(description_…"
            ]
          },
          "metadata": {},
          "output_type": "display_data"
        },
        {
          "name": "stdout",
          "output_type": "stream",
          "text": [
            "\n"
          ]
        },
        {
          "data": {
            "application/vnd.jupyter.widget-view+json": {
              "model_id": "5a060d2ed8c448518ff129c3fd877851",
              "version_major": 2,
              "version_minor": 0
            },
            "text/plain": [
              "HBox(children=(FloatProgress(value=0.0, description='Downloading', max=1883974656.0, style=ProgressStyle(descr…"
            ]
          },
          "metadata": {},
          "output_type": "display_data"
        },
        {
          "name": "stdout",
          "output_type": "stream",
          "text": [
            "\n"
          ]
        },
        {
          "name": "stderr",
          "output_type": "stream",
          "text": [
            "All model checkpoint layers were used when initializing TFBertModel.\n",
            "\n",
            "All the layers of TFBertModel were initialized from the model checkpoint at setu4993/LaBSE.\n",
            "If your task is similar to the task the model of the checkpoint was trained on, you can already use TFBertModel for predictions without further training.\n"
          ]
        },
        {
          "data": {
            "application/vnd.jupyter.widget-view+json": {
              "model_id": "699d5788e5654c0f8fb86594bc592516",
              "version_major": 2,
              "version_minor": 0
            },
            "text/plain": [
              "HBox(children=(FloatProgress(value=0.0, description='Downloading', max=239.0, style=ProgressStyle(description_…"
            ]
          },
          "metadata": {},
          "output_type": "display_data"
        },
        {
          "name": "stdout",
          "output_type": "stream",
          "text": [
            "\n"
          ]
        },
        {
          "data": {
            "application/vnd.jupyter.widget-view+json": {
              "model_id": "08255aecf43e4c7f9750e54e148a243d",
              "version_major": 2,
              "version_minor": 0
            },
            "text/plain": [
              "HBox(children=(FloatProgress(value=0.0, description='Downloading', max=5220781.0, style=ProgressStyle(descript…"
            ]
          },
          "metadata": {},
          "output_type": "display_data"
        },
        {
          "name": "stdout",
          "output_type": "stream",
          "text": [
            "\n"
          ]
        },
        {
          "data": {
            "application/vnd.jupyter.widget-view+json": {
              "model_id": "47dfc81d8183426d957b919c50b78086",
              "version_major": 2,
              "version_minor": 0
            },
            "text/plain": [
              "HBox(children=(FloatProgress(value=0.0, description='Downloading', max=9620993.0, style=ProgressStyle(descript…"
            ]
          },
          "metadata": {},
          "output_type": "display_data"
        },
        {
          "name": "stdout",
          "output_type": "stream",
          "text": [
            "\n"
          ]
        },
        {
          "data": {
            "application/vnd.jupyter.widget-view+json": {
              "model_id": "9be18d588a8a4ca6abbaa42b7bbeb365",
              "version_major": 2,
              "version_minor": 0
            },
            "text/plain": [
              "HBox(children=(FloatProgress(value=0.0, description='Downloading', max=112.0, style=ProgressStyle(description_…"
            ]
          },
          "metadata": {},
          "output_type": "display_data"
        },
        {
          "name": "stdout",
          "output_type": "stream",
          "text": [
            "\n"
          ]
        }
      ],
      "source": [
        "bert = TFAutoModel.from_pretrained(\"setu4993/LaBSE\")\n",
        "tokenizer = AutoTokenizer.from_pretrained(\"setu4993/LaBSE\")"
      ]
    },
    {
      "cell_type": "code",
      "execution_count": null,
      "metadata": {
        "colab": {
          "referenced_widgets": [
            "fce0fcd7502646ba80021a04c26b986d"
          ]
        },
        "id": "ej-8xj46Ey_V",
        "outputId": "d705af98-b997-4b3e-e423-45f0ecaaa5ff"
      },
      "outputs": [
        {
          "name": "stderr",
          "output_type": "stream",
          "text": [
            "<ipython-input-42-a19036b625f7>:5: TqdmDeprecationWarning: This function will be removed in tqdm==5.0.0\n",
            "Please use `tqdm.notebook.tqdm` instead of `tqdm.tqdm_notebook`\n",
            "  for line in tqdm_notebook(f):\n"
          ]
        },
        {
          "data": {
            "application/vnd.jupyter.widget-view+json": {
              "model_id": "fce0fcd7502646ba80021a04c26b986d",
              "version_major": 2,
              "version_minor": 0
            },
            "text/plain": [
              "HBox(children=(FloatProgress(value=1.0, bar_style='info', max=1.0), HTML(value='')))"
            ]
          },
          "metadata": {},
          "output_type": "display_data"
        },
        {
          "name": "stdout",
          "output_type": "stream",
          "text": [
            "\n"
          ]
        }
      ],
      "source": [
        "q_len = []\n",
        "a_len = []\n",
        "with open(\"prepared_answers.txt\", \"r\") as f:\n",
        "    counter = 0\n",
        "    for line in tqdm_notebook(f):\n",
        "        spls = line.split(\"\\t\")\n",
        "        q_len.append(len(spls[0].split()))\n",
        "        a_len.append(len(spls[1].split()))"
      ]
    },
    {
      "cell_type": "code",
      "execution_count": null,
      "metadata": {
        "id": "LwNWXHqMEy_W",
        "outputId": "b109b3bc-4d3f-4515-d540-9065055a0854"
      },
      "outputs": [
        {
          "data": {
            "text/plain": [
              "(12.0, 20.454707214215595, 21.0, 31.0, 63.0, 862)"
            ]
          },
          "execution_count": 47,
          "metadata": {},
          "output_type": "execute_result"
        }
      ],
      "source": [
        "np.median(q_len), np.mean(q_len), np.quantile(q_len, 0.75), np.quantile(q_len, 0.85), np.quantile(q_len, 0.95), np.max(q_len)"
      ]
    },
    {
      "cell_type": "code",
      "execution_count": null,
      "metadata": {
        "id": "9Crnyg6PEy_Y"
      },
      "outputs": [],
      "source": [
        "bert_index = annoy.AnnoyIndex(768 , 'angular')\n",
        "\n",
        "index_map = {}\n",
        "counter = 0\n",
        "with open(\"prepared_answers.txt\", \"r\") as f:\n",
        "    for line in tqdm_notebook(f):\n",
        "        spls = line.split(\"\\t\")\n",
        "        if len(spls[0].split()) < 2 or len(spls[1].split()) < 3 or len(spls[0].split()) > 15:\n",
        "            continue\n",
        "\n",
        "        index_map[counter] = spls[1]\n",
        "        question = preprocess_txt(spls[0])\n",
        "\n",
        "        tok = tokenizer(question, return_token_type_ids=False, return_tensors='tf')\n",
        "        out_state = bert(**tok)[1].numpy()[0]\n",
        "        bert_index.add_item(counter, out_state)\n",
        "        counter += 1\n",
        "\n",
        "\n",
        "bert_index.build(10)"
      ]
    },
    {
      "cell_type": "code",
      "execution_count": null,
      "metadata": {
        "id": "P9gHwmk5Ey_a"
      },
      "outputs": [],
      "source": [
        "bert_index.save('bert_index')"
      ]
    },
    {
      "cell_type": "code",
      "execution_count": null,
      "metadata": {
        "id": "MrKHQcIpEy_a",
        "outputId": "d5a9979e-a53b-4b3e-9e78-b4076031324c"
      },
      "outputs": [
        {
          "data": {
            "text/plain": [
              "True"
            ]
          },
          "execution_count": 15,
          "metadata": {},
          "output_type": "execute_result"
        }
      ],
      "source": [
        "bert_index.build(10)"
      ]
    },
    {
      "cell_type": "code",
      "execution_count": null,
      "metadata": {
        "id": "HhEx7FgIEy_b"
      },
      "outputs": [],
      "source": [
        "def get_response(question, index, index_map):\n",
        "    question = preprocess_txt(question)\n",
        "    tok = tokenizer(question, return_token_type_ids=False, return_tensors='tf')\n",
        "    vector = bert(**tok)[1].numpy()[0]\n",
        "    answers = index.get_nns_by_vector(vector, 1, )\n",
        "    return [index_map[i] for i in answers]"
      ]
    },
    {
      "cell_type": "code",
      "execution_count": null,
      "metadata": {
        "id": "3_BToz0gEy_c",
        "outputId": "75f61757-0202-422a-a52f-645c8d2c4dc3"
      },
      "outputs": [
        {
          "data": {
            "text/plain": [
              "['В семью или на работу?. \\n']"
            ]
          },
          "execution_count": 18,
          "metadata": {},
          "output_type": "execute_result"
        }
      ],
      "source": [
        "get_response(\"какой навигатор выбрать?\", bert_index, index_map)"
      ]
    },
    {
      "cell_type": "code",
      "execution_count": null,
      "metadata": {
        "id": "m3ECOzarEy_c"
      },
      "outputs": [],
      "source": [
        "get_response(\"какие новые фильмы есть?\", bert_index, index_map)"
      ]
    },
    {
      "cell_type": "code",
      "execution_count": null,
      "metadata": {
        "id": "tpy4qcPqEy_d",
        "outputId": "57fc6141-12a4-4791-ea97-1ed8e3c49561"
      },
      "outputs": [
        {
          "data": {
            "text/plain": [
              "['Отпуск по обмену / The Holiday (2006 <br>Идеальное Рождество (Снежный глобус) / Snowglobe (2007) <br>Рождественский коттедж / Christmas Cottage (2008) <br>Ёлки (2010) <br>Новогодние сваты (2010) <br>Снежный принц / Snow Prince (2009) <br>Суженый-ряженый (2007) <br>Полночный поцелуй\" (2008) <br>Ирония судьбы 2: Продолжение (2007) <br>История любви, или Новогодний розыгрыш (2008) <br>Карнавальная ночь-2, или 50 лет спустя (2006) <br>Новогодние сваты (2010) <br>Удивительная история 2008 <br>Идеальное Рождество 2007 <br>Реальная любовь 2003 <br>Эван Всемогущий 2007 <br>Четыре Рождества 2008 <br>Рождественский коттедж 2008 <br>Санта на продажу 2010 <br>Санта-Хрякус: Страшдественская сказка 2006 <br>Свадьба на Рождество 2006 <br>Нянька на Рождество 2010 <br>Добро пожаловать, или Соседям вход 2006 <br>Миллион на Рождество 2007 <br>Наконец-то Рождество 2008 <br>Наследство к Рождеству 2007 <br>Новогодняя засада (2008) <br>Новогодняя семейка (2008) <br>Новогодние приключения в июле (2008) <br>Новогодние сваты (2010) <br>Моя мама - Снегурочка (2007) <br>Странное Рождество (2006) <br>Суженый-ряженый (2007) <br>Тариф \"Новогодний\" (2008) <br>Тушите свет (2008) <br>Пока ты спал / While You Were Sleeping (1995) <br>Отпуск по обмену / The Holiday (2006 <br>Семьянин / The Family Man (2000) <br>Идеальное Рождество (Снежный глобус) / Snowglobe (2007) <br>Семья напрокат / Borrowed Hearts (1997) <br>Привет семье / The Family Stone (2005) <br>Рождественский коттедж / Christmas Cottage (2008) <br>Ноэль / Noel (2004) <br>Реальная любовь / Love Actually (2003) <br>Счастливого Рождества / Joyeux Noel (2005) <br>Новогодний романс (2004 ) <br>Ёлки (2010) <br>Новогодние сваты (2010) <br>Снежный принц / Snow Prince (2009) <br>Суженый-ряженый (2007) <br>Бойфренд на рождество <br>Снежная любовь или Сон в зимнюю ночь <br>Один в новогоднюю ночь <br>Полночный поцелуй\" (2008) <br>Прощайте, доктор Фрейд <br>Тариф новогодний <br>Операция с новым годом <br>Богатенький Ричи <br>Операция \"Праведник\" <br>Чародеи <br>Суженый - ряженый <br>Ирония судьбы, или С лёгким паром! (1975) <br>Ирония судьбы 2: Продолжение (2007) <br>История любви, или Новогодний розыгрыш (2008) <br>Карнавальная ночь (1956) <br>Карнавальная ночь-2 (1996) <br>Карнавальная ночь-2, или 50 лет спустя (2006) <br>Новогодние сваты (2010) <br>Новогодний романс (2003 <br>Приходи на меня посмотреть (2002 <br>Давай поженимся 2008 <br>Двенадцать дней Рождества 1993 <br>Дневник Бриджет Джонс 2001 <br>Вам письмо 1998 <br>Влюбленные 1984 <br>Том и Томас 2002 <br>Требуется папа на Рождество 2003 <br>Удивительная история 2008 <br>Идеальное Рождество 2007 <br>Интуиция \\\\ Serendipity 2001 <br>Реальная любовь. <br>Привет семье. <br>Эта замечательная жизнь. <br>Встреть меня в СентЛуисе <br>Тариф новогодний <br>Реальная любовь 2003 <br>Рождественская история1984 <br>Рождественская история 1983 <br> <br>вот тут широкий выбор. . <br>http://rutracker.org/forum/viewtopic.php?t=3296926 <br>http://goldteam.su/forum/index.php?showtopic=75001 <br>1.РОЖДЕСТВЕНСКИЕ и НОВОГОДНИЕ фильмы ОТЕЧЕСТВЕННЫЕ здесь : http://bob-many.livejournal.com/139585.h... <br>2.РОЖДЕСТВЕНСКИЕ и НОВОГОДНИЕ фильмы ЗАРУБЕЖНЫЕ здесь : http://bob-many.livejournal.com/254767.h... <br>[ссылка заблокирована по решению администрации проекта] <br>http://kinoboom.com/kollekciya/novogodnie-filmy <br>http://gorod-zhe.ru/page/novogodnee-kino-spisok-luchshego. \\n']"
            ]
          },
          "execution_count": 21,
          "metadata": {},
          "output_type": "execute_result"
        }
      ],
      "source": [
        "get_response(\"какие новые фильмы посмотреть?\", bert_index, index_map)"
      ]
    },
    {
      "cell_type": "code",
      "execution_count": null,
      "metadata": {
        "id": "4PAtxGreEy_e",
        "outputId": "86021c68-b67e-4851-9819-203d74549caa"
      },
      "outputs": [
        {
          "data": {
            "text/plain": [
              "['Это конкретное предложение? или просто так ...интересуешься?. \\n',\n",
              " 'Только не под себя.... \\n']"
            ]
          },
          "execution_count": 25,
          "metadata": {},
          "output_type": "execute_result"
        }
      ],
      "source": [
        "get_response(\"куда можно сходить?\", bert_index, index_map)"
      ]
    }
  ],
  "metadata": {
    "kernelspec": {
      "display_name": "Python 3",
      "language": "python",
      "name": "python3"
    },
    "language_info": {
      "codemirror_mode": {
        "name": "ipython",
        "version": 3
      },
      "file_extension": ".py",
      "mimetype": "text/x-python",
      "name": "python",
      "nbconvert_exporter": "python",
      "pygments_lexer": "ipython3",
      "version": "3.8.3"
    },
    "colab": {
      "provenance": []
    }
  },
  "nbformat": 4,
  "nbformat_minor": 0
}